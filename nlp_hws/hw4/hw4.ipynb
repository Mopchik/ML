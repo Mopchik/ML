{
  "cells": [
    {
      "cell_type": "markdown",
      "id": "aa6c9d7e-8f48-41e9-94ab-5c3b1b717694",
      "metadata": {
        "id": "aa6c9d7e-8f48-41e9-94ab-5c3b1b717694"
      },
      "source": [
        "# Глубинное обучение для текстовых данных, ФКН ВШЭ\n",
        "## Домашнее задание 4: уменьшение размеров модели\n",
        "### Оценивание и штрафы\n",
        "\n",
        "Максимально допустимая оценка за работу — __14 баллов__. Сдавать задание после указанного срока сдачи нельзя.\n",
        "\n",
        "Задание выполняется самостоятельно. «Похожие» решения считаются плагиатом и все задействованные студенты (в том числе те, у кого списали) не могут получить за него больше 0 баллов. Весь код должен быть написан самостоятельно. Чужим кодом для пользоваться запрещается даже с указанием ссылки на источник. В разумных рамках, конечно. Взять пару очевидных строчек кода для реализации какого-то небольшого функционала можно.\n",
        "\n",
        "Неэффективная реализация кода может негативно отразиться на оценке. Также оценка может быть снижена за плохо читаемый код и плохо оформленные графики. Все ответы должны сопровождаться кодом или комментариями о том, как они были получены.\n",
        "\n",
        "__Мягкий дедлайн 20.12.23__ \\\n",
        "__Жесткий дедлайн 20.12.23__\n",
        "\n",
        "### О задании\n",
        "\n",
        "В этом задании вам предстоит научиться решать задачу Named Entity Recognition (NER) на самом популярном датасете – [CoNLL-2003](https://paperswithcode.com/dataset/conll-2003). В вашем распоряжении будет предобученный BERT, который вам необходимо уменьшить без потерь в качестве. Задание разделено на две части. Первая часть состоит из набора методов по уменьшению модели, которые нужно реализовать по инструкции. Вторая часть – это творческое соревнование, в котором вы можете пользоваться любыми методами, кроме ансамблирования и использования дополнительных данных. Дополнительное условие соревнования: размер вашей модели __не может превышать 20M параметров__.\n",
        "\n",
        "__!!ВАЖНО!!__ Вам придется проводить довольно много экспериментов, поэтому мы рекомендуем не писать весь код в тетрадке, а завести разные файлы для отдельных логических блоков и скомпоновать все в виде проекта. Это позволит вашему ноутбуку не разрастаться и сильно облегчит задачу и вам, и проверяющим.\n",
        "\n",
        "\n",
        "### О датасете\n",
        "\n",
        "В CoNLL-2003 для именования сущностей используется маркировка **BIO** (Beggining, Inside, Outside), в которой метки означают следующее:\n",
        "\n",
        "- *B-{метка}* – начало сущности *{метка}*\n",
        "- *I-{метка}* – продолжнение сущности *{метка}*\n",
        "- *O* – не сущность\n",
        "\n",
        "Существуют так же и другие способы маркировки, например, BILUO. Почитать о них можно [тут](https://en.wikipedia.org/wiki/Inside–outside–beginning_(tagging)) и [тут](https://www.youtube.com/watch?v=dQw4w9WgXcQ).\n",
        "\n",
        "Всего в датасете есть 9 разных меток.\n",
        "- O – слову не соответствует ни одна сущность.\n",
        "- B-PER/I-PER – слово или набор слов соответстует определенному _человеку_.\n",
        "- B-ORG/I-ORG – слово или набор слов соответстует определенной _организации_.\n",
        "- B-LOC/I-LOC – слово или набор слов соответстует определенной _локации_.\n",
        "- B-MISC/I-MISC – слово или набор слов соответстует сущности, которая не относится ни к одной из предыдущих. Например, национальность, произведение искусства, мероприятие и т.д.\n",
        "\n",
        "Приступим!"
      ]
    },
    {
      "cell_type": "code",
      "execution_count": null,
      "id": "ab00b846-b353-43a2-9ee8-dc19ca6fd2cd",
      "metadata": {
        "colab": {
          "base_uri": "https://localhost:8080/"
        },
        "id": "ab00b846-b353-43a2-9ee8-dc19ca6fd2cd",
        "outputId": "5ca8f608-b19f-46ae-f1e8-68b36425c4b6"
      },
      "outputs": [
        {
          "output_type": "execute_result",
          "data": {
            "text/plain": [
              "device(type='cuda')"
            ]
          },
          "metadata": {},
          "execution_count": 4
        }
      ],
      "source": [
        "import os\n",
        "import numpy as np\n",
        "import torch\n",
        "import torch.nn as nn\n",
        "import torch.nn.functional as F\n",
        "from transformers import AutoModelForTokenClassification, AutoTokenizer, DataCollatorForTokenClassification\n",
        "from torch.utils.data import DataLoader\n",
        "from typing import Dict, List\n",
        "\n",
        "device = torch.device('cuda' if torch.cuda.is_available else 'cpu')\n",
        "device"
      ]
    },
    {
      "cell_type": "markdown",
      "id": "c13c5834-9f37-4cd3-a555-ec9655e02e04",
      "metadata": {
        "id": "c13c5834-9f37-4cd3-a555-ec9655e02e04"
      },
      "source": [
        "__Задание 1 (0.5 балла)__ Допишите функцию `read_conll2003` для чтения датасета. Внутри она должна проитерироваться по всем строкам файла и для каждого примера составить словарь с полями `words` и `tags` (слова и тэги текста соответственно). На выход функция возвращает список полученных словарей. Тексты в файле разделяются переносом строки `\\n`, а слова и тэги – проблелом. Пример:\n",
        "```\n",
        "! head -n 15 CoNLL2003/train.txt\n",
        "\n",
        "EU B-ORG\n",
        "rejects O\n",
        "German B-MISC\n",
        "call O\n",
        "to O\n",
        "boycott O\n",
        "British B-MISC\n",
        "lamb O\n",
        ". O\n",
        "\n",
        "Peter B-PER\n",
        "Blackburn I-PER\n",
        "\n",
        "BRUSSELS B-LOC\n",
        "1996-08-22 O\n",
        "```"
      ]
    },
    {
      "cell_type": "code",
      "execution_count": null,
      "id": "a7c1a5b0-6ca1-4159-9ce6-cff88aca6b96",
      "metadata": {
        "id": "a7c1a5b0-6ca1-4159-9ce6-cff88aca6b96"
      },
      "outputs": [],
      "source": [
        "def read_conll2003(path: str) -> List[Dict[str, str]]:\n",
        "    \"\"\"\n",
        "    Read data in CoNNL like format.\n",
        "    \"\"\"\n",
        "\n",
        "    dataset = []\n",
        "\n",
        "    with open(path, 'r') as file:\n",
        "        lines = file.readlines()\n",
        "\n",
        "    temp_dict = {'words':[], 'tags':[]}\n",
        "    for line in lines:\n",
        "      if line != \"\\n\":\n",
        "          splited = line.strip().split(' ')\n",
        "          temp_dict['words'].append(splited[0])\n",
        "          temp_dict['tags'].append(splited[1])\n",
        "      else:\n",
        "          dataset.append(temp_dict)\n",
        "          temp_dict = {'words':[], 'tags':[]}\n",
        "\n",
        "\n",
        "    return dataset"
      ]
    },
    {
      "cell_type": "markdown",
      "id": "6a3281d6-a44d-4680-bb40-de8ba48a686f",
      "metadata": {
        "id": "6a3281d6-a44d-4680-bb40-de8ba48a686f"
      },
      "source": [
        "Прочитаем тренировочный и валидационный датасеты."
      ]
    },
    {
      "cell_type": "code",
      "execution_count": null,
      "id": "04b0e34d-edca-40bc-83ac-cff0c2872f87",
      "metadata": {
        "id": "04b0e34d-edca-40bc-83ac-cff0c2872f87"
      },
      "outputs": [],
      "source": [
        "train_dataset = read_conll2003(\"CoNLL2003/train.txt\")\n",
        "valid_dataset = read_conll2003(\"CoNLL2003/valid.txt\")\n",
        "\n",
        "tags = ['B-LOC', 'B-MISC', 'B-ORG', 'B-PER', 'I-LOC', 'I-MISC', 'I-ORG', 'I-PER', 'O']"
      ]
    },
    {
      "cell_type": "code",
      "execution_count": null,
      "id": "958cdff9-6ea1-4f7f-808b-dbe5620c27e7",
      "metadata": {
        "id": "958cdff9-6ea1-4f7f-808b-dbe5620c27e7",
        "outputId": "ac364d03-0fef-4832-c540-f708fc2806e4",
        "colab": {
          "base_uri": "https://localhost:8080/"
        }
      },
      "outputs": [
        {
          "output_type": "stream",
          "name": "stdout",
          "text": [
            "EU\tB-ORG\n",
            "rejects\tO\n",
            "German\tB-MISC\n",
            "call\tO\n",
            "to\tO\n",
            "boycott\tO\n",
            "British\tB-MISC\n",
            "lamb\tO\n",
            ".\tO\n"
          ]
        }
      ],
      "source": [
        "sample = train_dataset[0]\n",
        "\n",
        "assert sample['words'] == ['EU', 'rejects', 'German', 'call', 'to', 'boycott', 'British', 'lamb', '.']\n",
        "assert sample['tags'] == ['B-ORG', 'O', 'B-MISC', 'O', 'O', 'O', 'B-MISC', 'O', 'O']\n",
        "\n",
        "for w, t in zip(sample['words'], sample['tags']):\n",
        "    print(f'{w}\\t{t}')"
      ]
    },
    {
      "cell_type": "markdown",
      "id": "9ef2312e-1335-4afa-a6e6-3cdde8515fe5",
      "metadata": {
        "id": "9ef2312e-1335-4afa-a6e6-3cdde8515fe5"
      },
      "source": [
        "На протяжении всего домашнего задания мы будем использовать _cased_ версию BERT, то есть токенизатор будет учитывать регистр слов. Для задачи NER регистр важен, так как имена и названия организаций или предметов искусства часто пишутся с большой буквы, и будет глупо прятать от модели такую информацию."
      ]
    },
    {
      "cell_type": "code",
      "execution_count": null,
      "id": "05edcd4e-5360-41a8-b403-a9084d6a3a4a",
      "metadata": {
        "id": "05edcd4e-5360-41a8-b403-a9084d6a3a4a",
        "colab": {
          "base_uri": "https://localhost:8080/",
          "height": 145,
          "referenced_widgets": [
            "06d0f11818a548d6ae8b87cec2274064",
            "b2e105200c6a4abbaf03151c812d1700",
            "3ccce5bcf45e48c3bb81bbb163c9e218",
            "bbe43833bd794aa5a9114e76e72cde25",
            "c0cc3096903a44dfb5b0237f4f355e52",
            "d8cf7c546b3243649c32a1a5994bb8bf",
            "92d0b0df708446a38d3369e3e3837c47",
            "19932284395e497aa4d6686100cfe639",
            "87bd3c6c5eea45a5965750439f1b850d",
            "b6334fef76df4077a68745dc4fbc0fc1",
            "375059cc28404b1484fde1c57173a48e",
            "4a2f7811f4e4439d8a12f45fce589ec5",
            "b5541108f12544a8a5e0694bf07261c8",
            "3a8dfb36b4b44f7293394f69e79b9a30",
            "ed48ac824ad041a69d4732d5de3625ed",
            "c7324c5f342844dfab8545c6d47961c8",
            "67039c68379c484e83d6f007031bd485",
            "fa8ea273b1f9494dbe17074ab38cc764",
            "fe1ebdfba0bf458ba2ce71f7ee8e7b9e",
            "f58bcd7b8af8465fab4011c26986c775",
            "62f90b4e5fa5480a8c91e6b86acbf756",
            "cd9ebeda4d624c67b37833f89e6f7e6c",
            "d64f32ee82db41cbab52fa3efb855207",
            "10c71a67aa4445ef87d78a5c293d6a6c",
            "874b4b21a8964c0590854acbcd8d8256",
            "674374a622924c87a2cc53477ea39ab9",
            "014c395f6de3448785f2da9e19ce9062",
            "c2f31314a7514f5986bdabef57424f10",
            "3d3e61a7d70a40b9983e89e00edca21c",
            "bb0a5f3741b94cefaa830f05c0bedef2",
            "ed36abd4e49740c78ab113f3cbc94281",
            "6e6e343e0ce648928122b25b7b22f87f",
            "38f7daaab60d43d2acbb521b126f6167",
            "d5212db86be04daf842902cfda8258be",
            "97a8ae786cfa4edaa8385d8737941851",
            "2e16bb2bcffa4d5192c218d348ce9226",
            "b3b3d03412904aa68599e0aac6960f32",
            "b31a1d4501754acd939988c9b76e97e5",
            "6c2467b4523b4dacadd9e6716c167776",
            "dff36fac480244a2883530ba84f9cb93",
            "d39399d0fc084c7e886db314e77872b4",
            "81f8f7fa9ca94b51b8830179c0c0ea8b",
            "6cbf36d6f4504baab2a1c41559fd9ec0",
            "d60aa32c3c48432c8829d5c08ea9e09a"
          ]
        },
        "outputId": "745a4ee6-3c2b-4c71-ba6e-2d00cd626d11"
      },
      "outputs": [
        {
          "output_type": "display_data",
          "data": {
            "text/plain": [
              "tokenizer_config.json:   0%|          | 0.00/29.0 [00:00<?, ?B/s]"
            ],
            "application/vnd.jupyter.widget-view+json": {
              "version_major": 2,
              "version_minor": 0,
              "model_id": "06d0f11818a548d6ae8b87cec2274064"
            }
          },
          "metadata": {}
        },
        {
          "output_type": "display_data",
          "data": {
            "text/plain": [
              "config.json:   0%|          | 0.00/570 [00:00<?, ?B/s]"
            ],
            "application/vnd.jupyter.widget-view+json": {
              "version_major": 2,
              "version_minor": 0,
              "model_id": "4a2f7811f4e4439d8a12f45fce589ec5"
            }
          },
          "metadata": {}
        },
        {
          "output_type": "display_data",
          "data": {
            "text/plain": [
              "vocab.txt:   0%|          | 0.00/213k [00:00<?, ?B/s]"
            ],
            "application/vnd.jupyter.widget-view+json": {
              "version_major": 2,
              "version_minor": 0,
              "model_id": "d64f32ee82db41cbab52fa3efb855207"
            }
          },
          "metadata": {}
        },
        {
          "output_type": "display_data",
          "data": {
            "text/plain": [
              "tokenizer.json:   0%|          | 0.00/436k [00:00<?, ?B/s]"
            ],
            "application/vnd.jupyter.widget-view+json": {
              "version_major": 2,
              "version_minor": 0,
              "model_id": "d5212db86be04daf842902cfda8258be"
            }
          },
          "metadata": {}
        }
      ],
      "source": [
        "tokenizer = AutoTokenizer.from_pretrained('bert-base-cased')"
      ]
    },
    {
      "cell_type": "markdown",
      "id": "09f64076-829a-49f1-af58-6fe60c66f965",
      "metadata": {
        "id": "09f64076-829a-49f1-af58-6fe60c66f965"
      },
      "source": [
        "Заметьте, что при токенизации слова могут разделиться на несколько токенов (как слово `lamb` из примера ниже), из-за чего появится несоответствие между числом токенов и тэгов. Это несоответствие нам придется устранить вручную."
      ]
    },
    {
      "cell_type": "code",
      "execution_count": null,
      "id": "fb6acafc-c94c-4c3a-9c55-82902436ab88",
      "metadata": {
        "id": "fb6acafc-c94c-4c3a-9c55-82902436ab88",
        "outputId": "682d53a6-7d60-4320-b85a-d119a0ac0b56",
        "colab": {
          "base_uri": "https://localhost:8080/"
        }
      },
      "outputs": [
        {
          "output_type": "stream",
          "name": "stdout",
          "text": [
            "Слова:  ['EU', 'rejects', 'German', 'call', 'to', 'boycott', 'British', 'lamb', '.']\n",
            "Токены: ['[CLS]', 'EU', 'rejects', 'German', 'call', 'to', 'boycott', 'British', 'la', '##mb', '.', '[SEP]']\n"
          ]
        }
      ],
      "source": [
        "inputs = tokenizer(sample['words'], is_split_into_words=True)\n",
        "print('Слова: ', sample['words'])\n",
        "print('Токены:', inputs.tokens())"
      ]
    },
    {
      "cell_type": "markdown",
      "id": "634984a1-6764-4249-9c8d-4c46f285430c",
      "metadata": {
        "id": "634984a1-6764-4249-9c8d-4c46f285430c"
      },
      "source": [
        "К счастью, из выхода токенизатора можно достать список с номерами слов, к которым относится каждый токен. Если номер встретился несколько раз подряд, то слово разделилось. Специальные символы не принадлежат никакому слову, поэтому их номер – `None`."
      ]
    },
    {
      "cell_type": "code",
      "execution_count": null,
      "id": "5ac4fd75-cfef-4b6c-b80e-8d55e6c6349f",
      "metadata": {
        "id": "5ac4fd75-cfef-4b6c-b80e-8d55e6c6349f",
        "outputId": "1bd64c39-063e-4919-906d-cfdb734e27ec",
        "colab": {
          "base_uri": "https://localhost:8080/"
        }
      },
      "outputs": [
        {
          "output_type": "execute_result",
          "data": {
            "text/plain": [
              "[None, 0, 1, 2, 3, 4, 5, 6, 7, 7, 8, None]"
            ]
          },
          "metadata": {},
          "execution_count": 10
        }
      ],
      "source": [
        "inputs.word_ids()"
      ]
    },
    {
      "cell_type": "markdown",
      "id": "e3eb3ca9-a8e1-4922-8c2d-dd6371396a9f",
      "metadata": {
        "id": "e3eb3ca9-a8e1-4922-8c2d-dd6371396a9f"
      },
      "source": [
        "__Задание 2 (0.5 балла)__ Допишите метод `get_inputs_and_aligned_labels` класса `Dataset`. Он принимает в себя объект из прочитанного выше датасета, токенизирует слова и выравнивает тэги. Выравнивание происходит следующим образом: если токен пренадлежит тому же слову, что и предыдущий токен, и его тэг начинается на `B`, то надо поменять `B` на `I`, потому что это уже продолжение сущности; в любом другом случае тэг токена остается таким же, какой был у соответствующего ему слова.\n",
        "\n",
        "Метод позвращает словарь с полями `input_ids` – результат токенизации, `labels` – индексы тэгов для каждого токена из маппинга `tag2id`, для специальных символов в качестве лейбла укажите -100, так как это значение по умолчанию, которое игнорируется при подсчете кросс-энтропии в классе `CrossEntropyLoss`."
      ]
    },
    {
      "cell_type": "code",
      "execution_count": null,
      "id": "3ebc8789-0bba-4c96-aa1a-84403c93260e",
      "metadata": {
        "id": "3ebc8789-0bba-4c96-aa1a-84403c93260e"
      },
      "outputs": [],
      "source": [
        "class Dataset:\n",
        "    def __init__(self, raw_dataset: List[Dict[str, str]], tag2id: Dict[str, int]):\n",
        "        \"\"\"\n",
        "        :params:\n",
        "        raw_dataset: output of read_conll2003 function\n",
        "        tag2id: mapping from tag name to its id\n",
        "        \"\"\"\n",
        "        self.dataset = raw_dataset\n",
        "        self.tag2id = tag2id\n",
        "\n",
        "    def get_inputs_and_aligned_labels(self, sample):\n",
        "        \"\"\"\n",
        "        Aligns tags with tokens and returns dict with token ids and tag ids.\n",
        "        \"\"\"\n",
        "        tokenized = tokenizer(sample['words'], is_split_into_words=True)\n",
        "        tags = sample['tags']\n",
        "\n",
        "        labels = [-100 if i is None else tag2id[tags[i]] for i in tokenized.word_ids()]\n",
        "\n",
        "        return {\n",
        "            'input_ids': tokenized['input_ids'],\n",
        "            'labels': labels\n",
        "        }\n",
        "\n",
        "    def __getitem__(self, idx):\n",
        "        sample = self.dataset[idx]\n",
        "        return self.get_inputs_and_aligned_labels(sample)\n",
        "\n",
        "    def __len__(self):\n",
        "        return len(self.dataset)"
      ]
    },
    {
      "cell_type": "code",
      "execution_count": null,
      "id": "8c04b6ce-6683-453e-acf9-dfbc54ed4b9b",
      "metadata": {
        "id": "8c04b6ce-6683-453e-acf9-dfbc54ed4b9b"
      },
      "outputs": [],
      "source": [
        "tag2id = {tag: i for i, tag in enumerate(tags)}\n",
        "id2tag = {i: tag for tag, i in tag2id.items()}\n",
        "\n",
        "train_dataset = Dataset(train_dataset, tag2id)\n",
        "valid_dataset = Dataset(valid_dataset, tag2id)"
      ]
    },
    {
      "cell_type": "code",
      "execution_count": null,
      "id": "d6bb3e93-65f7-465c-8f11-48e7fb1846f4",
      "metadata": {
        "id": "d6bb3e93-65f7-465c-8f11-48e7fb1846f4",
        "outputId": "f11be96f-6a97-4c55-de39-4b31ada189c2",
        "colab": {
          "base_uri": "https://localhost:8080/"
        }
      },
      "outputs": [
        {
          "output_type": "stream",
          "name": "stdout",
          "text": [
            "101\t[CLS]\t-100\t\n",
            "7270\tEU\t2\tB-ORG\n",
            "22961\trejects\t8\tO\n",
            "1528\tGerman\t1\tB-MISC\n",
            "1840\tcall\t8\tO\n",
            "1106\tto\t8\tO\n",
            "21423\tboycott\t8\tO\n",
            "1418\tBritish\t1\tB-MISC\n",
            "2495\tla\t8\tO\n",
            "12913\t##mb\t8\tO\n",
            "119\t.\t8\tO\n",
            "102\t[SEP]\t-100\t\n"
          ]
        }
      ],
      "source": [
        "sample = train_dataset[0]\n",
        "\n",
        "input_ids, labels = sample['input_ids'], sample['labels']\n",
        "\n",
        "assert input_ids == [101, 7270, 22961, 1528, 1840, 1106, 21423, 1418, 2495, 12913, 119, 102]\n",
        "assert labels == [-100, 2, 8, 1, 8, 8, 8, 1, 8, 8, 8, -100]\n",
        "\n",
        "for idx, token, label in zip(input_ids, tokenizer.convert_ids_to_tokens(input_ids), labels):\n",
        "    tag = id2tag[label] if label != -100 else ''\n",
        "    print(f'{idx}\\t{token}\\t{label}\\t{tag}')"
      ]
    },
    {
      "cell_type": "markdown",
      "id": "6838d966-c241-476e-9016-8ece166efae8",
      "metadata": {
        "id": "6838d966-c241-476e-9016-8ece166efae8"
      },
      "source": [
        "На данный момент наш датасет возвращает по индексу списки токенов и меток, но при формировании батча нам надо их дополнить паддингами. Для этого существует Collator – класс, который вызывается при формировании батча. Он принимает набор произвольных объектов из датасета и делает из них тензоры согласно инструкциям. Для задачи классификации последовательности имеется специальный `DataCollatorForTokenClassification`, который добавляет паддинги к токенам и меткам, что нам собственно и нужно."
      ]
    },
    {
      "cell_type": "code",
      "execution_count": null,
      "id": "fe6d9171-cd34-4f50-abc1-21af3f1ca15c",
      "metadata": {
        "id": "fe6d9171-cd34-4f50-abc1-21af3f1ca15c"
      },
      "outputs": [],
      "source": [
        "data_collator = DataCollatorForTokenClassification(tokenizer=tokenizer)"
      ]
    },
    {
      "cell_type": "code",
      "execution_count": null,
      "id": "c068d33c-d95d-472e-9e12-f6d13a37d630",
      "metadata": {
        "id": "c068d33c-d95d-472e-9e12-f6d13a37d630",
        "outputId": "21824959-0c5c-417e-d804-3e7ce5b6927c",
        "colab": {
          "base_uri": "https://localhost:8080/"
        }
      },
      "outputs": [
        {
          "output_type": "stream",
          "name": "stderr",
          "text": [
            "You're using a BertTokenizerFast tokenizer. Please note that with a fast tokenizer, using the `__call__` method is faster than using a method to encode the text followed by a call to the `pad` method to get a padded encoding.\n"
          ]
        },
        {
          "output_type": "stream",
          "name": "stdout",
          "text": [
            "Поля:\n",
            " dict_keys(['input_ids', 'attention_mask', 'labels'])\n",
            "\n",
            "Индексы токенов:\n",
            " tensor([[  101,  7270, 22961,  1528,  1840,  1106, 21423,  1418,  2495, 12913,\n",
            "           119,   102],\n",
            "        [  101,  1943, 14428,   102,     0,     0,     0,     0,     0,     0,\n",
            "             0,     0]])\n",
            "\n",
            "Индексы меток:\n",
            " tensor([[-100,    2,    8,    1,    8,    8,    8,    1,    8,    8,    8, -100],\n",
            "        [-100,    3,    7, -100, -100, -100, -100, -100, -100, -100, -100, -100]])\n"
          ]
        }
      ],
      "source": [
        "batch = data_collator([train_dataset[i] for i in range(2)])\n",
        "print('Поля:\\n', batch.keys())\n",
        "print('\\nИндексы токенов:\\n', batch['input_ids'])\n",
        "print('\\nИндексы меток:\\n', batch['labels'])"
      ]
    },
    {
      "cell_type": "markdown",
      "id": "326a4dc1-722f-4847-ba82-7d7804887edc",
      "metadata": {
        "id": "326a4dc1-722f-4847-ba82-7d7804887edc"
      },
      "source": [
        "Теперь мы готовы обернуть всю нашу красоту в `DataLoader`, по которому будем итерироваться при обучении."
      ]
    },
    {
      "cell_type": "code",
      "execution_count": null,
      "id": "72062a2a-9ef9-427a-8f45-11be27bdb73f",
      "metadata": {
        "id": "72062a2a-9ef9-427a-8f45-11be27bdb73f"
      },
      "outputs": [],
      "source": [
        "batch_size = 32\n",
        "\n",
        "train_loader = DataLoader(\n",
        "    train_dataset,\n",
        "    collate_fn=data_collator,\n",
        "    batch_size=batch_size,\n",
        "    pin_memory=True,\n",
        "    shuffle=True\n",
        ")\n",
        "\n",
        "valid_loader = DataLoader(\n",
        "    valid_dataset,\n",
        "    collate_fn=data_collator,\n",
        "    batch_size=batch_size,\n",
        "    pin_memory=True,\n",
        "    shuffle=False\n",
        ")"
      ]
    },
    {
      "cell_type": "markdown",
      "id": "354e9399-8393-4312-88aa-53b727d9df7d",
      "metadata": {
        "id": "354e9399-8393-4312-88aa-53b727d9df7d"
      },
      "source": [
        "### Метрика\n",
        "\n",
        "Для оценки качества NER чаще всего используется F1-мера. Разделяют два метода подсчета метрики:\n",
        "1) Token-level: считается правильность предсказания отденьной метки для каждого токена.\n",
        "2) Entity-level: считается правильность предсказания метки для всей сущности целиком независимо от того, сколько слов или токенов в нее входит.\n",
        "\n",
        "Обычно предпочтение отдается второму способу, так как иначе, во-первых, качество зависит от токенизации, а во-вторых, если сущность состоит из нескольких слов и модель выставляет словам разные метки, то становится непонятно, к какому именно классу относить данную сущность. Для практики такой результат настолько же плох, насколько полное неугадывание класса, поэтому странно давать за это баллы.\n",
        "\n",
        "Заметьте, предсказание `[I-PER', 'I-PER]` при верном `[B-PER', 'I-PER]` считается корректным, так как из него можно однозначно восстановить ответ, догадавшись, что не первом месте должно стоять `B-`. В то же время при верном `[B-PER', 'B-PER]` такое предсказание корректным не будет.\n",
        "\n",
        "Для подсчета метрики будем использовать уже готовое [решение](https://huggingface.co/spaces/evaluate-metric/seqeval) из библиотеки `seqeval` (семейство `huggingface`)."
      ]
    },
    {
      "cell_type": "code",
      "execution_count": null,
      "id": "a3df54ab-c65b-40e0-b479-25d6f29e5f4e",
      "metadata": {
        "id": "a3df54ab-c65b-40e0-b479-25d6f29e5f4e",
        "colab": {
          "base_uri": "https://localhost:8080/"
        },
        "outputId": "f55fe2e7-15f4-4564-be81-ea1682a6bfa4"
      },
      "outputs": [
        {
          "output_type": "stream",
          "name": "stdout",
          "text": [
            "Collecting seqeval\n",
            "  Downloading seqeval-1.2.2.tar.gz (43 kB)\n",
            "\u001b[?25l     \u001b[90m━━━━━━━━━━━━━━━━━━━━━━━━━━━━━━━━━━━━━━━━\u001b[0m \u001b[32m0.0/43.6 kB\u001b[0m \u001b[31m?\u001b[0m eta \u001b[36m-:--:--\u001b[0m\r\u001b[2K     \u001b[90m━━━━━━━━━━━━━━━━━━━━━━━━━━━━━━━━━━━━━━━━\u001b[0m \u001b[32m43.6/43.6 kB\u001b[0m \u001b[31m1.7 MB/s\u001b[0m eta \u001b[36m0:00:00\u001b[0m\n",
            "\u001b[?25h  Preparing metadata (setup.py) ... \u001b[?25l\u001b[?25hdone\n",
            "Requirement already satisfied: numpy>=1.14.0 in /usr/local/lib/python3.10/dist-packages (from seqeval) (1.23.5)\n",
            "Requirement already satisfied: scikit-learn>=0.21.3 in /usr/local/lib/python3.10/dist-packages (from seqeval) (1.2.2)\n",
            "Requirement already satisfied: scipy>=1.3.2 in /usr/local/lib/python3.10/dist-packages (from scikit-learn>=0.21.3->seqeval) (1.11.4)\n",
            "Requirement already satisfied: joblib>=1.1.1 in /usr/local/lib/python3.10/dist-packages (from scikit-learn>=0.21.3->seqeval) (1.3.2)\n",
            "Requirement already satisfied: threadpoolctl>=2.0.0 in /usr/local/lib/python3.10/dist-packages (from scikit-learn>=0.21.3->seqeval) (3.2.0)\n",
            "Building wheels for collected packages: seqeval\n",
            "  Building wheel for seqeval (setup.py) ... \u001b[?25l\u001b[?25hdone\n",
            "  Created wheel for seqeval: filename=seqeval-1.2.2-py3-none-any.whl size=16162 sha256=813d9f230d31c2895876401055a734a612469cf213befd442b332737c0dcd2d6\n",
            "  Stored in directory: /root/.cache/pip/wheels/1a/67/4a/ad4082dd7dfc30f2abfe4d80a2ed5926a506eb8a972b4767fa\n",
            "Successfully built seqeval\n",
            "Installing collected packages: seqeval\n",
            "Successfully installed seqeval-1.2.2\n"
          ]
        }
      ],
      "source": [
        "! pip install seqeval"
      ]
    },
    {
      "cell_type": "code",
      "execution_count": null,
      "id": "380833ce-1b8e-4b00-90ee-9126df16c19e",
      "metadata": {
        "id": "380833ce-1b8e-4b00-90ee-9126df16c19e"
      },
      "outputs": [],
      "source": [
        "from seqeval.metrics import f1_score, accuracy_score"
      ]
    },
    {
      "cell_type": "code",
      "execution_count": null,
      "id": "434bd7bc-badd-49b1-8024-7f7ff0e92f2a",
      "metadata": {
        "id": "434bd7bc-badd-49b1-8024-7f7ff0e92f2a",
        "outputId": "2e4d5853-a816-4fec-b770-9d475357cb39",
        "colab": {
          "base_uri": "https://localhost:8080/"
        }
      },
      "outputs": [
        {
          "output_type": "execute_result",
          "data": {
            "text/plain": [
              "(0.5714285714285714, 0.4)"
            ]
          },
          "metadata": {},
          "execution_count": 19
        }
      ],
      "source": [
        "# here are 7 labels in total, we guessed correctly 4 of them.\n",
        "\n",
        "predictions = [['O', 'I-PER', 'I-PER', 'O'], ['I-PER', 'I-PER', 'O']]\n",
        "references = [['O', 'B-PER', 'B-PER', 'O'], ['B-PER', 'I-PER', 'O']]\n",
        "acc = accuracy_score(predictions, references)\n",
        "f1 = f1_score(references, predictions)\n",
        "acc, f1"
      ]
    },
    {
      "cell_type": "code",
      "execution_count": null,
      "id": "948569a7-b918-408d-9e5e-c69cb2ad70ed",
      "metadata": {
        "id": "948569a7-b918-408d-9e5e-c69cb2ad70ed"
      },
      "outputs": [],
      "source": [
        "def calc_f1(predictions: List[List[int]], labels: List[List[int]]):\n",
        "    \"\"\"\n",
        "    :params:\n",
        "    predictions: list of lists of predicted labels\n",
        "    labels: list of lists of ground truth labels\n",
        "    \"\"\"\n",
        "    text_labels = [[id2tag[l] for l in label if l != -100] for label in labels]\n",
        "    text_predictions = []\n",
        "    for i in range(len(text_labels)):\n",
        "        # +1 because we skip the first ([CLS]) token\n",
        "        sample_text_preds = [id2tag[predictions[i][j + 1]] for j in range(len(text_labels[i]))]\n",
        "        text_predictions.append(sample_text_preds)\n",
        "\n",
        "    return f1_score(text_labels, text_predictions)"
      ]
    },
    {
      "cell_type": "markdown",
      "id": "a61400bf-712a-4dfb-a08f-326c5db10eb2",
      "metadata": {
        "id": "a61400bf-712a-4dfb-a08f-326c5db10eb2"
      },
      "source": [
        "### Модель\n",
        "\n",
        "В качестве начальной модели мы будем использовать предобученный BERT, а если быть точнее `bert-base-cased` из библиотеки `huggingface`. Он содержит 107М параметров. В последующих заданиях мы будем реализовывать методы для уменьшения его размеров с минимальной потерей качества.\n",
        "\n",
        "Для классификации последовательностей в `transformers` существует специальная обертка `AutoModelForTokenClassification`. Воспользуемся ею и обернем нашу модель."
      ]
    },
    {
      "cell_type": "code",
      "execution_count": null,
      "id": "14235f7c-d7a3-4407-98fe-be35bec84008",
      "metadata": {
        "id": "14235f7c-d7a3-4407-98fe-be35bec84008",
        "outputId": "204bdc80-65c7-4169-a648-7ce093dbdcb5",
        "colab": {
          "base_uri": "https://localhost:8080/",
          "height": 120,
          "referenced_widgets": [
            "e56cb0f67f48487ba03acfc226323cc4",
            "49fd4d2a6b4248aa8c7978514c45d5b5",
            "e5aad371f1ea4dcfa250492a58cef0f6",
            "297d89a171e646a8b7abb1d54bb6ab04",
            "90e9b9f922b2405296adec00ba95d5fb",
            "ee212557d75b49ab8bc38a67cb2ea59a",
            "d1f66065948f4f8d9828efcfa0cd0648",
            "70d21a0641424786944e27ee544acd68",
            "0907b150d7384218833434ebe496b07a",
            "9c3b2f364a424bf495f2246917c5b800",
            "e86ed4988b5a49b8a712e39bac7ba085"
          ]
        }
      },
      "outputs": [
        {
          "output_type": "display_data",
          "data": {
            "text/plain": [
              "model.safetensors:   0%|          | 0.00/436M [00:00<?, ?B/s]"
            ],
            "application/vnd.jupyter.widget-view+json": {
              "version_major": 2,
              "version_minor": 0,
              "model_id": "e56cb0f67f48487ba03acfc226323cc4"
            }
          },
          "metadata": {}
        },
        {
          "output_type": "stream",
          "name": "stderr",
          "text": [
            "Some weights of BertForTokenClassification were not initialized from the model checkpoint at bert-base-cased and are newly initialized: ['classifier.weight', 'classifier.bias']\n",
            "You should probably TRAIN this model on a down-stream task to be able to use it for predictions and inference.\n"
          ]
        },
        {
          "output_type": "stream",
          "name": "stdout",
          "text": [
            "Number of parameters: 107726601\n"
          ]
        }
      ],
      "source": [
        "model = AutoModelForTokenClassification.from_pretrained('bert-base-cased', id2label=id2tag, label2id=tag2id).to(device)\n",
        "print('Number of parameters:', sum([p.numel() for p in model.parameters()]))"
      ]
    },
    {
      "cell_type": "markdown",
      "id": "52a3fb2f-c76a-4070-bbea-be130243f18b",
      "metadata": {
        "id": "52a3fb2f-c76a-4070-bbea-be130243f18b"
      },
      "source": [
        "## Обучение всякого"
      ]
    },
    {
      "cell_type": "markdown",
      "id": "11672838-d407-448c-96ab-359559a46b6b",
      "metadata": {
        "id": "11672838-d407-448c-96ab-359559a46b6b"
      },
      "source": [
        "**Задание 3 (1 балл)** Все методы уменьшения размерности основываются на том, что у нас есть некоторая обученная модель. Сейчас у нас есть предобученный BERT, но на задачу MLM, а не NER. Дообучите BERT на нашем датасете. Ориентировочно у вас должно получиться значение F1 не меньше 0.93 на валидационной выборке. Само обучение никак не должно занимать больше получаса."
      ]
    },
    {
      "cell_type": "code",
      "source": [
        "import matplotlib.pyplot as plt\n",
        "from IPython.display import clear_output\n",
        "from torch.nn.functional import cross_entropy\n",
        "from tqdm import tqdm"
      ],
      "metadata": {
        "id": "qupdYsv1FdXY"
      },
      "id": "qupdYsv1FdXY",
      "execution_count": null,
      "outputs": []
    },
    {
      "cell_type": "code",
      "source": [
        "def ids2tokens(predicted_classes, real_classes):\n",
        "    predicted_tokens = []\n",
        "    labels = []\n",
        "    for i in range(len(predicted_classes)):\n",
        "        mask = (real_classes[i] != -100).tolist()\n",
        "        predicted_tokens.append([id2tag[idx] for idx in predicted_classes[i][mask].tolist()])\n",
        "        labels.append([id2tag[idx] for idx in real_classes[i][mask].tolist()])\n",
        "    return predicted_tokens, labels"
      ],
      "metadata": {
        "id": "egY_cZc2sHAa"
      },
      "id": "egY_cZc2sHAa",
      "execution_count": null,
      "outputs": []
    },
    {
      "cell_type": "code",
      "execution_count": null,
      "id": "1758fa30-9a34-4fd2-b59f-51cce62eb0e0",
      "metadata": {
        "id": "1758fa30-9a34-4fd2-b59f-51cce62eb0e0"
      },
      "outputs": [],
      "source": [
        "def train(model, train_loader, valid_loader, opt, num_epochs, criterion=cross_entropy, name='bert.pth'):\n",
        "    train_losses = []\n",
        "    valid_losses = []\n",
        "    train_f1 = []\n",
        "    valid_f1 = []\n",
        "    for i in range(num_epochs):\n",
        "        model.train()\n",
        "        train_epoch_loss = 0.\n",
        "        all_train_predictions = []\n",
        "        all_train_labels = []\n",
        "        train_num = 0\n",
        "        for batch in tqdm(train_loader):\n",
        "            X = batch['input_ids'].to(device)\n",
        "            y = batch['labels'].to(device)\n",
        "            preds = model(X)\n",
        "            loss = criterion(preds.logits.view(-1, len(tag2id)), y.view(-1))\n",
        "\n",
        "            opt.zero_grad()\n",
        "            loss.backward()\n",
        "            opt.step()\n",
        "\n",
        "            train_epoch_loss += loss.item()\n",
        "            train_num += 1\n",
        "\n",
        "            predicted_classes = torch.argmax(preds.logits, dim=-1)\n",
        "            predicted_tokens, labels = ids2tokens(predicted_classes, y)\n",
        "            all_train_predictions += predicted_tokens\n",
        "            all_train_labels += labels\n",
        "\n",
        "        train_losses.append((i, train_epoch_loss / train_num))\n",
        "        train_f1.append((i, f1_score(all_train_labels, all_train_predictions)))\n",
        "\n",
        "        with torch.no_grad():\n",
        "            model.eval()\n",
        "            valid_epoch_loss = 0.\n",
        "            all_valid_predictions = []\n",
        "            all_valid_labels = []\n",
        "            valid_num = 0\n",
        "            for batch in tqdm(valid_loader):\n",
        "                X = batch['input_ids'].to(device)\n",
        "                y = batch['labels'].to(device)\n",
        "                preds = model(X)\n",
        "                loss = criterion(preds.logits.view(-1, len(tag2id)), y.view(-1))\n",
        "                valid_epoch_loss += loss.item()\n",
        "                valid_num += 1\n",
        "\n",
        "                predicted_classes = torch.argmax(preds.logits, dim=-1)\n",
        "                predicted_tokens, labels = ids2tokens(predicted_classes, y)\n",
        "                all_valid_predictions += predicted_tokens\n",
        "                all_valid_labels += labels\n",
        "\n",
        "            valid_losses.append((i, valid_epoch_loss / valid_num))\n",
        "            valid_f1.append((i, f1_score(all_valid_labels, all_valid_predictions)))\n",
        "\n",
        "        clear_output(True)\n",
        "        plt.figure(figsize=(15, 5))\n",
        "\n",
        "        plt.subplot(121)\n",
        "        plt.plot(*zip(*train_losses), alpha=0.5, label='train_loss')\n",
        "        plt.plot(*zip(*valid_losses), color='red', label='eval_loss')\n",
        "        plt.legend()\n",
        "\n",
        "        plt.subplot(122)\n",
        "        plt.plot(*zip(*train_f1), alpha=0.5, label='train_f1')\n",
        "        plt.plot(*zip(*valid_f1), color='red', label='eval_f1')\n",
        "        plt.legend()\n",
        "        plt.show()\n",
        "\n",
        "        torch.save(model.state_dict(), name)\n",
        "    return train_losses, valid_losses, train_f1, valid_f1"
      ]
    },
    {
      "cell_type": "code",
      "source": [
        "num_epochs = 10\n",
        "optimizer = torch.optim.Adam(model.parameters(), lr=1e-5)\n",
        "train_losses, valid_losses, train_f1, valid_f1 = train(\n",
        "    model, train_loader, valid_loader, optimizer, num_epochs)"
      ],
      "metadata": {
        "colab": {
          "base_uri": "https://localhost:8080/",
          "height": 789
        },
        "id": "XyoPs3IQGc7f",
        "outputId": "35a0362e-de62-4e42-e280-27f0ab5ae483"
      },
      "id": "XyoPs3IQGc7f",
      "execution_count": null,
      "outputs": [
        {
          "output_type": "display_data",
          "data": {
            "text/plain": [
              "<Figure size 1500x500 with 2 Axes>"
            ],
            "image/png": "[encoded data removed]"
          },
          "metadata": {}
        },
        {
          "output_type": "stream",
          "name": "stderr",
          "text": [
            " 20%|█▉        | 92/469 [00:29<01:59,  3.17it/s]\n"
          ]
        },
        {
          "output_type": "error",
          "ename": "KeyboardInterrupt",
          "evalue": "ignored",
          "traceback": [
            "\u001b[0;31m---------------------------------------------------------------------------\u001b[0m",
            "\u001b[0;31mKeyboardInterrupt\u001b[0m                         Traceback (most recent call last)",
            "\u001b[0;32m<ipython-input-27-1bc4d0c64fce>\u001b[0m in \u001b[0;36m<cell line: 3>\u001b[0;34m()\u001b[0m\n\u001b[1;32m      1\u001b[0m \u001b[0mnum_epochs\u001b[0m \u001b[0;34m=\u001b[0m \u001b[0;36m10\u001b[0m\u001b[0;34m\u001b[0m\u001b[0;34m\u001b[0m\u001b[0m\n\u001b[1;32m      2\u001b[0m \u001b[0moptimizer\u001b[0m \u001b[0;34m=\u001b[0m \u001b[0mtorch\u001b[0m\u001b[0;34m.\u001b[0m\u001b[0moptim\u001b[0m\u001b[0;34m.\u001b[0m\u001b[0mAdam\u001b[0m\u001b[0;34m(\u001b[0m\u001b[0mmodel\u001b[0m\u001b[0;34m.\u001b[0m\u001b[0mparameters\u001b[0m\u001b[0;34m(\u001b[0m\u001b[0;34m)\u001b[0m\u001b[0;34m,\u001b[0m \u001b[0mlr\u001b[0m\u001b[0;34m=\u001b[0m\u001b[0;36m1e-5\u001b[0m\u001b[0;34m)\u001b[0m\u001b[0;34m\u001b[0m\u001b[0;34m\u001b[0m\u001b[0m\n\u001b[0;32m----> 3\u001b[0;31m train_losses, valid_losses, train_f1, valid_f1 = train(\n\u001b[0m\u001b[1;32m      4\u001b[0m     model, train_loader, valid_loader, optimizer, num_epochs)\n",
            "\u001b[0;32m<ipython-input-24-07baf15bcf10>\u001b[0m in \u001b[0;36mtrain\u001b[0;34m(model, train_loader, valid_loader, opt, num_epochs, criterion, name)\u001b[0m\n\u001b[1;32m     20\u001b[0m             \u001b[0mopt\u001b[0m\u001b[0;34m.\u001b[0m\u001b[0mstep\u001b[0m\u001b[0;34m(\u001b[0m\u001b[0;34m)\u001b[0m\u001b[0;34m\u001b[0m\u001b[0;34m\u001b[0m\u001b[0m\n\u001b[1;32m     21\u001b[0m \u001b[0;34m\u001b[0m\u001b[0m\n\u001b[0;32m---> 22\u001b[0;31m             \u001b[0mtrain_epoch_loss\u001b[0m \u001b[0;34m+=\u001b[0m \u001b[0mloss\u001b[0m\u001b[0;34m.\u001b[0m\u001b[0mitem\u001b[0m\u001b[0;34m(\u001b[0m\u001b[0;34m)\u001b[0m\u001b[0;34m\u001b[0m\u001b[0;34m\u001b[0m\u001b[0m\n\u001b[0m\u001b[1;32m     23\u001b[0m             \u001b[0mtrain_num\u001b[0m \u001b[0;34m+=\u001b[0m \u001b[0;36m1\u001b[0m\u001b[0;34m\u001b[0m\u001b[0;34m\u001b[0m\u001b[0m\n\u001b[1;32m     24\u001b[0m \u001b[0;34m\u001b[0m\u001b[0m\n",
            "\u001b[0;31mKeyboardInterrupt\u001b[0m: "
          ]
        }
      ]
    },
    {
      "cell_type": "code",
      "source": [
        "print('Final validation f1-score:', valid_f1[-1][1])"
      ],
      "metadata": {
        "colab": {
          "base_uri": "https://localhost:8080/"
        },
        "id": "7xMC3gxcHtq-",
        "outputId": "f8fa8377-29f9-418c-e5bd-b411813a391c"
      },
      "id": "7xMC3gxcHtq-",
      "execution_count": null,
      "outputs": [
        {
          "output_type": "stream",
          "name": "stdout",
          "text": [
            "Final validation f1-score: 0.9351818830242511\n"
          ]
        }
      ]
    },
    {
      "cell_type": "markdown",
      "source": [
        "Почему-то обучение перезапустилось, однако loss-ы и f1-меры сохранились, поэтому графики вывожу в ячейке ниже"
      ],
      "metadata": {
        "id": "6Q4os8Lk6EiK"
      },
      "id": "6Q4os8Lk6EiK"
    },
    {
      "cell_type": "code",
      "source": [
        "plt.figure(figsize=(15, 5))\n",
        "\n",
        "plt.subplot(121)\n",
        "plt.plot(*zip(*train_losses), alpha=0.5, label='train_loss')\n",
        "plt.plot(*zip(*valid_losses), color='red', label='eval_loss')\n",
        "plt.legend()\n",
        "\n",
        "plt.subplot(122)\n",
        "plt.plot(*zip(*train_f1), alpha=0.5, label='train_f1')\n",
        "plt.plot(*zip(*valid_f1), color='red', label='eval_f1')\n",
        "plt.legend()\n",
        "plt.show()\n",
        "\n",
        "print('Final validation f1-score:', valid_f1[-1][1])"
      ],
      "metadata": {
        "colab": {
          "base_uri": "https://localhost:8080/",
          "height": 462
        },
        "id": "DV8vxtXq5-Xc",
        "outputId": "de4d8e9c-8a91-4d65-cdaf-793019fd7555"
      },
      "id": "DV8vxtXq5-Xc",
      "execution_count": null,
      "outputs": [
        {
          "output_type": "display_data",
          "data": {
            "text/plain": [
              "<Figure size 1500x500 with 2 Axes>"
            ],
            "image/png": "[encoded data removed]"
          },
          "metadata": {}
        },
        {
          "output_type": "stream",
          "name": "stdout",
          "text": [
            "Final validation f1-score: 0.939629035134653\n"
          ]
        }
      ]
    },
    {
      "cell_type": "markdown",
      "id": "03dc9778-e7ce-4b45-88dd-210837be67d4",
      "metadata": {
        "id": "03dc9778-e7ce-4b45-88dd-210837be67d4"
      },
      "source": [
        "### Embedding factorization\n",
        "\n",
        "Можно заметить, что на данный момент матрица эмбеддингов занимает $V \\cdot H = 28996 \\cdot 768 = 22.268.928$ параметров. Это целая пятая часть от всей модели! Давайте попробуем с этим что-то сделать. В вариации [ALBERT](https://arxiv.org/pdf/1909.11942.pdf) предлагается факторизовать матрицу эмбеддингов в произведение двух небольших матриц. Таким образом, параметры эмбеддингов будут содержать $V \\cdot E + E \\cdot H$ элементов, что гораздо меньше, если $H \\gg E$. Авторы выбирают $E = 128$, однако ничего не мешает вам взять значение меньше.\n",
        "\n",
        "__Задание 4 (1 балл)__ Замените слой эмбеддингов на описанную факторизацию и дообучите полученную в предыдущем задании модель. Насколько вам удалось уменьшить число параметров? Если вы все сделали правильно, то F1-мера на валидации не должна опуститься ниже 0.9.\n",
        "\n",
        "Мы настоятельно рекомендуем переиспользовать код для обучения из предыдущего задания и не создавать новую функцию."
      ]
    },
    {
      "cell_type": "code",
      "source": [
        "model.bert.embeddings"
      ],
      "metadata": {
        "colab": {
          "base_uri": "https://localhost:8080/"
        },
        "id": "T4As48OQ6jdD",
        "outputId": "927f44db-c97d-484c-f950-619150847913"
      },
      "id": "T4As48OQ6jdD",
      "execution_count": null,
      "outputs": [
        {
          "output_type": "execute_result",
          "data": {
            "text/plain": [
              "BertEmbeddings(\n",
              "  (word_embeddings): Embedding(28996, 768, padding_idx=0)\n",
              "  (position_embeddings): Embedding(512, 768)\n",
              "  (token_type_embeddings): Embedding(2, 768)\n",
              "  (LayerNorm): LayerNorm((768,), eps=1e-12, elementwise_affine=True)\n",
              "  (dropout): Dropout(p=0.1, inplace=False)\n",
              ")"
            ]
          },
          "metadata": {},
          "execution_count": 69
        }
      ]
    },
    {
      "cell_type": "code",
      "source": [
        "def factorize_matrix(matrix, target_rank):\n",
        "    U = torch.randn((matrix.size(0), target_rank), requires_grad=True, device=device)\n",
        "    V = torch.randn((target_rank, matrix.size(1)), requires_grad=True, device=device)\n",
        "\n",
        "    optimizer = torch.optim.Adam([U, V], lr=1e-2)\n",
        "\n",
        "    for iteration in range(5000):\n",
        "        predictions = U @ V\n",
        "        loss = torch.nn.functional.mse_loss(predictions, matrix)\n",
        "        optimizer.zero_grad()\n",
        "        loss.backward()\n",
        "        optimizer.step()\n",
        "        if iteration % 500 == 0:\n",
        "            print('Epoch:', iteration, 'Loss:', loss.item())\n",
        "\n",
        "    return U.detach(), V.detach()"
      ],
      "metadata": {
        "id": "xrsR_XpyD9YW"
      },
      "id": "xrsR_XpyD9YW",
      "execution_count": null,
      "outputs": []
    },
    {
      "cell_type": "code",
      "source": [
        "weights = model.bert.embeddings.word_embeddings.weight.detach().clone().requires_grad_(True)\n",
        "u, v = factorize_matrix(weights, 64)"
      ],
      "metadata": {
        "colab": {
          "base_uri": "https://localhost:8080/"
        },
        "id": "G5UJt36vEjNz",
        "outputId": "f4e7e1f1-b283-4a76-e57c-6e21a88b04de"
      },
      "id": "G5UJt36vEjNz",
      "execution_count": null,
      "outputs": [
        {
          "output_type": "stream",
          "name": "stdout",
          "text": [
            "Epoch: 0 Loss: 63.88004684448242\n",
            "Epoch: 500 Loss: 0.004791971296072006\n",
            "Epoch: 1000 Loss: 0.0021484149619936943\n",
            "Epoch: 1500 Loss: 0.002098150784149766\n",
            "Epoch: 2000 Loss: 0.0019672054331749678\n",
            "Epoch: 2500 Loss: 0.0017776769818738103\n",
            "Epoch: 3000 Loss: 0.0017613054951652884\n",
            "Epoch: 3500 Loss: 0.0017605574103072286\n",
            "Epoch: 4000 Loss: 0.001760171726346016\n",
            "Epoch: 4500 Loss: 0.0017596252728253603\n"
          ]
        }
      ]
    },
    {
      "cell_type": "code",
      "execution_count": null,
      "id": "bf027f56-ab30-4691-8c07-ed83d41b45eb",
      "metadata": {
        "id": "bf027f56-ab30-4691-8c07-ed83d41b45eb"
      },
      "outputs": [],
      "source": [
        "class CustomEmbeddings(nn.Module):\n",
        "    def __init__(self, u, v):\n",
        "        super().__init__()\n",
        "        self.first = nn.Parameter(u).to(device)\n",
        "        self.second = nn.Parameter(v).to(device)\n",
        "\n",
        "    def forward(self, input_ix):\n",
        "        matrix = self.first @ self.second\n",
        "        return matrix[input_ix]"
      ]
    },
    {
      "cell_type": "code",
      "source": [
        "model.bert.embeddings.word_embeddings = CustomEmbeddings(u,v)\n",
        "print('Number of parameters:', sum([p.numel() for p in model.parameters()]))"
      ],
      "metadata": {
        "colab": {
          "base_uri": "https://localhost:8080/"
        },
        "id": "ug8xe1_47qV1",
        "outputId": "8a0e6b10-eb8e-4913-bfc3-60b1097be610"
      },
      "id": "ug8xe1_47qV1",
      "execution_count": null,
      "outputs": [
        {
          "output_type": "stream",
          "name": "stdout",
          "text": [
            "Number of parameters: 87362569\n"
          ]
        }
      ]
    },
    {
      "cell_type": "code",
      "source": [
        "num_epochs = 4\n",
        "optimizer = torch.optim.Adam(model.parameters(), lr=1e-5)\n",
        "train_losses, valid_losses, train_f1, valid_f1 = train(\n",
        "    model, train_loader, valid_loader, optimizer, num_epochs, name='factorized_bert.pth')"
      ],
      "metadata": {
        "colab": {
          "base_uri": "https://localhost:8080/",
          "height": 445
        },
        "id": "pZJNWBSo8s8D",
        "outputId": "b88c30ee-0c21-45e3-bca5-f874c02b9aa8"
      },
      "id": "pZJNWBSo8s8D",
      "execution_count": null,
      "outputs": [
        {
          "output_type": "display_data",
          "data": {
            "text/plain": [
              "<Figure size 1500x500 with 2 Axes>"
            ],
            "image/png": "[encoded data removed]"
          },
          "metadata": {}
        }
      ]
    },
    {
      "cell_type": "code",
      "source": [
        "num_epochs = 6\n",
        "optimizer = torch.optim.Adam(model.parameters(), lr=1e-5)\n",
        "train_losses, valid_losses, train_f1, valid_f1 = train(\n",
        "    model, train_loader, valid_loader, optimizer, num_epochs)"
      ],
      "metadata": {
        "colab": {
          "base_uri": "https://localhost:8080/",
          "height": 446
        },
        "id": "ZY3uUwwvAwEx",
        "outputId": "29fc2b90-3c52-41f0-affa-eb4b57b00aae"
      },
      "id": "ZY3uUwwvAwEx",
      "execution_count": null,
      "outputs": [
        {
          "output_type": "display_data",
          "data": {
            "text/plain": [
              "<Figure size 1500x500 with 2 Axes>"
            ],
            "image/png": "[encoded data removed]"
          },
          "metadata": {}
        }
      ]
    },
    {
      "cell_type": "markdown",
      "source": [
        "Стоит заметить, что я использовал 64, а не 128, как было советовано, поэтому качество подкачало."
      ],
      "metadata": {
        "id": "9qNtYxR0UetT"
      },
      "id": "9qNtYxR0UetT"
    },
    {
      "cell_type": "code",
      "source": [
        "print('Final validation f1-score:', valid_f1[-1][1])"
      ],
      "metadata": {
        "colab": {
          "base_uri": "https://localhost:8080/"
        },
        "id": "aMkZTK3wUZwp",
        "outputId": "2ae0b798-5ce2-44a8-c811-bf363c279cd4"
      },
      "id": "aMkZTK3wUZwp",
      "execution_count": null,
      "outputs": [
        {
          "output_type": "stream",
          "name": "stdout",
          "text": [
            "Final validation f1-score: 0.8568111800687591\n"
          ]
        }
      ]
    },
    {
      "cell_type": "markdown",
      "source": [
        "Откат назад"
      ],
      "metadata": {
        "id": "UKY95EAb_fH6"
      },
      "id": "UKY95EAb_fH6"
    },
    {
      "cell_type": "code",
      "source": [
        "#model.bert.embeddings.word_embeddings = nn.Embedding(28996, 768, padding_idx=0)\n",
        "#model.load_state_dict(torch.load('bert.pth'))"
      ],
      "metadata": {
        "id": "YIEQxfKQ-oi3"
      },
      "id": "YIEQxfKQ-oi3",
      "execution_count": null,
      "outputs": []
    },
    {
      "cell_type": "markdown",
      "id": "6220bd15-3681-4006-b7e0-44838b3500ad",
      "metadata": {
        "id": "6220bd15-3681-4006-b7e0-44838b3500ad"
      },
      "source": [
        "### Дистилляция знаний\n",
        "\n",
        "Дистилляция знаний – это парадигма обучения, в которой знания модели-учителя дистиллируются в модель-ученика. Учеником может быть произвольная модель меньшего размера, решающая ту же задачу. При дистилляции используются два функционала ошибки:\n",
        "\n",
        "1. Стандартная кросс-энтропия.\n",
        "1. Функция, задающая расстояние между распределениями предсказаний учителя и ученика. Чаще всего используют кросс-энтропию или KL-дивергенцию.\n",
        "\n",
        "При этом для того, чтобы распределение предсказаний учителя не было таким вырожденным используют softmax с температурой больше 1, например, 2 или 5.\n",
        "\n",
        "<img src=\"https://intellabs.github.io/distiller/imgs/knowledge_distillation.png\">"
      ]
    },
    {
      "cell_type": "markdown",
      "id": "450e921f-279e-46ae-8c70-5d715b91106e",
      "metadata": {
        "id": "450e921f-279e-46ae-8c70-5d715b91106e"
      },
      "source": [
        "__Задание 5 (1 балл)__ Реализуйте метод дистилляции знаний, изображенный на картинке. Для подсчета ошибки между предсказаниями ученика и учителя используйте KL-дивергенцию (`nn.KLDivLoss(reduction=\"batchmean\")`). В качестве учителя используйте дообученный BERT из задания 3. В качестве ученика вы можете взять произвольную необученную модель с размером около 40M параметров. Не забудьте про warmup!"
      ]
    },
    {
      "cell_type": "code",
      "execution_count": null,
      "id": "58f71d61-bb55-49d1-a77a-165476d6daff",
      "metadata": {
        "id": "58f71d61-bb55-49d1-a77a-165476d6daff"
      },
      "outputs": [],
      "source": [
        "def train_student(model_teacher, model_student, train_loader, valid_loader,\n",
        "                  opt, scheduler, num_epochs,\n",
        "                  div_loss_fn=nn.KLDivLoss(reduction=\"batchmean\", log_target=True),\n",
        "                  div_loss_temp=2,\n",
        "                  kl_lambda=1.0,\n",
        "                  student_loss_fn=cross_entropy,\n",
        "                  name='student.pth'):\n",
        "    train_losses = []\n",
        "    train_f1 = []\n",
        "    valid_f1 = []\n",
        "    model_teacher.eval()\n",
        "    for i in range(num_epochs):\n",
        "        model_student.train()\n",
        "        train_epoch_loss = 0.\n",
        "        all_train_predictions = []\n",
        "        all_train_labels = []\n",
        "        train_num = 0\n",
        "        for batch in tqdm(train_loader):\n",
        "            X = batch['input_ids'].to(device)\n",
        "            y = batch['labels'].to(device)\n",
        "            preds = model_student(X)\n",
        "\n",
        "            student_loss = student_loss_fn(preds.view(-1, len(tag2id)), y.view(-1))\n",
        "            with torch.no_grad():\n",
        "                teacher_preds = model_teacher(X)\n",
        "            #print('\\n\\nFirst:', F.log_softmax(preds.view(-1, len(tag2id))/div_loss_temp, dim=-1).shape, '\\n\\nSecond:', F.log_softmax(teacher_preds.logits.view(-1, len(tag2id))/div_loss_temp, dim=-1).shape)\n",
        "            kl_loss = div_loss_fn(\n",
        "                F.log_softmax(preds.view(-1, len(tag2id))/div_loss_temp, dim=-1),\n",
        "                F.log_softmax(teacher_preds.logits.view(-1, len(tag2id))/div_loss_temp, dim=-1)\n",
        "            )\n",
        "            #print('\\nLoss:', kl_loss.item())\n",
        "            loss = student_loss + kl_lambda * kl_loss\n",
        "\n",
        "            opt.zero_grad()\n",
        "            loss.backward()\n",
        "            opt.step()\n",
        "            scheduler.step()\n",
        "\n",
        "            train_epoch_loss += loss.item()\n",
        "            train_num += 1\n",
        "\n",
        "            predicted_classes = torch.argmax(preds, dim=-1)\n",
        "            predicted_tokens, labels = ids2tokens(predicted_classes, y)\n",
        "            all_train_predictions += predicted_tokens\n",
        "            all_train_labels += labels\n",
        "\n",
        "        train_losses.append((i, train_epoch_loss / train_num))\n",
        "        train_f1.append((i, f1_score(all_train_labels, all_train_predictions)))\n",
        "\n",
        "        with torch.no_grad():\n",
        "            model_student.eval()\n",
        "            all_valid_predictions = []\n",
        "            all_valid_labels = []\n",
        "            valid_num = 0\n",
        "            for batch in tqdm(valid_loader):\n",
        "                X = batch['input_ids'].to(device)\n",
        "                y = batch['labels'].to(device)\n",
        "                preds = model_student(X)\n",
        "\n",
        "                valid_num += 1\n",
        "\n",
        "                predicted_classes = torch.argmax(preds, dim=-1)\n",
        "                predicted_tokens, labels = ids2tokens(predicted_classes, y)\n",
        "                all_valid_predictions += predicted_tokens\n",
        "                all_valid_labels += labels\n",
        "\n",
        "            valid_f1.append((i, f1_score(all_valid_labels, all_valid_predictions)))\n",
        "\n",
        "        clear_output(True)\n",
        "        plt.figure(figsize=(15, 5))\n",
        "\n",
        "        plt.subplot(121)\n",
        "        plt.plot(*zip(*train_losses), color='blue', label='train_loss')\n",
        "        plt.legend()\n",
        "\n",
        "        plt.subplot(122)\n",
        "        plt.plot(*zip(*train_f1), alpha=0.5, label='train_f1')\n",
        "        plt.plot(*zip(*valid_f1), color='red', label='eval_f1')\n",
        "        plt.legend()\n",
        "        plt.show()\n",
        "\n",
        "        torch.save(model.state_dict(), name)\n",
        "    return train_losses, train_f1, valid_f1"
      ]
    },
    {
      "cell_type": "code",
      "source": [
        "from transformers import DistilBertConfig, DistilBertModel\n",
        "from transformers import get_linear_schedule_with_warmup\n",
        "\n",
        "class CustomDistilBERTModel(nn.Module):\n",
        "    def __init__(self, num_labels=len(tag2id), hidden_size=768):\n",
        "        super().__init__()\n",
        "        config = DistilBertConfig(\n",
        "            vocab_size=28996,\n",
        "            dim=hidden_size,\n",
        "            nhead=12,\n",
        "            num_layers=6\n",
        "        )\n",
        "        self.distilbert = DistilBertModel(config)\n",
        "        self.fc = nn.Linear(hidden_size, num_labels)\n",
        "\n",
        "    def forward(self, input_ids, attention_mask=None):\n",
        "        outputs = self.distilbert(input_ids, attention_mask=attention_mask)\n",
        "        hidden_states = outputs.last_hidden_state\n",
        "        logits = self.fc(hidden_states)\n",
        "        return logits\n",
        "\n",
        "model_student = CustomDistilBERTModel(hidden_size=516).to(device)\n",
        "print('Student Number of parameters:', sum([p.numel() for p in model_student.parameters()]))"
      ],
      "metadata": {
        "colab": {
          "base_uri": "https://localhost:8080/"
        },
        "id": "ziDzHcvEZXEC",
        "outputId": "369b9adf-cfb7-45a6-8b98-940c176a2261"
      },
      "id": "ziDzHcvEZXEC",
      "execution_count": null,
      "outputs": [
        {
          "output_type": "stream",
          "name": "stdout",
          "text": [
            "Student Number of parameters: 40690077\n"
          ]
        }
      ]
    },
    {
      "cell_type": "code",
      "source": [
        "num_epochs = 15\n",
        "optimizer = torch.optim.Adam(model_student.parameters(), lr=1e-4)\n",
        "scheduler = get_linear_schedule_with_warmup(optimizer, num_warmup_steps=700, num_training_steps=7000)\n",
        "train_losses, train_f1, valid_f1 = train_student(\n",
        "    model, model_student, train_loader, valid_loader, optimizer, scheduler, num_epochs)"
      ],
      "metadata": {
        "colab": {
          "base_uri": "https://localhost:8080/",
          "height": 806
        },
        "id": "eH1ULvTDaODk",
        "outputId": "409160b4-c3af-4406-b94b-efbaf50b6570"
      },
      "id": "eH1ULvTDaODk",
      "execution_count": null,
      "outputs": [
        {
          "output_type": "display_data",
          "data": {
            "text/plain": [
              "<Figure size 1500x500 with 2 Axes>"
            ],
            "image/png": "[encoded data removed]"
          },
          "metadata": {}
        },
        {
          "output_type": "stream",
          "name": "stderr",
          "text": [
            "  7%|▋         | 35/469 [00:07<01:37,  4.45it/s]\n"
          ]
        },
        {
          "output_type": "error",
          "ename": "KeyboardInterrupt",
          "evalue": "ignored",
          "traceback": [
            "\u001b[0;31m---------------------------------------------------------------------------\u001b[0m",
            "\u001b[0;31mKeyboardInterrupt\u001b[0m                         Traceback (most recent call last)",
            "\u001b[0;32m<ipython-input-268-7a8bf3730698>\u001b[0m in \u001b[0;36m<cell line: 4>\u001b[0;34m()\u001b[0m\n\u001b[1;32m      2\u001b[0m \u001b[0moptimizer\u001b[0m \u001b[0;34m=\u001b[0m \u001b[0mtorch\u001b[0m\u001b[0;34m.\u001b[0m\u001b[0moptim\u001b[0m\u001b[0;34m.\u001b[0m\u001b[0mAdam\u001b[0m\u001b[0;34m(\u001b[0m\u001b[0mmodel_student\u001b[0m\u001b[0;34m.\u001b[0m\u001b[0mparameters\u001b[0m\u001b[0;34m(\u001b[0m\u001b[0;34m)\u001b[0m\u001b[0;34m,\u001b[0m \u001b[0mlr\u001b[0m\u001b[0;34m=\u001b[0m\u001b[0;36m1e-4\u001b[0m\u001b[0;34m)\u001b[0m\u001b[0;34m\u001b[0m\u001b[0;34m\u001b[0m\u001b[0m\n\u001b[1;32m      3\u001b[0m \u001b[0mscheduler\u001b[0m \u001b[0;34m=\u001b[0m \u001b[0mget_linear_schedule_with_warmup\u001b[0m\u001b[0;34m(\u001b[0m\u001b[0moptimizer\u001b[0m\u001b[0;34m,\u001b[0m \u001b[0mnum_warmup_steps\u001b[0m\u001b[0;34m=\u001b[0m\u001b[0;36m700\u001b[0m\u001b[0;34m,\u001b[0m \u001b[0mnum_training_steps\u001b[0m\u001b[0;34m=\u001b[0m\u001b[0;36m7000\u001b[0m\u001b[0;34m)\u001b[0m\u001b[0;34m\u001b[0m\u001b[0;34m\u001b[0m\u001b[0m\n\u001b[0;32m----> 4\u001b[0;31m train_losses, train_f1, valid_f1 = train_student(\n\u001b[0m\u001b[1;32m      5\u001b[0m     model, model_student, train_loader, valid_loader, optimizer, scheduler, num_epochs)\n",
            "\u001b[0;32m<ipython-input-265-4e6d6d7ccc54>\u001b[0m in \u001b[0;36mtrain_student\u001b[0;34m(model_teacher, model_student, train_loader, valid_loader, opt, scheduler, num_epochs, div_loss_fn, div_loss_temp, student_loss_fn, name)\u001b[0m\n\u001b[1;32m     36\u001b[0m             \u001b[0mscheduler\u001b[0m\u001b[0;34m.\u001b[0m\u001b[0mstep\u001b[0m\u001b[0;34m(\u001b[0m\u001b[0;34m)\u001b[0m\u001b[0;34m\u001b[0m\u001b[0;34m\u001b[0m\u001b[0m\n\u001b[1;32m     37\u001b[0m \u001b[0;34m\u001b[0m\u001b[0m\n\u001b[0;32m---> 38\u001b[0;31m             \u001b[0mtrain_epoch_loss\u001b[0m \u001b[0;34m+=\u001b[0m \u001b[0mloss\u001b[0m\u001b[0;34m.\u001b[0m\u001b[0mitem\u001b[0m\u001b[0;34m(\u001b[0m\u001b[0;34m)\u001b[0m\u001b[0;34m\u001b[0m\u001b[0;34m\u001b[0m\u001b[0m\n\u001b[0m\u001b[1;32m     39\u001b[0m             \u001b[0mtrain_num\u001b[0m \u001b[0;34m+=\u001b[0m \u001b[0;36m1\u001b[0m\u001b[0;34m\u001b[0m\u001b[0;34m\u001b[0m\u001b[0m\n\u001b[1;32m     40\u001b[0m \u001b[0;34m\u001b[0m\u001b[0m\n",
            "\u001b[0;31mKeyboardInterrupt\u001b[0m: "
          ]
        }
      ]
    },
    {
      "cell_type": "markdown",
      "id": "5878a3da-a938-4a6f-87a5-9ebc8f81647a",
      "metadata": {
        "tags": [],
        "id": "5878a3da-a938-4a6f-87a5-9ebc8f81647a"
      },
      "source": [
        "## Соревнование (до 10 баллов)\n",
        "\n",
        "Ваша задача – обучить модель с размером __не больше 20М параметров__ для задачи NER. При этом можно пользоваться предобученным `bert-base-cased`, но больше ничем.\n",
        "\n",
        "Соревнование будет проходить аналогично соревнованию из второго домашнего задания. Ваши посылки вы должны будете отправлять тг-боту [@nlp_hw4_bot](t.me/nlp_hw4_bot), а он будет считать значения F1 на публичном и приватном датасетах и записывать результат в [табличку](https://docs.google.com/spreadsheets/d/1rILRI16VxgztwlfqR2kPZ3MxlJkerz6iEr5Kx9yrOLA/edit#gid=0).\n",
        "\n",
        "Для формирования посылки вам нужно будет создать папку на dropbox, положить в нее файл `model.py` с классом модели `Model` и веса `weights.pt`, а затем отправить боту ссылку на эту папку, доступную к чтению. Бот будет импортировать модель и загружать веса:\n",
        "```\n",
        "module = __import__('model', globals(), locals(), ['Model'], 0)\n",
        "model = module.Model()\n",
        "model.load_state_dict(torch.load('weights.pt', map_location=torch.device('cpu')))\n",
        "```\n",
        "\n",
        "При тестировании модель будет получать на вход `input_ids` и `attention_mask`, а на выход должна возвращать трехмерный тензор с вероятностями меток для каждого токена в батче. Класс `Model` должен содержать атрибут `id2label` совпадающий с тем, который задан в конфиге модели `model.config.id2label`. Это нужно для того, чтобы id тэгов мапились в нужные названия тэгов, так как они могут отличаться у разных решений.\n",
        "\n",
        "\n",
        "__Обязательм условием__ участия в соревновании является отчет о проделанной работе в формате pdf, в котором вы должны описать опробованные методы с результатами. За отчет выставляется максимум до __2 баллов__ на усмотрение проверяющего. В случае отсутствия отчета баллы за соревнование __обнуляются__.\n",
        "\n",
        "После дедлайна по домашке будут выложен _приватный_ лидерборд, по которому и будут выставляться баллы за соревнования. За место в лидерборде можно получить до __8__ баллов, но только при условии, если вы получили больше __0.8__ на _публичном_ лидерборде, в противном случае баллы выставляться не будут.\n",
        "$$\n",
        "\\text{число баллов} = 8\\frac{(N - r + 1)}{N},\n",
        "$$\n",
        "где $r$ – место в лидерборде, а $N$ - число участников со значением F1 на _публичном_ лидерборде не меньше __0.8__.\n",
        "\n",
        "\n",
        "На сервере установлена версия библиотеки `transformers==4.34.0`.\n",
        "В разных версиях может отличаться вид хранения весов, поэтому рекомендуем установить себе такую же версию, чтобы избежать ошибок при загрузке модели."
      ]
    },
    {
      "cell_type": "markdown",
      "source": [
        "# Попробуем добиться снижения количества параметров при помощи обучения ученика"
      ],
      "metadata": {
        "id": "lffvrfK8Cl_O"
      },
      "id": "lffvrfK8Cl_O"
    },
    {
      "cell_type": "code",
      "source": [
        "weights = model_student.distilbert.embeddings.word_embeddings.weight.detach().clone().requires_grad_(True)\n",
        "u, v = factorize_matrix(weights, 128)\n",
        "model_student.distilbert.embeddings.word_embeddings = CustomEmbeddings(u,v)\n",
        "print('Number of parameters:', sum([p.numel() for p in model_student.parameters()]))"
      ],
      "metadata": {
        "colab": {
          "base_uri": "https://localhost:8080/"
        },
        "id": "dCJmbUGLebMA",
        "outputId": "6da89dca-5ed6-429a-e61c-048752a78924"
      },
      "id": "dCJmbUGLebMA",
      "execution_count": null,
      "outputs": [
        {
          "output_type": "stream",
          "name": "stdout",
          "text": [
            "Epoch: 0 Loss: 127.46048736572266\n",
            "Epoch: 500 Loss: 0.0019641127437353134\n",
            "Epoch: 1000 Loss: 0.0004085389955434948\n",
            "Epoch: 1500 Loss: 0.0003713829501066357\n",
            "Epoch: 2000 Loss: 0.00036677755997516215\n",
            "Epoch: 2500 Loss: 0.0003659453068394214\n",
            "Epoch: 3000 Loss: 0.0003658371861092746\n",
            "Epoch: 3500 Loss: 0.00036581995664164424\n",
            "Epoch: 4000 Loss: 0.0003658435307443142\n",
            "Epoch: 4500 Loss: 0.000365850719390437\n",
            "Number of parameters: 29505677\n"
          ]
        }
      ]
    },
    {
      "cell_type": "code",
      "source": [
        "model_student = CustomDistilBERTModel(hidden_size=264).to(device)\n",
        "print('Student Number of parameters:', sum([p.numel() for p in model_student.parameters()]))"
      ],
      "metadata": {
        "colab": {
          "base_uri": "https://localhost:8080/"
        },
        "id": "dFuO05A23nHL",
        "outputId": "d0943dfe-95f7-41b8-ae70-0768db163e9b"
      },
      "id": "dFuO05A23nHL",
      "execution_count": null,
      "outputs": [
        {
          "output_type": "stream",
          "name": "stdout",
          "text": [
            "Student Number of parameters: 19230513\n"
          ]
        }
      ]
    },
    {
      "cell_type": "code",
      "source": [
        "num_epochs = 10\n",
        "optimizer = torch.optim.Adam(model_student.parameters(), lr=3e-4)\n",
        "scheduler = get_linear_schedule_with_warmup(optimizer, num_warmup_steps=400, num_training_steps=4000)\n",
        "train_losses, train_f1, valid_f1 = train_student(\n",
        "    model, model_student, train_loader, valid_loader, optimizer, scheduler, num_epochs, kl_lambda=2.0)"
      ],
      "metadata": {
        "colab": {
          "base_uri": "https://localhost:8080/",
          "height": 796
        },
        "id": "LWwoXjJR6ByP",
        "outputId": "bca9fcf3-5666-416a-bf74-f363c54f59a3"
      },
      "id": "LWwoXjJR6ByP",
      "execution_count": null,
      "outputs": [
        {
          "output_type": "display_data",
          "data": {
            "text/plain": [
              "<Figure size 1500x500 with 2 Axes>"
            ],
            "image/png": "[encoded data removed]"
          },
          "metadata": {}
        },
        {
          "output_type": "error",
          "ename": "KeyboardInterrupt",
          "evalue": "ignored",
          "traceback": [
            "\u001b[0;31m---------------------------------------------------------------------------\u001b[0m",
            "\u001b[0;31mKeyboardInterrupt\u001b[0m                         Traceback (most recent call last)",
            "\u001b[0;32m<ipython-input-292-0a86f17d1c0d>\u001b[0m in \u001b[0;36m<cell line: 4>\u001b[0;34m()\u001b[0m\n\u001b[1;32m      2\u001b[0m \u001b[0moptimizer\u001b[0m \u001b[0;34m=\u001b[0m \u001b[0mtorch\u001b[0m\u001b[0;34m.\u001b[0m\u001b[0moptim\u001b[0m\u001b[0;34m.\u001b[0m\u001b[0mAdam\u001b[0m\u001b[0;34m(\u001b[0m\u001b[0mmodel_student\u001b[0m\u001b[0;34m.\u001b[0m\u001b[0mparameters\u001b[0m\u001b[0;34m(\u001b[0m\u001b[0;34m)\u001b[0m\u001b[0;34m,\u001b[0m \u001b[0mlr\u001b[0m\u001b[0;34m=\u001b[0m\u001b[0;36m3e-4\u001b[0m\u001b[0;34m)\u001b[0m\u001b[0;34m\u001b[0m\u001b[0;34m\u001b[0m\u001b[0m\n\u001b[1;32m      3\u001b[0m \u001b[0mscheduler\u001b[0m \u001b[0;34m=\u001b[0m \u001b[0mget_linear_schedule_with_warmup\u001b[0m\u001b[0;34m(\u001b[0m\u001b[0moptimizer\u001b[0m\u001b[0;34m,\u001b[0m \u001b[0mnum_warmup_steps\u001b[0m\u001b[0;34m=\u001b[0m\u001b[0;36m400\u001b[0m\u001b[0;34m,\u001b[0m \u001b[0mnum_training_steps\u001b[0m\u001b[0;34m=\u001b[0m\u001b[0;36m4000\u001b[0m\u001b[0;34m)\u001b[0m\u001b[0;34m\u001b[0m\u001b[0;34m\u001b[0m\u001b[0m\n\u001b[0;32m----> 4\u001b[0;31m train_losses, train_f1, valid_f1 = train_student(\n\u001b[0m\u001b[1;32m      5\u001b[0m     model, model_student, train_loader, valid_loader, optimizer, scheduler, num_epochs, kl_lambda=2.0)\n",
            "\u001b[0;32m<ipython-input-276-9580f034e32e>\u001b[0m in \u001b[0;36mtrain_student\u001b[0;34m(model_teacher, model_student, train_loader, valid_loader, opt, scheduler, num_epochs, div_loss_fn, div_loss_temp, kl_lambda, student_loss_fn, name)\u001b[0m\n\u001b[1;32m     80\u001b[0m         \u001b[0mplt\u001b[0m\u001b[0;34m.\u001b[0m\u001b[0mshow\u001b[0m\u001b[0;34m(\u001b[0m\u001b[0;34m)\u001b[0m\u001b[0;34m\u001b[0m\u001b[0;34m\u001b[0m\u001b[0m\n\u001b[1;32m     81\u001b[0m \u001b[0;34m\u001b[0m\u001b[0m\n\u001b[0;32m---> 82\u001b[0;31m         \u001b[0mtorch\u001b[0m\u001b[0;34m.\u001b[0m\u001b[0msave\u001b[0m\u001b[0;34m(\u001b[0m\u001b[0mmodel\u001b[0m\u001b[0;34m.\u001b[0m\u001b[0mstate_dict\u001b[0m\u001b[0;34m(\u001b[0m\u001b[0;34m)\u001b[0m\u001b[0;34m,\u001b[0m \u001b[0mname\u001b[0m\u001b[0;34m)\u001b[0m\u001b[0;34m\u001b[0m\u001b[0;34m\u001b[0m\u001b[0m\n\u001b[0m\u001b[1;32m     83\u001b[0m     \u001b[0;32mreturn\u001b[0m \u001b[0mtrain_losses\u001b[0m\u001b[0;34m,\u001b[0m \u001b[0mtrain_f1\u001b[0m\u001b[0;34m,\u001b[0m \u001b[0mvalid_f1\u001b[0m\u001b[0;34m\u001b[0m\u001b[0;34m\u001b[0m\u001b[0m\n",
            "\u001b[0;32m/usr/local/lib/python3.10/dist-packages/torch/serialization.py\u001b[0m in \u001b[0;36msave\u001b[0;34m(obj, f, pickle_module, pickle_protocol, _use_new_zipfile_serialization, _disable_byteorder_record)\u001b[0m\n\u001b[1;32m    617\u001b[0m     \u001b[0;32mif\u001b[0m \u001b[0m_use_new_zipfile_serialization\u001b[0m\u001b[0;34m:\u001b[0m\u001b[0;34m\u001b[0m\u001b[0;34m\u001b[0m\u001b[0m\n\u001b[1;32m    618\u001b[0m         \u001b[0;32mwith\u001b[0m \u001b[0m_open_zipfile_writer\u001b[0m\u001b[0;34m(\u001b[0m\u001b[0mf\u001b[0m\u001b[0;34m)\u001b[0m \u001b[0;32mas\u001b[0m \u001b[0mopened_zipfile\u001b[0m\u001b[0;34m:\u001b[0m\u001b[0;34m\u001b[0m\u001b[0;34m\u001b[0m\u001b[0m\n\u001b[0;32m--> 619\u001b[0;31m             \u001b[0m_save\u001b[0m\u001b[0;34m(\u001b[0m\u001b[0mobj\u001b[0m\u001b[0;34m,\u001b[0m \u001b[0mopened_zipfile\u001b[0m\u001b[0;34m,\u001b[0m \u001b[0mpickle_module\u001b[0m\u001b[0;34m,\u001b[0m \u001b[0mpickle_protocol\u001b[0m\u001b[0;34m,\u001b[0m \u001b[0m_disable_byteorder_record\u001b[0m\u001b[0;34m)\u001b[0m\u001b[0;34m\u001b[0m\u001b[0;34m\u001b[0m\u001b[0m\n\u001b[0m\u001b[1;32m    620\u001b[0m             \u001b[0;32mreturn\u001b[0m\u001b[0;34m\u001b[0m\u001b[0;34m\u001b[0m\u001b[0m\n\u001b[1;32m    621\u001b[0m     \u001b[0;32melse\u001b[0m\u001b[0;34m:\u001b[0m\u001b[0;34m\u001b[0m\u001b[0;34m\u001b[0m\u001b[0m\n",
            "\u001b[0;32m/usr/local/lib/python3.10/dist-packages/torch/serialization.py\u001b[0m in \u001b[0;36m_save\u001b[0;34m(obj, zip_file, pickle_module, pickle_protocol, _disable_byteorder_record)\u001b[0m\n\u001b[1;32m    851\u001b[0m         \u001b[0;31m# Now that it is on the CPU we can directly copy it into the zip file\u001b[0m\u001b[0;34m\u001b[0m\u001b[0;34m\u001b[0m\u001b[0m\n\u001b[1;32m    852\u001b[0m         \u001b[0mnum_bytes\u001b[0m \u001b[0;34m=\u001b[0m \u001b[0mstorage\u001b[0m\u001b[0;34m.\u001b[0m\u001b[0mnbytes\u001b[0m\u001b[0;34m(\u001b[0m\u001b[0;34m)\u001b[0m\u001b[0;34m\u001b[0m\u001b[0;34m\u001b[0m\u001b[0m\n\u001b[0;32m--> 853\u001b[0;31m         \u001b[0mzip_file\u001b[0m\u001b[0;34m.\u001b[0m\u001b[0mwrite_record\u001b[0m\u001b[0;34m(\u001b[0m\u001b[0mname\u001b[0m\u001b[0;34m,\u001b[0m \u001b[0mstorage\u001b[0m\u001b[0;34m.\u001b[0m\u001b[0mdata_ptr\u001b[0m\u001b[0;34m(\u001b[0m\u001b[0;34m)\u001b[0m\u001b[0;34m,\u001b[0m \u001b[0mnum_bytes\u001b[0m\u001b[0;34m)\u001b[0m\u001b[0;34m\u001b[0m\u001b[0;34m\u001b[0m\u001b[0m\n\u001b[0m\u001b[1;32m    854\u001b[0m \u001b[0;34m\u001b[0m\u001b[0m\n\u001b[1;32m    855\u001b[0m \u001b[0;34m\u001b[0m\u001b[0m\n",
            "\u001b[0;31mKeyboardInterrupt\u001b[0m: "
          ]
        }
      ]
    },
    {
      "cell_type": "markdown",
      "source": [
        "Как видим, финальное качество оказалось в районе 0.7"
      ],
      "metadata": {
        "id": "TlZnuno1DN0t"
      },
      "id": "TlZnuno1DN0t"
    },
    {
      "cell_type": "markdown",
      "source": [
        "# Теперь попробуем уменьшить количество параметров, разложив каждую матрицу параметров на произведение двух матриц маленького ранга и дообучения получившейся модели"
      ],
      "metadata": {
        "id": "YtTUTfMGDfWk"
      },
      "id": "YtTUTfMGDfWk"
    },
    {
      "cell_type": "markdown",
      "source": [
        "# Новый раздел"
      ],
      "metadata": {
        "id": "Zfz5qOCJCiJq"
      },
      "id": "Zfz5qOCJCiJq"
    },
    {
      "cell_type": "code",
      "source": [
        "weights = model_student.distilbert.embeddings.word_embeddings.weight.detach().clone().requires_grad_(True)\n",
        "u, v = factorize_matrix(weights, 128)\n",
        "model_student.distilbert.embeddings.word_embeddings = CustomEmbeddings(u,v)\n",
        "print('Number of parameters:', sum([p.numel() for p in model_student.parameters()]))"
      ],
      "metadata": {
        "colab": {
          "base_uri": "https://localhost:8080/"
        },
        "id": "kQ5WvZr-4APq",
        "outputId": "53464d44-d596-48d1-bd00-d134823fde2c"
      },
      "id": "kQ5WvZr-4APq",
      "execution_count": null,
      "outputs": [
        {
          "output_type": "stream",
          "name": "stdout",
          "text": [
            "Epoch: 0 Loss: 127.38890838623047\n",
            "Epoch: 500 Loss: 0.0019219859968870878\n",
            "Epoch: 1000 Loss: 0.0003733184712473303\n",
            "Epoch: 1500 Loss: 0.0003491390962153673\n",
            "Epoch: 2000 Loss: 0.00034776603570207953\n",
            "Epoch: 2500 Loss: 0.00034772331127896905\n",
            "Epoch: 3000 Loss: 0.0003477366699371487\n",
            "Epoch: 3500 Loss: 0.00034774685627780855\n",
            "Epoch: 4000 Loss: 0.00034773844527080655\n",
            "Epoch: 4500 Loss: 0.0003478043363429606\n",
            "Number of parameters: 19062617\n"
          ]
        }
      ]
    },
    {
      "cell_type": "code",
      "source": [
        "class CustomLinear(nn.Module):\n",
        "    def __init__(self, u, v):\n",
        "        super().__init__()\n",
        "        self.first = nn.Parameter(u).to(device)\n",
        "        self.second = nn.Parameter(v).to(device)\n",
        "\n",
        "    def forward(self, input_ix):\n",
        "        matrix = self.first @ self.second\n",
        "        return input_ix @ matrix.T"
      ],
      "metadata": {
        "id": "qHCeEpvxShUR"
      },
      "id": "qHCeEpvxShUR",
      "execution_count": null,
      "outputs": []
    },
    {
      "cell_type": "code",
      "source": [
        "model"
      ],
      "metadata": {
        "colab": {
          "base_uri": "https://localhost:8080/"
        },
        "id": "3O1q0Ts1Miph",
        "outputId": "a92626b0-b157-4090-dd1e-8e19f582d7bd"
      },
      "id": "3O1q0Ts1Miph",
      "execution_count": null,
      "outputs": [
        {
          "output_type": "execute_result",
          "data": {
            "text/plain": [
              "BertForTokenClassification(\n",
              "  (bert): BertModel(\n",
              "    (embeddings): BertEmbeddings(\n",
              "      (word_embeddings): Embedding(28996, 768, padding_idx=0)\n",
              "      (position_embeddings): Embedding(512, 768)\n",
              "      (token_type_embeddings): Embedding(2, 768)\n",
              "      (LayerNorm): LayerNorm((768,), eps=1e-12, elementwise_affine=True)\n",
              "      (dropout): Dropout(p=0.1, inplace=False)\n",
              "    )\n",
              "    (encoder): BertEncoder(\n",
              "      (layer): ModuleList(\n",
              "        (0-11): 12 x BertLayer(\n",
              "          (attention): BertAttention(\n",
              "            (self): BertSelfAttention(\n",
              "              (query): Linear(in_features=768, out_features=768, bias=True)\n",
              "              (key): Linear(in_features=768, out_features=768, bias=True)\n",
              "              (value): Linear(in_features=768, out_features=768, bias=True)\n",
              "              (dropout): Dropout(p=0.1, inplace=False)\n",
              "            )\n",
              "            (output): BertSelfOutput(\n",
              "              (dense): Linear(in_features=768, out_features=768, bias=True)\n",
              "              (LayerNorm): LayerNorm((768,), eps=1e-12, elementwise_affine=True)\n",
              "              (dropout): Dropout(p=0.1, inplace=False)\n",
              "            )\n",
              "          )\n",
              "          (intermediate): BertIntermediate(\n",
              "            (dense): Linear(in_features=768, out_features=3072, bias=True)\n",
              "            (intermediate_act_fn): GELUActivation()\n",
              "          )\n",
              "          (output): BertOutput(\n",
              "            (dense): Linear(in_features=3072, out_features=768, bias=True)\n",
              "            (LayerNorm): LayerNorm((768,), eps=1e-12, elementwise_affine=True)\n",
              "            (dropout): Dropout(p=0.1, inplace=False)\n",
              "          )\n",
              "        )\n",
              "      )\n",
              "    )\n",
              "  )\n",
              "  (dropout): Dropout(p=0.1, inplace=False)\n",
              "  (classifier): Linear(in_features=768, out_features=9, bias=True)\n",
              ")"
            ]
          },
          "metadata": {},
          "execution_count": 56
        }
      ]
    },
    {
      "cell_type": "code",
      "source": [
        "for layer in model.bert.encoder.layer:\n",
        "    weights = layer.attention.self.query.weight\n",
        "    u, v = factorize_matrix(weights, 64)\n",
        "    layer.attention.self.query = CustomLinear(u,v)\n",
        "\n",
        "    weights = layer.attention.self.key.weight\n",
        "    u, v = factorize_matrix(weights, 64)\n",
        "    layer.attention.self.key = CustomLinear(u,v)\n",
        "\n",
        "    weights = layer.attention.self.value.weight\n",
        "    u, v = factorize_matrix(weights, 64)\n",
        "    layer.attention.self.value = CustomLinear(u,v)\n",
        "\n",
        "    weights = layer.attention.output.dense.weight\n",
        "    u, v = factorize_matrix(weights, 64)\n",
        "    layer.attention.output.dense = CustomLinear(u,v)\n",
        "\n",
        "    weights = layer.intermediate.dense.weight\n",
        "    u, v = factorize_matrix(weights, 112)\n",
        "    layer.intermediate.dense = CustomLinear(u,v)\n",
        "\n",
        "    weights = layer.output.dense.weight\n",
        "    u, v = factorize_matrix(weights, 112)\n",
        "    layer.output.dense = CustomLinear(u,v)\n",
        "\n",
        "weights = model.bert.embeddings.word_embeddings.weight\n",
        "u, v = factorize_matrix(weights, 128)\n",
        "model.bert.embeddings.word_embeddings = CustomEmbeddings(u,v)"
      ],
      "metadata": {
        "id": "Unc5MFhADBre"
      },
      "id": "Unc5MFhADBre",
      "execution_count": null,
      "outputs": []
    },
    {
      "cell_type": "code",
      "source": [
        "model = AutoModelForTokenClassification.from_pretrained('bert-base-cased', id2label=id2tag, label2id=tag2id).to(device)\n",
        "model.load_state_dict(torch.load('bert.pth'))"
      ],
      "metadata": {
        "colab": {
          "base_uri": "https://localhost:8080/"
        },
        "id": "tUeRClm_Vyq4",
        "outputId": "88b6ae16-d0d3-4690-a59e-925d4b4d5998"
      },
      "id": "tUeRClm_Vyq4",
      "execution_count": null,
      "outputs": [
        {
          "output_type": "stream",
          "name": "stderr",
          "text": [
            "Some weights of BertForTokenClassification were not initialized from the model checkpoint at bert-base-cased and are newly initialized: ['classifier.weight', 'classifier.bias']\n",
            "You should probably TRAIN this model on a down-stream task to be able to use it for predictions and inference.\n"
          ]
        },
        {
          "output_type": "execute_result",
          "data": {
            "text/plain": [
              "<All keys matched successfully>"
            ]
          },
          "metadata": {},
          "execution_count": 86
        }
      ]
    },
    {
      "cell_type": "code",
      "source": [
        "print('Number of parameters:', sum([p.numel() for p in model.parameters()]))"
      ],
      "metadata": {
        "colab": {
          "base_uri": "https://localhost:8080/"
        },
        "id": "947R2vDHUlm2",
        "outputId": "1461f674-b248-46e8-8d43-3f7f6a54b6f6"
      },
      "id": "947R2vDHUlm2",
      "execution_count": null,
      "outputs": [
        {
          "output_type": "stream",
          "name": "stdout",
          "text": [
            "Number of parameters: 19290377\n"
          ]
        }
      ]
    },
    {
      "cell_type": "code",
      "source": [
        "num_epochs = 10\n",
        "optimizer = torch.optim.Adam(model.parameters(), lr=1e-5)\n",
        "train_losses, valid_losses, train_f1, valid_f1 = train(\n",
        "    model, train_loader, valid_loader, optimizer, num_epochs, name='bert_lora.pth')"
      ],
      "metadata": {
        "colab": {
          "base_uri": "https://localhost:8080/",
          "height": 445
        },
        "id": "ynR3KbpKT6lY",
        "outputId": "2eed458c-7d3a-417b-c551-e4af884ce7c4"
      },
      "id": "ynR3KbpKT6lY",
      "execution_count": null,
      "outputs": [
        {
          "output_type": "display_data",
          "data": {
            "text/plain": [
              "<Figure size 1500x500 with 2 Axes>"
            ],
            "image/png": "[encoded data removed]"
          },
          "metadata": {}
        }
      ]
    },
    {
      "cell_type": "code",
      "source": [
        "print('Final validation f1-score:', valid_f1[-1][1])"
      ],
      "metadata": {
        "colab": {
          "base_uri": "https://localhost:8080/"
        },
        "id": "6cvAEI3bUJrz",
        "outputId": "e6ce25f2-0edc-4fa0-d375-467af5ea27a0"
      },
      "id": "6cvAEI3bUJrz",
      "execution_count": null,
      "outputs": [
        {
          "output_type": "stream",
          "name": "stdout",
          "text": [
            "Final validation f1-score: 0.7989257253555233\n"
          ]
        }
      ]
    },
    {
      "cell_type": "code",
      "source": [
        "weights = model.bert.embeddings.word_embeddings.weight\n",
        "u, v = factorize_matrix(weights, 128)\n",
        "model.bert.embeddings.word_embeddings = CustomEmbeddings(u,v)\n",
        "\n",
        "num_epochs = 3\n",
        "optimizer = torch.optim.Adam(model.parameters(), lr=1e-5)\n",
        "train_losses, valid_losses, train_f1, valid_f1 = train(\n",
        "        model, train_loader, valid_loader, optimizer, num_epochs, name='bert_lora.pth')\n",
        "\n",
        "for layer in model.bert.encoder.layer:\n",
        "    weights = layer.attention.self.query.weight\n",
        "    u, v = factorize_matrix(weights, 64)\n",
        "    layer.attention.self.query = CustomLinear(u,v)\n",
        "\n",
        "    weights = layer.attention.self.key.weight\n",
        "    u, v = factorize_matrix(weights, 64)\n",
        "    layer.attention.self.key = CustomLinear(u,v)\n",
        "\n",
        "    weights = layer.attention.self.value.weight\n",
        "    u, v = factorize_matrix(weights, 64)\n",
        "    layer.attention.self.value = CustomLinear(u,v)\n",
        "\n",
        "    weights = layer.attention.output.dense.weight\n",
        "    u, v = factorize_matrix(weights, 64)\n",
        "    layer.attention.output.dense = CustomLinear(u,v)\n",
        "\n",
        "    weights = layer.intermediate.dense.weight\n",
        "    u, v = factorize_matrix(weights, 112)\n",
        "    layer.intermediate.dense = CustomLinear(u,v)\n",
        "\n",
        "    weights = layer.output.dense.weight\n",
        "    u, v = factorize_matrix(weights, 112)\n",
        "    layer.output.dense = CustomLinear(u,v)\n",
        "\n",
        "    num_epochs = 1\n",
        "    optimizer = torch.optim.Adam(model.parameters(), lr=1e-5)\n",
        "    train_losses, valid_losses, train_f1, valid_f1 = train(\n",
        "        model, train_loader, valid_loader, optimizer, num_epochs, name='bert_lora.pth')\n",
        "\n",
        "num_epochs = 7\n",
        "optimizer = torch.optim.Adam(model.parameters(), lr=1e-5)\n",
        "train_losses, valid_losses, train_f1, valid_f1 = train(\n",
        "        model, train_loader, valid_loader, optimizer, num_epochs, name='bert_lora.pth')"
      ],
      "metadata": {
        "colab": {
          "base_uri": "https://localhost:8080/",
          "height": 445
        },
        "id": "LGUl1rl7gkJJ",
        "outputId": "9c921ab9-d950-4d93-8ea6-ce1d99d0f6c4"
      },
      "id": "LGUl1rl7gkJJ",
      "execution_count": null,
      "outputs": [
        {
          "output_type": "display_data",
          "data": {
            "text/plain": [
              "<Figure size 1500x500 with 2 Axes>"
            ],
            "image/png": "[encoded data removed]"
          },
          "metadata": {}
        }
      ]
    },
    {
      "cell_type": "code",
      "source": [
        "print('Final validation f1-score:', valid_f1[-1][1])"
      ],
      "metadata": {
        "id": "ODMf2Q6ahJRA"
      },
      "id": "ODMf2Q6ahJRA",
      "execution_count": null,
      "outputs": []
    },
    {
      "cell_type": "code",
      "source": [
        "torch.save(model.state_dict(), \"weights.pt\")"
      ],
      "metadata": {
        "id": "WpPBD1g19wSc"
      },
      "id": "WpPBD1g19wSc",
      "execution_count": null,
      "outputs": []
    },
    {
      "cell_type": "code",
      "source": [
        "import torch\n",
        "a = torch.tensor([[1, 2, 3, 4], [5, 6, 7, 8]])\n",
        "a.reshape((4,2))"
      ],
      "metadata": {
        "colab": {
          "base_uri": "https://localhost:8080/"
        },
        "id": "TJqL1W5YWvFL",
        "outputId": "e7e28055-e897-46d9-9f61-e5f13a9002ac"
      },
      "id": "TJqL1W5YWvFL",
      "execution_count": null,
      "outputs": [
        {
          "output_type": "execute_result",
          "data": {
            "text/plain": [
              "tensor([[1, 2],\n",
              "        [3, 4],\n",
              "        [5, 6],\n",
              "        [7, 8]])"
            ]
          },
          "metadata": {},
          "execution_count": 1
        }
      ]
    },
    {
      "cell_type": "markdown",
      "source": [
        "Итого, качество удалось поднять до 0.8 при том же количестве параметров."
      ],
      "metadata": {
        "id": "f5rrcaIoD1OD"
      },
      "id": "f5rrcaIoD1OD"
    }
  ],
  "metadata": {
    "kernelspec": {
      "display_name": "Python 3",
      "name": "python3"
    },
    "language_info": {
      "codemirror_mode": {
        "name": "ipython",
        "version": 3
      },
      "file_extension": ".py",
      "mimetype": "text/x-python",
      "name": "python",
      "nbconvert_exporter": "python",
      "pygments_lexer": "ipython3",
      "version": "3.9.6"
    },
    "colab": {
      "provenance": [],
      "gpuType": "T4"
    },
    "accelerator": "GPU",
    "widgets": {
      "application/vnd.jupyter.widget-state+json": {
        "06d0f11818a548d6ae8b87cec2274064": {
          "model_module": "@jupyter-widgets/controls",
          "model_name": "HBoxModel",
          "model_module_version": "1.5.0",
          "state": {
            "_dom_classes": [],
            "_model_module": "@jupyter-widgets/controls",
            "_model_module_version": "1.5.0",
            "_model_name": "HBoxModel",
            "_view_count": null,
            "_view_module": "@jupyter-widgets/controls",
            "_view_module_version": "1.5.0",
            "_view_name": "HBoxView",
            "box_style": "",
            "children": [
              "IPY_MODEL_b2e105200c6a4abbaf03151c812d1700",
              "IPY_MODEL_3ccce5bcf45e48c3bb81bbb163c9e218",
              "IPY_MODEL_bbe43833bd794aa5a9114e76e72cde25"
            ],
            "layout": "IPY_MODEL_c0cc3096903a44dfb5b0237f4f355e52"
          }
        },
        "b2e105200c6a4abbaf03151c812d1700": {
          "model_module": "@jupyter-widgets/controls",
          "model_name": "HTMLModel",
          "model_module_version": "1.5.0",
          "state": {
            "_dom_classes": [],
            "_model_module": "@jupyter-widgets/controls",
            "_model_module_version": "1.5.0",
            "_model_name": "HTMLModel",
            "_view_count": null,
            "_view_module": "@jupyter-widgets/controls",
            "_view_module_version": "1.5.0",
            "_view_name": "HTMLView",
            "description": "",
            "description_tooltip": null,
            "layout": "IPY_MODEL_d8cf7c546b3243649c32a1a5994bb8bf",
            "placeholder": "​",
            "style": "IPY_MODEL_92d0b0df708446a38d3369e3e3837c47",
            "value": "tokenizer_config.json: 100%"
          }
        },
        "3ccce5bcf45e48c3bb81bbb163c9e218": {
          "model_module": "@jupyter-widgets/controls",
          "model_name": "FloatProgressModel",
          "model_module_version": "1.5.0",
          "state": {
            "_dom_classes": [],
            "_model_module": "@jupyter-widgets/controls",
            "_model_module_version": "1.5.0",
            "_model_name": "FloatProgressModel",
            "_view_count": null,
            "_view_module": "@jupyter-widgets/controls",
            "_view_module_version": "1.5.0",
            "_view_name": "ProgressView",
            "bar_style": "success",
            "description": "",
            "description_tooltip": null,
            "layout": "IPY_MODEL_19932284395e497aa4d6686100cfe639",
            "max": 29,
            "min": 0,
            "orientation": "horizontal",
            "style": "IPY_MODEL_87bd3c6c5eea45a5965750439f1b850d",
            "value": 29
          }
        },
        "bbe43833bd794aa5a9114e76e72cde25": {
          "model_module": "@jupyter-widgets/controls",
          "model_name": "HTMLModel",
          "model_module_version": "1.5.0",
          "state": {
            "_dom_classes": [],
            "_model_module": "@jupyter-widgets/controls",
            "_model_module_version": "1.5.0",
            "_model_name": "HTMLModel",
            "_view_count": null,
            "_view_module": "@jupyter-widgets/controls",
            "_view_module_version": "1.5.0",
            "_view_name": "HTMLView",
            "description": "",
            "description_tooltip": null,
            "layout": "IPY_MODEL_b6334fef76df4077a68745dc4fbc0fc1",
            "placeholder": "​",
            "style": "IPY_MODEL_375059cc28404b1484fde1c57173a48e",
            "value": " 29.0/29.0 [00:00&lt;00:00, 1.87kB/s]"
          }
        },
        "c0cc3096903a44dfb5b0237f4f355e52": {
          "model_module": "@jupyter-widgets/base",
          "model_name": "LayoutModel",
          "model_module_version": "1.2.0",
          "state": {
            "_model_module": "@jupyter-widgets/base",
            "_model_module_version": "1.2.0",
            "_model_name": "LayoutModel",
            "_view_count": null,
            "_view_module": "@jupyter-widgets/base",
            "_view_module_version": "1.2.0",
            "_view_name": "LayoutView",
            "align_content": null,
            "align_items": null,
            "align_self": null,
            "border": null,
            "bottom": null,
            "display": null,
            "flex": null,
            "flex_flow": null,
            "grid_area": null,
            "grid_auto_columns": null,
            "grid_auto_flow": null,
            "grid_auto_rows": null,
            "grid_column": null,
            "grid_gap": null,
            "grid_row": null,
            "grid_template_areas": null,
            "grid_template_columns": null,
            "grid_template_rows": null,
            "height": null,
            "justify_content": null,
            "justify_items": null,
            "left": null,
            "margin": null,
            "max_height": null,
            "max_width": null,
            "min_height": null,
            "min_width": null,
            "object_fit": null,
            "object_position": null,
            "order": null,
            "overflow": null,
            "overflow_x": null,
            "overflow_y": null,
            "padding": null,
            "right": null,
            "top": null,
            "visibility": null,
            "width": null
          }
        },
        "d8cf7c546b3243649c32a1a5994bb8bf": {
          "model_module": "@jupyter-widgets/base",
          "model_name": "LayoutModel",
          "model_module_version": "1.2.0",
          "state": {
            "_model_module": "@jupyter-widgets/base",
            "_model_module_version": "1.2.0",
            "_model_name": "LayoutModel",
            "_view_count": null,
            "_view_module": "@jupyter-widgets/base",
            "_view_module_version": "1.2.0",
            "_view_name": "LayoutView",
            "align_content": null,
            "align_items": null,
            "align_self": null,
            "border": null,
            "bottom": null,
            "display": null,
            "flex": null,
            "flex_flow": null,
            "grid_area": null,
            "grid_auto_columns": null,
            "grid_auto_flow": null,
            "grid_auto_rows": null,
            "grid_column": null,
            "grid_gap": null,
            "grid_row": null,
            "grid_template_areas": null,
            "grid_template_columns": null,
            "grid_template_rows": null,
            "height": null,
            "justify_content": null,
            "justify_items": null,
            "left": null,
            "margin": null,
            "max_height": null,
            "max_width": null,
            "min_height": null,
            "min_width": null,
            "object_fit": null,
            "object_position": null,
            "order": null,
            "overflow": null,
            "overflow_x": null,
            "overflow_y": null,
            "padding": null,
            "right": null,
            "top": null,
            "visibility": null,
            "width": null
          }
        },
        "92d0b0df708446a38d3369e3e3837c47": {
          "model_module": "@jupyter-widgets/controls",
          "model_name": "DescriptionStyleModel",
          "model_module_version": "1.5.0",
          "state": {
            "_model_module": "@jupyter-widgets/controls",
            "_model_module_version": "1.5.0",
            "_model_name": "DescriptionStyleModel",
            "_view_count": null,
            "_view_module": "@jupyter-widgets/base",
            "_view_module_version": "1.2.0",
            "_view_name": "StyleView",
            "description_width": ""
          }
        },
        "19932284395e497aa4d6686100cfe639": {
          "model_module": "@jupyter-widgets/base",
          "model_name": "LayoutModel",
          "model_module_version": "1.2.0",
          "state": {
            "_model_module": "@jupyter-widgets/base",
            "_model_module_version": "1.2.0",
            "_model_name": "LayoutModel",
            "_view_count": null,
            "_view_module": "@jupyter-widgets/base",
            "_view_module_version": "1.2.0",
            "_view_name": "LayoutView",
            "align_content": null,
            "align_items": null,
            "align_self": null,
            "border": null,
            "bottom": null,
            "display": null,
            "flex": null,
            "flex_flow": null,
            "grid_area": null,
            "grid_auto_columns": null,
            "grid_auto_flow": null,
            "grid_auto_rows": null,
            "grid_column": null,
            "grid_gap": null,
            "grid_row": null,
            "grid_template_areas": null,
            "grid_template_columns": null,
            "grid_template_rows": null,
            "height": null,
            "justify_content": null,
            "justify_items": null,
            "left": null,
            "margin": null,
            "max_height": null,
            "max_width": null,
            "min_height": null,
            "min_width": null,
            "object_fit": null,
            "object_position": null,
            "order": null,
            "overflow": null,
            "overflow_x": null,
            "overflow_y": null,
            "padding": null,
            "right": null,
            "top": null,
            "visibility": null,
            "width": null
          }
        },
        "87bd3c6c5eea45a5965750439f1b850d": {
          "model_module": "@jupyter-widgets/controls",
          "model_name": "ProgressStyleModel",
          "model_module_version": "1.5.0",
          "state": {
            "_model_module": "@jupyter-widgets/controls",
            "_model_module_version": "1.5.0",
            "_model_name": "ProgressStyleModel",
            "_view_count": null,
            "_view_module": "@jupyter-widgets/base",
            "_view_module_version": "1.2.0",
            "_view_name": "StyleView",
            "bar_color": null,
            "description_width": ""
          }
        },
        "b6334fef76df4077a68745dc4fbc0fc1": {
          "model_module": "@jupyter-widgets/base",
          "model_name": "LayoutModel",
          "model_module_version": "1.2.0",
          "state": {
            "_model_module": "@jupyter-widgets/base",
            "_model_module_version": "1.2.0",
            "_model_name": "LayoutModel",
            "_view_count": null,
            "_view_module": "@jupyter-widgets/base",
            "_view_module_version": "1.2.0",
            "_view_name": "LayoutView",
            "align_content": null,
            "align_items": null,
            "align_self": null,
            "border": null,
            "bottom": null,
            "display": null,
            "flex": null,
            "flex_flow": null,
            "grid_area": null,
            "grid_auto_columns": null,
            "grid_auto_flow": null,
            "grid_auto_rows": null,
            "grid_column": null,
            "grid_gap": null,
            "grid_row": null,
            "grid_template_areas": null,
            "grid_template_columns": null,
            "grid_template_rows": null,
            "height": null,
            "justify_content": null,
            "justify_items": null,
            "left": null,
            "margin": null,
            "max_height": null,
            "max_width": null,
            "min_height": null,
            "min_width": null,
            "object_fit": null,
            "object_position": null,
            "order": null,
            "overflow": null,
            "overflow_x": null,
            "overflow_y": null,
            "padding": null,
            "right": null,
            "top": null,
            "visibility": null,
            "width": null
          }
        },
        "375059cc28404b1484fde1c57173a48e": {
          "model_module": "@jupyter-widgets/controls",
          "model_name": "DescriptionStyleModel",
          "model_module_version": "1.5.0",
          "state": {
            "_model_module": "@jupyter-widgets/controls",
            "_model_module_version": "1.5.0",
            "_model_name": "DescriptionStyleModel",
            "_view_count": null,
            "_view_module": "@jupyter-widgets/base",
            "_view_module_version": "1.2.0",
            "_view_name": "StyleView",
            "description_width": ""
          }
        },
        "4a2f7811f4e4439d8a12f45fce589ec5": {
          "model_module": "@jupyter-widgets/controls",
          "model_name": "HBoxModel",
          "model_module_version": "1.5.0",
          "state": {
            "_dom_classes": [],
            "_model_module": "@jupyter-widgets/controls",
            "_model_module_version": "1.5.0",
            "_model_name": "HBoxModel",
            "_view_count": null,
            "_view_module": "@jupyter-widgets/controls",
            "_view_module_version": "1.5.0",
            "_view_name": "HBoxView",
            "box_style": "",
            "children": [
              "IPY_MODEL_b5541108f12544a8a5e0694bf07261c8",
              "IPY_MODEL_3a8dfb36b4b44f7293394f69e79b9a30",
              "IPY_MODEL_ed48ac824ad041a69d4732d5de3625ed"
            ],
            "layout": "IPY_MODEL_c7324c5f342844dfab8545c6d47961c8"
          }
        },
        "b5541108f12544a8a5e0694bf07261c8": {
          "model_module": "@jupyter-widgets/controls",
          "model_name": "HTMLModel",
          "model_module_version": "1.5.0",
          "state": {
            "_dom_classes": [],
            "_model_module": "@jupyter-widgets/controls",
            "_model_module_version": "1.5.0",
            "_model_name": "HTMLModel",
            "_view_count": null,
            "_view_module": "@jupyter-widgets/controls",
            "_view_module_version": "1.5.0",
            "_view_name": "HTMLView",
            "description": "",
            "description_tooltip": null,
            "layout": "IPY_MODEL_67039c68379c484e83d6f007031bd485",
            "placeholder": "​",
            "style": "IPY_MODEL_fa8ea273b1f9494dbe17074ab38cc764",
            "value": "config.json: 100%"
          }
        },
        "3a8dfb36b4b44f7293394f69e79b9a30": {
          "model_module": "@jupyter-widgets/controls",
          "model_name": "FloatProgressModel",
          "model_module_version": "1.5.0",
          "state": {
            "_dom_classes": [],
            "_model_module": "@jupyter-widgets/controls",
            "_model_module_version": "1.5.0",
            "_model_name": "FloatProgressModel",
            "_view_count": null,
            "_view_module": "@jupyter-widgets/controls",
            "_view_module_version": "1.5.0",
            "_view_name": "ProgressView",
            "bar_style": "success",
            "description": "",
            "description_tooltip": null,
            "layout": "IPY_MODEL_fe1ebdfba0bf458ba2ce71f7ee8e7b9e",
            "max": 570,
            "min": 0,
            "orientation": "horizontal",
            "style": "IPY_MODEL_f58bcd7b8af8465fab4011c26986c775",
            "value": 570
          }
        },
        "ed48ac824ad041a69d4732d5de3625ed": {
          "model_module": "@jupyter-widgets/controls",
          "model_name": "HTMLModel",
          "model_module_version": "1.5.0",
          "state": {
            "_dom_classes": [],
            "_model_module": "@jupyter-widgets/controls",
            "_model_module_version": "1.5.0",
            "_model_name": "HTMLModel",
            "_view_count": null,
            "_view_module": "@jupyter-widgets/controls",
            "_view_module_version": "1.5.0",
            "_view_name": "HTMLView",
            "description": "",
            "description_tooltip": null,
            "layout": "IPY_MODEL_62f90b4e5fa5480a8c91e6b86acbf756",
            "placeholder": "​",
            "style": "IPY_MODEL_cd9ebeda4d624c67b37833f89e6f7e6c",
            "value": " 570/570 [00:00&lt;00:00, 36.2kB/s]"
          }
        },
        "c7324c5f342844dfab8545c6d47961c8": {
          "model_module": "@jupyter-widgets/base",
          "model_name": "LayoutModel",
          "model_module_version": "1.2.0",
          "state": {
            "_model_module": "@jupyter-widgets/base",
            "_model_module_version": "1.2.0",
            "_model_name": "LayoutModel",
            "_view_count": null,
            "_view_module": "@jupyter-widgets/base",
            "_view_module_version": "1.2.0",
            "_view_name": "LayoutView",
            "align_content": null,
            "align_items": null,
            "align_self": null,
            "border": null,
            "bottom": null,
            "display": null,
            "flex": null,
            "flex_flow": null,
            "grid_area": null,
            "grid_auto_columns": null,
            "grid_auto_flow": null,
            "grid_auto_rows": null,
            "grid_column": null,
            "grid_gap": null,
            "grid_row": null,
            "grid_template_areas": null,
            "grid_template_columns": null,
            "grid_template_rows": null,
            "height": null,
            "justify_content": null,
            "justify_items": null,
            "left": null,
            "margin": null,
            "max_height": null,
            "max_width": null,
            "min_height": null,
            "min_width": null,
            "object_fit": null,
            "object_position": null,
            "order": null,
            "overflow": null,
            "overflow_x": null,
            "overflow_y": null,
            "padding": null,
            "right": null,
            "top": null,
            "visibility": null,
            "width": null
          }
        },
        "67039c68379c484e83d6f007031bd485": {
          "model_module": "@jupyter-widgets/base",
          "model_name": "LayoutModel",
          "model_module_version": "1.2.0",
          "state": {
            "_model_module": "@jupyter-widgets/base",
            "_model_module_version": "1.2.0",
            "_model_name": "LayoutModel",
            "_view_count": null,
            "_view_module": "@jupyter-widgets/base",
            "_view_module_version": "1.2.0",
            "_view_name": "LayoutView",
            "align_content": null,
            "align_items": null,
            "align_self": null,
            "border": null,
            "bottom": null,
            "display": null,
            "flex": null,
            "flex_flow": null,
            "grid_area": null,
            "grid_auto_columns": null,
            "grid_auto_flow": null,
            "grid_auto_rows": null,
            "grid_column": null,
            "grid_gap": null,
            "grid_row": null,
            "grid_template_areas": null,
            "grid_template_columns": null,
            "grid_template_rows": null,
            "height": null,
            "justify_content": null,
            "justify_items": null,
            "left": null,
            "margin": null,
            "max_height": null,
            "max_width": null,
            "min_height": null,
            "min_width": null,
            "object_fit": null,
            "object_position": null,
            "order": null,
            "overflow": null,
            "overflow_x": null,
            "overflow_y": null,
            "padding": null,
            "right": null,
            "top": null,
            "visibility": null,
            "width": null
          }
        },
        "fa8ea273b1f9494dbe17074ab38cc764": {
          "model_module": "@jupyter-widgets/controls",
          "model_name": "DescriptionStyleModel",
          "model_module_version": "1.5.0",
          "state": {
            "_model_module": "@jupyter-widgets/controls",
            "_model_module_version": "1.5.0",
            "_model_name": "DescriptionStyleModel",
            "_view_count": null,
            "_view_module": "@jupyter-widgets/base",
            "_view_module_version": "1.2.0",
            "_view_name": "StyleView",
            "description_width": ""
          }
        },
        "fe1ebdfba0bf458ba2ce71f7ee8e7b9e": {
          "model_module": "@jupyter-widgets/base",
          "model_name": "LayoutModel",
          "model_module_version": "1.2.0",
          "state": {
            "_model_module": "@jupyter-widgets/base",
            "_model_module_version": "1.2.0",
            "_model_name": "LayoutModel",
            "_view_count": null,
            "_view_module": "@jupyter-widgets/base",
            "_view_module_version": "1.2.0",
            "_view_name": "LayoutView",
            "align_content": null,
            "align_items": null,
            "align_self": null,
            "border": null,
            "bottom": null,
            "display": null,
            "flex": null,
            "flex_flow": null,
            "grid_area": null,
            "grid_auto_columns": null,
            "grid_auto_flow": null,
            "grid_auto_rows": null,
            "grid_column": null,
            "grid_gap": null,
            "grid_row": null,
            "grid_template_areas": null,
            "grid_template_columns": null,
            "grid_template_rows": null,
            "height": null,
            "justify_content": null,
            "justify_items": null,
            "left": null,
            "margin": null,
            "max_height": null,
            "max_width": null,
            "min_height": null,
            "min_width": null,
            "object_fit": null,
            "object_position": null,
            "order": null,
            "overflow": null,
            "overflow_x": null,
            "overflow_y": null,
            "padding": null,
            "right": null,
            "top": null,
            "visibility": null,
            "width": null
          }
        },
        "f58bcd7b8af8465fab4011c26986c775": {
          "model_module": "@jupyter-widgets/controls",
          "model_name": "ProgressStyleModel",
          "model_module_version": "1.5.0",
          "state": {
            "_model_module": "@jupyter-widgets/controls",
            "_model_module_version": "1.5.0",
            "_model_name": "ProgressStyleModel",
            "_view_count": null,
            "_view_module": "@jupyter-widgets/base",
            "_view_module_version": "1.2.0",
            "_view_name": "StyleView",
            "bar_color": null,
            "description_width": ""
          }
        },
        "62f90b4e5fa5480a8c91e6b86acbf756": {
          "model_module": "@jupyter-widgets/base",
          "model_name": "LayoutModel",
          "model_module_version": "1.2.0",
          "state": {
            "_model_module": "@jupyter-widgets/base",
            "_model_module_version": "1.2.0",
            "_model_name": "LayoutModel",
            "_view_count": null,
            "_view_module": "@jupyter-widgets/base",
            "_view_module_version": "1.2.0",
            "_view_name": "LayoutView",
            "align_content": null,
            "align_items": null,
            "align_self": null,
            "border": null,
            "bottom": null,
            "display": null,
            "flex": null,
            "flex_flow": null,
            "grid_area": null,
            "grid_auto_columns": null,
            "grid_auto_flow": null,
            "grid_auto_rows": null,
            "grid_column": null,
            "grid_gap": null,
            "grid_row": null,
            "grid_template_areas": null,
            "grid_template_columns": null,
            "grid_template_rows": null,
            "height": null,
            "justify_content": null,
            "justify_items": null,
            "left": null,
            "margin": null,
            "max_height": null,
            "max_width": null,
            "min_height": null,
            "min_width": null,
            "object_fit": null,
            "object_position": null,
            "order": null,
            "overflow": null,
            "overflow_x": null,
            "overflow_y": null,
            "padding": null,
            "right": null,
            "top": null,
            "visibility": null,
            "width": null
          }
        },
        "cd9ebeda4d624c67b37833f89e6f7e6c": {
          "model_module": "@jupyter-widgets/controls",
          "model_name": "DescriptionStyleModel",
          "model_module_version": "1.5.0",
          "state": {
            "_model_module": "@jupyter-widgets/controls",
            "_model_module_version": "1.5.0",
            "_model_name": "DescriptionStyleModel",
            "_view_count": null,
            "_view_module": "@jupyter-widgets/base",
            "_view_module_version": "1.2.0",
            "_view_name": "StyleView",
            "description_width": ""
          }
        },
        "d64f32ee82db41cbab52fa3efb855207": {
          "model_module": "@jupyter-widgets/controls",
          "model_name": "HBoxModel",
          "model_module_version": "1.5.0",
          "state": {
            "_dom_classes": [],
            "_model_module": "@jupyter-widgets/controls",
            "_model_module_version": "1.5.0",
            "_model_name": "HBoxModel",
            "_view_count": null,
            "_view_module": "@jupyter-widgets/controls",
            "_view_module_version": "1.5.0",
            "_view_name": "HBoxView",
            "box_style": "",
            "children": [
              "IPY_MODEL_10c71a67aa4445ef87d78a5c293d6a6c",
              "IPY_MODEL_874b4b21a8964c0590854acbcd8d8256",
              "IPY_MODEL_674374a622924c87a2cc53477ea39ab9"
            ],
            "layout": "IPY_MODEL_014c395f6de3448785f2da9e19ce9062"
          }
        },
        "10c71a67aa4445ef87d78a5c293d6a6c": {
          "model_module": "@jupyter-widgets/controls",
          "model_name": "HTMLModel",
          "model_module_version": "1.5.0",
          "state": {
            "_dom_classes": [],
            "_model_module": "@jupyter-widgets/controls",
            "_model_module_version": "1.5.0",
            "_model_name": "HTMLModel",
            "_view_count": null,
            "_view_module": "@jupyter-widgets/controls",
            "_view_module_version": "1.5.0",
            "_view_name": "HTMLView",
            "description": "",
            "description_tooltip": null,
            "layout": "IPY_MODEL_c2f31314a7514f5986bdabef57424f10",
            "placeholder": "​",
            "style": "IPY_MODEL_3d3e61a7d70a40b9983e89e00edca21c",
            "value": "vocab.txt: 100%"
          }
        },
        "874b4b21a8964c0590854acbcd8d8256": {
          "model_module": "@jupyter-widgets/controls",
          "model_name": "FloatProgressModel",
          "model_module_version": "1.5.0",
          "state": {
            "_dom_classes": [],
            "_model_module": "@jupyter-widgets/controls",
            "_model_module_version": "1.5.0",
            "_model_name": "FloatProgressModel",
            "_view_count": null,
            "_view_module": "@jupyter-widgets/controls",
            "_view_module_version": "1.5.0",
            "_view_name": "ProgressView",
            "bar_style": "success",
            "description": "",
            "description_tooltip": null,
            "layout": "IPY_MODEL_bb0a5f3741b94cefaa830f05c0bedef2",
            "max": 213450,
            "min": 0,
            "orientation": "horizontal",
            "style": "IPY_MODEL_ed36abd4e49740c78ab113f3cbc94281",
            "value": 213450
          }
        },
        "674374a622924c87a2cc53477ea39ab9": {
          "model_module": "@jupyter-widgets/controls",
          "model_name": "HTMLModel",
          "model_module_version": "1.5.0",
          "state": {
            "_dom_classes": [],
            "_model_module": "@jupyter-widgets/controls",
            "_model_module_version": "1.5.0",
            "_model_name": "HTMLModel",
            "_view_count": null,
            "_view_module": "@jupyter-widgets/controls",
            "_view_module_version": "1.5.0",
            "_view_name": "HTMLView",
            "description": "",
            "description_tooltip": null,
            "layout": "IPY_MODEL_6e6e343e0ce648928122b25b7b22f87f",
            "placeholder": "​",
            "style": "IPY_MODEL_38f7daaab60d43d2acbb521b126f6167",
            "value": " 213k/213k [00:00&lt;00:00, 6.43MB/s]"
          }
        },
        "014c395f6de3448785f2da9e19ce9062": {
          "model_module": "@jupyter-widgets/base",
          "model_name": "LayoutModel",
          "model_module_version": "1.2.0",
          "state": {
            "_model_module": "@jupyter-widgets/base",
            "_model_module_version": "1.2.0",
            "_model_name": "LayoutModel",
            "_view_count": null,
            "_view_module": "@jupyter-widgets/base",
            "_view_module_version": "1.2.0",
            "_view_name": "LayoutView",
            "align_content": null,
            "align_items": null,
            "align_self": null,
            "border": null,
            "bottom": null,
            "display": null,
            "flex": null,
            "flex_flow": null,
            "grid_area": null,
            "grid_auto_columns": null,
            "grid_auto_flow": null,
            "grid_auto_rows": null,
            "grid_column": null,
            "grid_gap": null,
            "grid_row": null,
            "grid_template_areas": null,
            "grid_template_columns": null,
            "grid_template_rows": null,
            "height": null,
            "justify_content": null,
            "justify_items": null,
            "left": null,
            "margin": null,
            "max_height": null,
            "max_width": null,
            "min_height": null,
            "min_width": null,
            "object_fit": null,
            "object_position": null,
            "order": null,
            "overflow": null,
            "overflow_x": null,
            "overflow_y": null,
            "padding": null,
            "right": null,
            "top": null,
            "visibility": null,
            "width": null
          }
        },
        "c2f31314a7514f5986bdabef57424f10": {
          "model_module": "@jupyter-widgets/base",
          "model_name": "LayoutModel",
          "model_module_version": "1.2.0",
          "state": {
            "_model_module": "@jupyter-widgets/base",
            "_model_module_version": "1.2.0",
            "_model_name": "LayoutModel",
            "_view_count": null,
            "_view_module": "@jupyter-widgets/base",
            "_view_module_version": "1.2.0",
            "_view_name": "LayoutView",
            "align_content": null,
            "align_items": null,
            "align_self": null,
            "border": null,
            "bottom": null,
            "display": null,
            "flex": null,
            "flex_flow": null,
            "grid_area": null,
            "grid_auto_columns": null,
            "grid_auto_flow": null,
            "grid_auto_rows": null,
            "grid_column": null,
            "grid_gap": null,
            "grid_row": null,
            "grid_template_areas": null,
            "grid_template_columns": null,
            "grid_template_rows": null,
            "height": null,
            "justify_content": null,
            "justify_items": null,
            "left": null,
            "margin": null,
            "max_height": null,
            "max_width": null,
            "min_height": null,
            "min_width": null,
            "object_fit": null,
            "object_position": null,
            "order": null,
            "overflow": null,
            "overflow_x": null,
            "overflow_y": null,
            "padding": null,
            "right": null,
            "top": null,
            "visibility": null,
            "width": null
          }
        },
        "3d3e61a7d70a40b9983e89e00edca21c": {
          "model_module": "@jupyter-widgets/controls",
          "model_name": "DescriptionStyleModel",
          "model_module_version": "1.5.0",
          "state": {
            "_model_module": "@jupyter-widgets/controls",
            "_model_module_version": "1.5.0",
            "_model_name": "DescriptionStyleModel",
            "_view_count": null,
            "_view_module": "@jupyter-widgets/base",
            "_view_module_version": "1.2.0",
            "_view_name": "StyleView",
            "description_width": ""
          }
        },
        "bb0a5f3741b94cefaa830f05c0bedef2": {
          "model_module": "@jupyter-widgets/base",
          "model_name": "LayoutModel",
          "model_module_version": "1.2.0",
          "state": {
            "_model_module": "@jupyter-widgets/base",
            "_model_module_version": "1.2.0",
            "_model_name": "LayoutModel",
            "_view_count": null,
            "_view_module": "@jupyter-widgets/base",
            "_view_module_version": "1.2.0",
            "_view_name": "LayoutView",
            "align_content": null,
            "align_items": null,
            "align_self": null,
            "border": null,
            "bottom": null,
            "display": null,
            "flex": null,
            "flex_flow": null,
            "grid_area": null,
            "grid_auto_columns": null,
            "grid_auto_flow": null,
            "grid_auto_rows": null,
            "grid_column": null,
            "grid_gap": null,
            "grid_row": null,
            "grid_template_areas": null,
            "grid_template_columns": null,
            "grid_template_rows": null,
            "height": null,
            "justify_content": null,
            "justify_items": null,
            "left": null,
            "margin": null,
            "max_height": null,
            "max_width": null,
            "min_height": null,
            "min_width": null,
            "object_fit": null,
            "object_position": null,
            "order": null,
            "overflow": null,
            "overflow_x": null,
            "overflow_y": null,
            "padding": null,
            "right": null,
            "top": null,
            "visibility": null,
            "width": null
          }
        },
        "ed36abd4e49740c78ab113f3cbc94281": {
          "model_module": "@jupyter-widgets/controls",
          "model_name": "ProgressStyleModel",
          "model_module_version": "1.5.0",
          "state": {
            "_model_module": "@jupyter-widgets/controls",
            "_model_module_version": "1.5.0",
            "_model_name": "ProgressStyleModel",
            "_view_count": null,
            "_view_module": "@jupyter-widgets/base",
            "_view_module_version": "1.2.0",
            "_view_name": "StyleView",
            "bar_color": null,
            "description_width": ""
          }
        },
        "6e6e343e0ce648928122b25b7b22f87f": {
          "model_module": "@jupyter-widgets/base",
          "model_name": "LayoutModel",
          "model_module_version": "1.2.0",
          "state": {
            "_model_module": "@jupyter-widgets/base",
            "_model_module_version": "1.2.0",
            "_model_name": "LayoutModel",
            "_view_count": null,
            "_view_module": "@jupyter-widgets/base",
            "_view_module_version": "1.2.0",
            "_view_name": "LayoutView",
            "align_content": null,
            "align_items": null,
            "align_self": null,
            "border": null,
            "bottom": null,
            "display": null,
            "flex": null,
            "flex_flow": null,
            "grid_area": null,
            "grid_auto_columns": null,
            "grid_auto_flow": null,
            "grid_auto_rows": null,
            "grid_column": null,
            "grid_gap": null,
            "grid_row": null,
            "grid_template_areas": null,
            "grid_template_columns": null,
            "grid_template_rows": null,
            "height": null,
            "justify_content": null,
            "justify_items": null,
            "left": null,
            "margin": null,
            "max_height": null,
            "max_width": null,
            "min_height": null,
            "min_width": null,
            "object_fit": null,
            "object_position": null,
            "order": null,
            "overflow": null,
            "overflow_x": null,
            "overflow_y": null,
            "padding": null,
            "right": null,
            "top": null,
            "visibility": null,
            "width": null
          }
        },
        "38f7daaab60d43d2acbb521b126f6167": {
          "model_module": "@jupyter-widgets/controls",
          "model_name": "DescriptionStyleModel",
          "model_module_version": "1.5.0",
          "state": {
            "_model_module": "@jupyter-widgets/controls",
            "_model_module_version": "1.5.0",
            "_model_name": "DescriptionStyleModel",
            "_view_count": null,
            "_view_module": "@jupyter-widgets/base",
            "_view_module_version": "1.2.0",
            "_view_name": "StyleView",
            "description_width": ""
          }
        },
        "d5212db86be04daf842902cfda8258be": {
          "model_module": "@jupyter-widgets/controls",
          "model_name": "HBoxModel",
          "model_module_version": "1.5.0",
          "state": {
            "_dom_classes": [],
            "_model_module": "@jupyter-widgets/controls",
            "_model_module_version": "1.5.0",
            "_model_name": "HBoxModel",
            "_view_count": null,
            "_view_module": "@jupyter-widgets/controls",
            "_view_module_version": "1.5.0",
            "_view_name": "HBoxView",
            "box_style": "",
            "children": [
              "IPY_MODEL_97a8ae786cfa4edaa8385d8737941851",
              "IPY_MODEL_2e16bb2bcffa4d5192c218d348ce9226",
              "IPY_MODEL_b3b3d03412904aa68599e0aac6960f32"
            ],
            "layout": "IPY_MODEL_b31a1d4501754acd939988c9b76e97e5"
          }
        },
        "97a8ae786cfa4edaa8385d8737941851": {
          "model_module": "@jupyter-widgets/controls",
          "model_name": "HTMLModel",
          "model_module_version": "1.5.0",
          "state": {
            "_dom_classes": [],
            "_model_module": "@jupyter-widgets/controls",
            "_model_module_version": "1.5.0",
            "_model_name": "HTMLModel",
            "_view_count": null,
            "_view_module": "@jupyter-widgets/controls",
            "_view_module_version": "1.5.0",
            "_view_name": "HTMLView",
            "description": "",
            "description_tooltip": null,
            "layout": "IPY_MODEL_6c2467b4523b4dacadd9e6716c167776",
            "placeholder": "​",
            "style": "IPY_MODEL_dff36fac480244a2883530ba84f9cb93",
            "value": "tokenizer.json: 100%"
          }
        },
        "2e16bb2bcffa4d5192c218d348ce9226": {
          "model_module": "@jupyter-widgets/controls",
          "model_name": "FloatProgressModel",
          "model_module_version": "1.5.0",
          "state": {
            "_dom_classes": [],
            "_model_module": "@jupyter-widgets/controls",
            "_model_module_version": "1.5.0",
            "_model_name": "FloatProgressModel",
            "_view_count": null,
            "_view_module": "@jupyter-widgets/controls",
            "_view_module_version": "1.5.0",
            "_view_name": "ProgressView",
            "bar_style": "success",
            "description": "",
            "description_tooltip": null,
            "layout": "IPY_MODEL_d39399d0fc084c7e886db314e77872b4",
            "max": 435797,
            "min": 0,
            "orientation": "horizontal",
            "style": "IPY_MODEL_81f8f7fa9ca94b51b8830179c0c0ea8b",
            "value": 435797
          }
        },
        "b3b3d03412904aa68599e0aac6960f32": {
          "model_module": "@jupyter-widgets/controls",
          "model_name": "HTMLModel",
          "model_module_version": "1.5.0",
          "state": {
            "_dom_classes": [],
            "_model_module": "@jupyter-widgets/controls",
            "_model_module_version": "1.5.0",
            "_model_name": "HTMLModel",
            "_view_count": null,
            "_view_module": "@jupyter-widgets/controls",
            "_view_module_version": "1.5.0",
            "_view_name": "HTMLView",
            "description": "",
            "description_tooltip": null,
            "layout": "IPY_MODEL_6cbf36d6f4504baab2a1c41559fd9ec0",
            "placeholder": "​",
            "style": "IPY_MODEL_d60aa32c3c48432c8829d5c08ea9e09a",
            "value": " 436k/436k [00:00&lt;00:00, 6.81MB/s]"
          }
        },
        "b31a1d4501754acd939988c9b76e97e5": {
          "model_module": "@jupyter-widgets/base",
          "model_name": "LayoutModel",
          "model_module_version": "1.2.0",
          "state": {
            "_model_module": "@jupyter-widgets/base",
            "_model_module_version": "1.2.0",
            "_model_name": "LayoutModel",
            "_view_count": null,
            "_view_module": "@jupyter-widgets/base",
            "_view_module_version": "1.2.0",
            "_view_name": "LayoutView",
            "align_content": null,
            "align_items": null,
            "align_self": null,
            "border": null,
            "bottom": null,
            "display": null,
            "flex": null,
            "flex_flow": null,
            "grid_area": null,
            "grid_auto_columns": null,
            "grid_auto_flow": null,
            "grid_auto_rows": null,
            "grid_column": null,
            "grid_gap": null,
            "grid_row": null,
            "grid_template_areas": null,
            "grid_template_columns": null,
            "grid_template_rows": null,
            "height": null,
            "justify_content": null,
            "justify_items": null,
            "left": null,
            "margin": null,
            "max_height": null,
            "max_width": null,
            "min_height": null,
            "min_width": null,
            "object_fit": null,
            "object_position": null,
            "order": null,
            "overflow": null,
            "overflow_x": null,
            "overflow_y": null,
            "padding": null,
            "right": null,
            "top": null,
            "visibility": null,
            "width": null
          }
        },
        "6c2467b4523b4dacadd9e6716c167776": {
          "model_module": "@jupyter-widgets/base",
          "model_name": "LayoutModel",
          "model_module_version": "1.2.0",
          "state": {
            "_model_module": "@jupyter-widgets/base",
            "_model_module_version": "1.2.0",
            "_model_name": "LayoutModel",
            "_view_count": null,
            "_view_module": "@jupyter-widgets/base",
            "_view_module_version": "1.2.0",
            "_view_name": "LayoutView",
            "align_content": null,
            "align_items": null,
            "align_self": null,
            "border": null,
            "bottom": null,
            "display": null,
            "flex": null,
            "flex_flow": null,
            "grid_area": null,
            "grid_auto_columns": null,
            "grid_auto_flow": null,
            "grid_auto_rows": null,
            "grid_column": null,
            "grid_gap": null,
            "grid_row": null,
            "grid_template_areas": null,
            "grid_template_columns": null,
            "grid_template_rows": null,
            "height": null,
            "justify_content": null,
            "justify_items": null,
            "left": null,
            "margin": null,
            "max_height": null,
            "max_width": null,
            "min_height": null,
            "min_width": null,
            "object_fit": null,
            "object_position": null,
            "order": null,
            "overflow": null,
            "overflow_x": null,
            "overflow_y": null,
            "padding": null,
            "right": null,
            "top": null,
            "visibility": null,
            "width": null
          }
        },
        "dff36fac480244a2883530ba84f9cb93": {
          "model_module": "@jupyter-widgets/controls",
          "model_name": "DescriptionStyleModel",
          "model_module_version": "1.5.0",
          "state": {
            "_model_module": "@jupyter-widgets/controls",
            "_model_module_version": "1.5.0",
            "_model_name": "DescriptionStyleModel",
            "_view_count": null,
            "_view_module": "@jupyter-widgets/base",
            "_view_module_version": "1.2.0",
            "_view_name": "StyleView",
            "description_width": ""
          }
        },
        "d39399d0fc084c7e886db314e77872b4": {
          "model_module": "@jupyter-widgets/base",
          "model_name": "LayoutModel",
          "model_module_version": "1.2.0",
          "state": {
            "_model_module": "@jupyter-widgets/base",
            "_model_module_version": "1.2.0",
            "_model_name": "LayoutModel",
            "_view_count": null,
            "_view_module": "@jupyter-widgets/base",
            "_view_module_version": "1.2.0",
            "_view_name": "LayoutView",
            "align_content": null,
            "align_items": null,
            "align_self": null,
            "border": null,
            "bottom": null,
            "display": null,
            "flex": null,
            "flex_flow": null,
            "grid_area": null,
            "grid_auto_columns": null,
            "grid_auto_flow": null,
            "grid_auto_rows": null,
            "grid_column": null,
            "grid_gap": null,
            "grid_row": null,
            "grid_template_areas": null,
            "grid_template_columns": null,
            "grid_template_rows": null,
            "height": null,
            "justify_content": null,
            "justify_items": null,
            "left": null,
            "margin": null,
            "max_height": null,
            "max_width": null,
            "min_height": null,
            "min_width": null,
            "object_fit": null,
            "object_position": null,
            "order": null,
            "overflow": null,
            "overflow_x": null,
            "overflow_y": null,
            "padding": null,
            "right": null,
            "top": null,
            "visibility": null,
            "width": null
          }
        },
        "81f8f7fa9ca94b51b8830179c0c0ea8b": {
          "model_module": "@jupyter-widgets/controls",
          "model_name": "ProgressStyleModel",
          "model_module_version": "1.5.0",
          "state": {
            "_model_module": "@jupyter-widgets/controls",
            "_model_module_version": "1.5.0",
            "_model_name": "ProgressStyleModel",
            "_view_count": null,
            "_view_module": "@jupyter-widgets/base",
            "_view_module_version": "1.2.0",
            "_view_name": "StyleView",
            "bar_color": null,
            "description_width": ""
          }
        },
        "6cbf36d6f4504baab2a1c41559fd9ec0": {
          "model_module": "@jupyter-widgets/base",
          "model_name": "LayoutModel",
          "model_module_version": "1.2.0",
          "state": {
            "_model_module": "@jupyter-widgets/base",
            "_model_module_version": "1.2.0",
            "_model_name": "LayoutModel",
            "_view_count": null,
            "_view_module": "@jupyter-widgets/base",
            "_view_module_version": "1.2.0",
            "_view_name": "LayoutView",
            "align_content": null,
            "align_items": null,
            "align_self": null,
            "border": null,
            "bottom": null,
            "display": null,
            "flex": null,
            "flex_flow": null,
            "grid_area": null,
            "grid_auto_columns": null,
            "grid_auto_flow": null,
            "grid_auto_rows": null,
            "grid_column": null,
            "grid_gap": null,
            "grid_row": null,
            "grid_template_areas": null,
            "grid_template_columns": null,
            "grid_template_rows": null,
            "height": null,
            "justify_content": null,
            "justify_items": null,
            "left": null,
            "margin": null,
            "max_height": null,
            "max_width": null,
            "min_height": null,
            "min_width": null,
            "object_fit": null,
            "object_position": null,
            "order": null,
            "overflow": null,
            "overflow_x": null,
            "overflow_y": null,
            "padding": null,
            "right": null,
            "top": null,
            "visibility": null,
            "width": null
          }
        },
        "d60aa32c3c48432c8829d5c08ea9e09a": {
          "model_module": "@jupyter-widgets/controls",
          "model_name": "DescriptionStyleModel",
          "model_module_version": "1.5.0",
          "state": {
            "_model_module": "@jupyter-widgets/controls",
            "_model_module_version": "1.5.0",
            "_model_name": "DescriptionStyleModel",
            "_view_count": null,
            "_view_module": "@jupyter-widgets/base",
            "_view_module_version": "1.2.0",
            "_view_name": "StyleView",
            "description_width": ""
          }
        },
        "e56cb0f67f48487ba03acfc226323cc4": {
          "model_module": "@jupyter-widgets/controls",
          "model_name": "HBoxModel",
          "model_module_version": "1.5.0",
          "state": {
            "_dom_classes": [],
            "_model_module": "@jupyter-widgets/controls",
            "_model_module_version": "1.5.0",
            "_model_name": "HBoxModel",
            "_view_count": null,
            "_view_module": "@jupyter-widgets/controls",
            "_view_module_version": "1.5.0",
            "_view_name": "HBoxView",
            "box_style": "",
            "children": [
              "IPY_MODEL_49fd4d2a6b4248aa8c7978514c45d5b5",
              "IPY_MODEL_e5aad371f1ea4dcfa250492a58cef0f6",
              "IPY_MODEL_297d89a171e646a8b7abb1d54bb6ab04"
            ],
            "layout": "IPY_MODEL_90e9b9f922b2405296adec00ba95d5fb"
          }
        },
        "49fd4d2a6b4248aa8c7978514c45d5b5": {
          "model_module": "@jupyter-widgets/controls",
          "model_name": "HTMLModel",
          "model_module_version": "1.5.0",
          "state": {
            "_dom_classes": [],
            "_model_module": "@jupyter-widgets/controls",
            "_model_module_version": "1.5.0",
            "_model_name": "HTMLModel",
            "_view_count": null,
            "_view_module": "@jupyter-widgets/controls",
            "_view_module_version": "1.5.0",
            "_view_name": "HTMLView",
            "description": "",
            "description_tooltip": null,
            "layout": "IPY_MODEL_ee212557d75b49ab8bc38a67cb2ea59a",
            "placeholder": "​",
            "style": "IPY_MODEL_d1f66065948f4f8d9828efcfa0cd0648",
            "value": "model.safetensors: 100%"
          }
        },
        "e5aad371f1ea4dcfa250492a58cef0f6": {
          "model_module": "@jupyter-widgets/controls",
          "model_name": "FloatProgressModel",
          "model_module_version": "1.5.0",
          "state": {
            "_dom_classes": [],
            "_model_module": "@jupyter-widgets/controls",
            "_model_module_version": "1.5.0",
            "_model_name": "FloatProgressModel",
            "_view_count": null,
            "_view_module": "@jupyter-widgets/controls",
            "_view_module_version": "1.5.0",
            "_view_name": "ProgressView",
            "bar_style": "success",
            "description": "",
            "description_tooltip": null,
            "layout": "IPY_MODEL_70d21a0641424786944e27ee544acd68",
            "max": 435755784,
            "min": 0,
            "orientation": "horizontal",
            "style": "IPY_MODEL_0907b150d7384218833434ebe496b07a",
            "value": 435755784
          }
        },
        "297d89a171e646a8b7abb1d54bb6ab04": {
          "model_module": "@jupyter-widgets/controls",
          "model_name": "HTMLModel",
          "model_module_version": "1.5.0",
          "state": {
            "_dom_classes": [],
            "_model_module": "@jupyter-widgets/controls",
            "_model_module_version": "1.5.0",
            "_model_name": "HTMLModel",
            "_view_count": null,
            "_view_module": "@jupyter-widgets/controls",
            "_view_module_version": "1.5.0",
            "_view_name": "HTMLView",
            "description": "",
            "description_tooltip": null,
            "layout": "IPY_MODEL_9c3b2f364a424bf495f2246917c5b800",
            "placeholder": "​",
            "style": "IPY_MODEL_e86ed4988b5a49b8a712e39bac7ba085",
            "value": " 436M/436M [00:04&lt;00:00, 31.5MB/s]"
          }
        },
        "90e9b9f922b2405296adec00ba95d5fb": {
          "model_module": "@jupyter-widgets/base",
          "model_name": "LayoutModel",
          "model_module_version": "1.2.0",
          "state": {
            "_model_module": "@jupyter-widgets/base",
            "_model_module_version": "1.2.0",
            "_model_name": "LayoutModel",
            "_view_count": null,
            "_view_module": "@jupyter-widgets/base",
            "_view_module_version": "1.2.0",
            "_view_name": "LayoutView",
            "align_content": null,
            "align_items": null,
            "align_self": null,
            "border": null,
            "bottom": null,
            "display": null,
            "flex": null,
            "flex_flow": null,
            "grid_area": null,
            "grid_auto_columns": null,
            "grid_auto_flow": null,
            "grid_auto_rows": null,
            "grid_column": null,
            "grid_gap": null,
            "grid_row": null,
            "grid_template_areas": null,
            "grid_template_columns": null,
            "grid_template_rows": null,
            "height": null,
            "justify_content": null,
            "justify_items": null,
            "left": null,
            "margin": null,
            "max_height": null,
            "max_width": null,
            "min_height": null,
            "min_width": null,
            "object_fit": null,
            "object_position": null,
            "order": null,
            "overflow": null,
            "overflow_x": null,
            "overflow_y": null,
            "padding": null,
            "right": null,
            "top": null,
            "visibility": null,
            "width": null
          }
        },
        "ee212557d75b49ab8bc38a67cb2ea59a": {
          "model_module": "@jupyter-widgets/base",
          "model_name": "LayoutModel",
          "model_module_version": "1.2.0",
          "state": {
            "_model_module": "@jupyter-widgets/base",
            "_model_module_version": "1.2.0",
            "_model_name": "LayoutModel",
            "_view_count": null,
            "_view_module": "@jupyter-widgets/base",
            "_view_module_version": "1.2.0",
            "_view_name": "LayoutView",
            "align_content": null,
            "align_items": null,
            "align_self": null,
            "border": null,
            "bottom": null,
            "display": null,
            "flex": null,
            "flex_flow": null,
            "grid_area": null,
            "grid_auto_columns": null,
            "grid_auto_flow": null,
            "grid_auto_rows": null,
            "grid_column": null,
            "grid_gap": null,
            "grid_row": null,
            "grid_template_areas": null,
            "grid_template_columns": null,
            "grid_template_rows": null,
            "height": null,
            "justify_content": null,
            "justify_items": null,
            "left": null,
            "margin": null,
            "max_height": null,
            "max_width": null,
            "min_height": null,
            "min_width": null,
            "object_fit": null,
            "object_position": null,
            "order": null,
            "overflow": null,
            "overflow_x": null,
            "overflow_y": null,
            "padding": null,
            "right": null,
            "top": null,
            "visibility": null,
            "width": null
          }
        },
        "d1f66065948f4f8d9828efcfa0cd0648": {
          "model_module": "@jupyter-widgets/controls",
          "model_name": "DescriptionStyleModel",
          "model_module_version": "1.5.0",
          "state": {
            "_model_module": "@jupyter-widgets/controls",
            "_model_module_version": "1.5.0",
            "_model_name": "DescriptionStyleModel",
            "_view_count": null,
            "_view_module": "@jupyter-widgets/base",
            "_view_module_version": "1.2.0",
            "_view_name": "StyleView",
            "description_width": ""
          }
        },
        "70d21a0641424786944e27ee544acd68": {
          "model_module": "@jupyter-widgets/base",
          "model_name": "LayoutModel",
          "model_module_version": "1.2.0",
          "state": {
            "_model_module": "@jupyter-widgets/base",
            "_model_module_version": "1.2.0",
            "_model_name": "LayoutModel",
            "_view_count": null,
            "_view_module": "@jupyter-widgets/base",
            "_view_module_version": "1.2.0",
            "_view_name": "LayoutView",
            "align_content": null,
            "align_items": null,
            "align_self": null,
            "border": null,
            "bottom": null,
            "display": null,
            "flex": null,
            "flex_flow": null,
            "grid_area": null,
            "grid_auto_columns": null,
            "grid_auto_flow": null,
            "grid_auto_rows": null,
            "grid_column": null,
            "grid_gap": null,
            "grid_row": null,
            "grid_template_areas": null,
            "grid_template_columns": null,
            "grid_template_rows": null,
            "height": null,
            "justify_content": null,
            "justify_items": null,
            "left": null,
            "margin": null,
            "max_height": null,
            "max_width": null,
            "min_height": null,
            "min_width": null,
            "object_fit": null,
            "object_position": null,
            "order": null,
            "overflow": null,
            "overflow_x": null,
            "overflow_y": null,
            "padding": null,
            "right": null,
            "top": null,
            "visibility": null,
            "width": null
          }
        },
        "0907b150d7384218833434ebe496b07a": {
          "model_module": "@jupyter-widgets/controls",
          "model_name": "ProgressStyleModel",
          "model_module_version": "1.5.0",
          "state": {
            "_model_module": "@jupyter-widgets/controls",
            "_model_module_version": "1.5.0",
            "_model_name": "ProgressStyleModel",
            "_view_count": null,
            "_view_module": "@jupyter-widgets/base",
            "_view_module_version": "1.2.0",
            "_view_name": "StyleView",
            "bar_color": null,
            "description_width": ""
          }
        },
        "9c3b2f364a424bf495f2246917c5b800": {
          "model_module": "@jupyter-widgets/base",
          "model_name": "LayoutModel",
          "model_module_version": "1.2.0",
          "state": {
            "_model_module": "@jupyter-widgets/base",
            "_model_module_version": "1.2.0",
            "_model_name": "LayoutModel",
            "_view_count": null,
            "_view_module": "@jupyter-widgets/base",
            "_view_module_version": "1.2.0",
            "_view_name": "LayoutView",
            "align_content": null,
            "align_items": null,
            "align_self": null,
            "border": null,
            "bottom": null,
            "display": null,
            "flex": null,
            "flex_flow": null,
            "grid_area": null,
            "grid_auto_columns": null,
            "grid_auto_flow": null,
            "grid_auto_rows": null,
            "grid_column": null,
            "grid_gap": null,
            "grid_row": null,
            "grid_template_areas": null,
            "grid_template_columns": null,
            "grid_template_rows": null,
            "height": null,
            "justify_content": null,
            "justify_items": null,
            "left": null,
            "margin": null,
            "max_height": null,
            "max_width": null,
            "min_height": null,
            "min_width": null,
            "object_fit": null,
            "object_position": null,
            "order": null,
            "overflow": null,
            "overflow_x": null,
            "overflow_y": null,
            "padding": null,
            "right": null,
            "top": null,
            "visibility": null,
            "width": null
          }
        },
        "e86ed4988b5a49b8a712e39bac7ba085": {
          "model_module": "@jupyter-widgets/controls",
          "model_name": "DescriptionStyleModel",
          "model_module_version": "1.5.0",
          "state": {
            "_model_module": "@jupyter-widgets/controls",
            "_model_module_version": "1.5.0",
            "_model_name": "DescriptionStyleModel",
            "_view_count": null,
            "_view_module": "@jupyter-widgets/base",
            "_view_module_version": "1.2.0",
            "_view_name": "StyleView",
            "description_width": ""
          }
        }
      }
    }
  },
  "nbformat": 4,
  "nbformat_minor": 5
}