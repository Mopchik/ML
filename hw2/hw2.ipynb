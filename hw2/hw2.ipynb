{
  "cells": [
    {
      "cell_type": "markdown",
      "id": "4daf213c-55bd-4481-b92e-9d5e56dd11a7",
      "metadata": {
        "id": "4daf213c-55bd-4481-b92e-9d5e56dd11a7"
      },
      "source": [
        "# Глубинное обучение для текстовых данных, ФКН ВШЭ\n",
        "\n",
        "## Домашнее задание 2: Токенизация и классификация рекуррентными нейронными сетями\n",
        "\n",
        "### Оценивание и штрафы\n",
        "\n",
        "Максимально допустимая оценка за работу — 13 баллов. Сдавать задание после указанного срока сдачи нельзя.\n",
        "\n",
        "Задание выполняется самостоятельно. «Похожие» решения считаются плагиатом и все задействованные студенты (в том числе те, у кого списали) не могут получить за него больше 0 баллов. Весь код должен быть написан самостоятельно. Чужим кодом для пользоваться запрещается даже с указанием ссылки на источник. В разумных рамках, конечно. Взять пару очевидных строчек кода для реализации какого-то небольшого функционала можно.\n",
        "\n",
        "Неэффективная реализация кода может негативно отразиться на оценке. Также оценка может быть снижена за плохо читаемый код и плохо оформленные графики. Все ответы должны сопровождаться кодом или комментариями о том, как они были получены.\n",
        "\n",
        "### О задании\n",
        "\n",
        "Это задание посвящено решению задачи классификации тональности текста с помощью рекуррентных нейронных сетей (и сверточных). В отличие от предыдущей домашки, в этом задании не будет шаблонов кода, вам придется написать все самостоятельно, поэтому постарайтесь хорошо организовать код. Мы крайне рекомендуем реализовывать все модели и вспомогательные функции в отдельных файлах, а затем их импортировать. Иначе вы рискуете превратить ноутбук в кашу.\n",
        "\n",
        "Обучение не должно занимать много времени, однако для ускорения мы советуем использовать различные приемы, такие как mixed-precision ([ссылка](https://huggingface.co/docs/accelerate/package_reference/accelerator) и [ссылка](https://pytorch.org/docs/stable/amp.html)) и torch.compile (для torch >= 2.0, [ссылка](https://pytorch.org/tutorials/intermediate/torch_compile_tutorial.html)). Так же мы настоятельно рекомендуем логировать все графики обучения с помощью платформы [wandb](https://docs.wandb.ai/quickstart).\n",
        "\n",
        "Все модели нужно будет реализовывать на pytorch (считать градиенты руками не надо). При обучении разных моделей используйте одинаковые параметры оптимизатора, базмер батча, а так же учите либо одинаковое число эпох, либо до сходимости. В общем, постарайтесь, чтобы сравнение всегда было максимально честным.\n",
        "\n",
        "\n",
        "__Мягкий дедлайн: 03.11.23 23:59__\n",
        "\n",
        "__Жесткий дедлайн: 07.11.23 23:59__"
      ]
    },
    {
      "cell_type": "markdown",
      "id": "f0351ea6-b6b3-42ce-aa0f-a3fd0749c964",
      "metadata": {
        "id": "f0351ea6-b6b3-42ce-aa0f-a3fd0749c964"
      },
      "source": [
        "### Данные и токенизация\n",
        "\n",
        "Мы будем обучать модель на задачу классификации тональности текста. Данные взяты с платформы IMDb и содержат положительные и отрицательные отзывы о фильмах, примерно по 5к текстов каждого класса. Вы можете найти их в папке `datasets/IMDb`."
      ]
    },
    {
      "cell_type": "code",
      "execution_count": null,
      "id": "57c6bb82-576d-45fc-8722-7da891a8f2eb",
      "metadata": {
        "ExecuteTime": {
          "end_time": "2023-11-03T09:50:15.091664Z",
          "start_time": "2023-11-03T09:50:12.356114Z"
        },
        "id": "57c6bb82-576d-45fc-8722-7da891a8f2eb"
      },
      "outputs": [],
      "source": [
        "%load_ext autoreload\n",
        "%autoreload 2"
      ]
    },
    {
      "cell_type": "code",
      "source": [
        "import torch\n",
        "device = 'cuda' if torch.cuda.is_available() else 'gpu'\n",
        "device"
      ],
      "metadata": {
        "colab": {
          "base_uri": "https://localhost:8080/",
          "height": 35
        },
        "id": "5Z1NaCXCqUHG",
        "outputId": "c97edd8d-e8ea-44bb-d7ed-279b5defc9cc"
      },
      "id": "5Z1NaCXCqUHG",
      "execution_count": null,
      "outputs": [
        {
          "output_type": "execute_result",
          "data": {
            "text/plain": [
              "'cuda'"
            ],
            "application/vnd.google.colaboratory.intrinsic+json": {
              "type": "string"
            }
          },
          "metadata": {},
          "execution_count": 2
        }
      ]
    },
    {
      "cell_type": "markdown",
      "id": "5cb46c5e-e720-4a16-bcff-764edf928de0",
      "metadata": {
        "id": "5cb46c5e-e720-4a16-bcff-764edf928de0"
      },
      "source": [
        "__Задание 1 (2 балла)__\n",
        "Как всегда, для работы с текстом нам нужно как-то его токенизировать. В этом задании вам предстоит заняться этим. Выберите один из трех методов токенизации, разобранных на лекции: __BPE__, __WordPiece__, __Unigram__. Реализуйте его самостоятельно без использования специализированных библиотек (например, huggingface). Ваш токенизатор должен иметь интерфейс токенизатора из huggingface. То есть он должен иметь метод `encode`, возвращающий словарь с полями `input_ids` и `attention_mask`, а так же метод `decode`, принимающий последовательности токенов и возвращающий соответствующие им тексты. Ограничьте размер словаря 30000 токенами. Ваш токенизатор не обязан добавлять токены начала и конца последовательности, потому что они не обязательны в задаче классификации. Однако при желании вы можете их добавить. Все тонкости реализации, такие как прочие аргументы функций, типы переменных и так далее остаются на ваше усмотрение."
      ]
    },
    {
      "cell_type": "code",
      "execution_count": null,
      "id": "1ca1109b-ba6a-42b5-974c-90316df810f1",
      "metadata": {
        "ExecuteTime": {
          "end_time": "2023-11-04T03:26:28.936309Z",
          "start_time": "2023-11-04T03:17:12.620192Z"
        },
        "id": "1ca1109b-ba6a-42b5-974c-90316df810f1"
      },
      "outputs": [],
      "source": [
        "from BPETokenizer import BPETokenizer\n",
        "\n",
        "tokenizer = BPETokenizer()\n",
        "files = [f\"datasets/IMDb/{split}/{kind}\" for split in [\"train\"] for kind in [\"negative\", \"positive\"]]\n",
        "allLines = []\n",
        "\n",
        "for fileName in files:\n",
        "    with open(fileName, 'r') as file:\n",
        "        allLines += [str.lower().replace('\\n', '').replace('<br /><br />', '') for str in file.readlines()]\n",
        "\n",
        "tokenizer.fit(allLines)"
      ]
    },
    {
      "cell_type": "code",
      "source": [
        "import pickle"
      ],
      "metadata": {
        "id": "zQCYc3bPVOBp"
      },
      "id": "zQCYc3bPVOBp",
      "execution_count": null,
      "outputs": []
    },
    {
      "cell_type": "code",
      "source": [
        "# Сохранение tokenizer в файл\n",
        "with open('tokenizer.pkl', 'wb') as file:\n",
        "    pickle.dump(tokenizer, file)"
      ],
      "metadata": {
        "id": "tXen-0pGVwBX"
      },
      "id": "tXen-0pGVwBX",
      "execution_count": null,
      "outputs": []
    },
    {
      "cell_type": "code",
      "source": [
        "# Загрузка tokenizer из файла\n",
        "with open('tokenizer.pkl', 'rb') as file:\n",
        "    tokenizer = pickle.load(file)"
      ],
      "metadata": {
        "id": "hecV-zi1VOwG"
      },
      "id": "hecV-zi1VOwG",
      "execution_count": null,
      "outputs": []
    },
    {
      "cell_type": "code",
      "execution_count": null,
      "outputs": [
        {
          "output_type": "execute_result",
          "data": {
            "text/plain": [
              "['reatl',\n",
              " 'rease',\n",
              " 'rcy',\n",
              " 'razi',\n",
              " 'ranci',\n",
              " 'rainy',\n",
              " 'radua',\n",
              " 'radu',\n",
              " 'quisi',\n",
              " 'polo']"
            ]
          },
          "metadata": {},
          "execution_count": 5
        }
      ],
      "source": [
        "tokenizer.ids2tokens[20000:20010]"
      ],
      "metadata": {
        "ExecuteTime": {
          "end_time": "2023-11-04T03:26:35.591984Z",
          "start_time": "2023-11-04T03:26:34.251022Z"
        },
        "colab": {
          "base_uri": "https://localhost:8080/"
        },
        "id": "49e486851af408f1",
        "outputId": "f68e1aa9-bc4c-4df1-9852-79e5884efb7f"
      },
      "id": "49e486851af408f1"
    },
    {
      "cell_type": "code",
      "execution_count": null,
      "outputs": [],
      "source": [
        "print(allLines[0])\n",
        "encoded = tokenizer.encode([allLines[0]])['input_ids'][0]\n",
        "print(encoded)\n",
        "decoded = tokenizer.decode(encoded)\n",
        "print(decoded)\n",
        "print([tokenizer.ids2tokens[id] for id in encoded])"
      ],
      "metadata": {
        "ExecuteTime": {
          "end_time": "2023-11-04T04:00:06.165904Z",
          "start_time": "2023-11-04T04:00:04.614850Z"
        },
        "id": "7ddf310705e65dde"
      },
      "id": "7ddf310705e65dde"
    },
    {
      "cell_type": "markdown",
      "source": [
        "__Задание 1 (0 баллов)__\n",
        "Прочитайте датасет и сложите все в `DataLoader`. Вы можете предобрабатывать тексты дополнительно как вам хочется."
      ],
      "metadata": {
        "collapsed": false,
        "id": "1d9f97ad-153d-4d3a-bd95-7ead9139de05"
      },
      "id": "1d9f97ad-153d-4d3a-bd95-7ead9139de05"
    },
    {
      "cell_type": "code",
      "execution_count": null,
      "outputs": [],
      "source": [
        "import torch\n",
        "from torch.utils.data import Dataset, DataLoader\n",
        "\n",
        "class RecommendationsDataset(Dataset):\n",
        "    def __init__(self, data, labels):\n",
        "        self.data = torch.LongTensor(data)\n",
        "        self.labels = torch.FloatTensor(labels)\n",
        "\n",
        "    def __len__(self):\n",
        "        return len(self.data)\n",
        "\n",
        "    def __getitem__(self, index):\n",
        "        text = self.data[index]\n",
        "        label = self.labels[index]\n",
        "        return text, label"
      ],
      "metadata": {
        "ExecuteTime": {
          "end_time": "2023-11-04T04:31:35.374781Z",
          "start_time": "2023-11-04T04:31:35.200550Z"
        },
        "id": "a415009e2a3dfab3"
      },
      "id": "a415009e2a3dfab3"
    },
    {
      "cell_type": "code",
      "source": [
        "dim_size = 32\n",
        "\n",
        "with open(\"datasets/IMDb/train/negative\", 'r') as file:\n",
        "    trainNegativeLines = [str.lower().replace('\\n', '').replace('<br /><br />', '') for str in file.readlines()]\n",
        "    for line in trainNegativeLines:\n",
        "        while '  ' in line:\n",
        "            line = line.replace('  ', ' ')\n",
        "with open(\"datasets/IMDb/train/positive\", 'r') as file:\n",
        "    trainPositiveLines = [str.lower().replace('\\n', '').replace('<br /><br />', '') for str in file.readlines()]\n",
        "    for line in trainPositiveLines:\n",
        "        while '  ' in line:\n",
        "            line = line.replace('  ', ' ')\n",
        "\n",
        "with open(\"datasets/IMDb/test/negative\", 'r') as file:\n",
        "    testNegativeLines = [str.lower().replace('\\n', '').replace('<br /><br />', '') for str in file.readlines()]\n",
        "    for line in testNegativeLines:\n",
        "        while '  ' in line:\n",
        "            line = line.replace('  ', ' ')\n",
        "with open(\"datasets/IMDb/test/positive\", 'r') as file:\n",
        "    testPositiveLines = [str.lower().replace('\\n', '').replace('<br /><br />', '') for str in file.readlines()]\n",
        "    for line in testPositiveLines:\n",
        "        while '  ' in line:\n",
        "            line = line.replace('  ', ' ')\n",
        "\n",
        "trainLen = len(trainNegativeLines) + len(trainPositiveLines)\n",
        "tokenizedLines = tokenizer.encode(trainNegativeLines + trainPositiveLines + testNegativeLines + testPositiveLines)['input_ids']\n",
        "trainLabels = [0] * len(trainNegativeLines) + [1] * len(trainPositiveLines)\n",
        "trainDataset = RecommendationsDataset(tokenizedLines[:trainLen], trainLabels)\n",
        "trainDataloader = DataLoader(trainDataset, batch_size=64, shuffle=True)\n",
        "\n",
        "testLabels = [0] * len(testNegativeLines) + [1] * len(testPositiveLines)\n",
        "testDataset = RecommendationsDataset(tokenizedLines[trainLen:], testLabels)\n",
        "testDataloader = DataLoader(testDataset, batch_size=64, shuffle=False)"
      ],
      "metadata": {
        "id": "TI5lOiXsLaQr"
      },
      "id": "TI5lOiXsLaQr",
      "execution_count": null,
      "outputs": []
    },
    {
      "cell_type": "code",
      "execution_count": null,
      "outputs": [
        {
          "output_type": "stream",
          "name": "stdout",
          "text": [
            "9788\n",
            "9763\n",
            "493\n"
          ]
        }
      ],
      "source": [
        "print(len(trainDataset))\n",
        "print(len(testDataset))\n",
        "print(len(tokenizedLines[0]))"
      ],
      "metadata": {
        "ExecuteTime": {
          "end_time": "2023-11-04T04:02:34.425513Z",
          "start_time": "2023-11-04T04:02:34.388241Z"
        },
        "colab": {
          "base_uri": "https://localhost:8080/"
        },
        "id": "cf685435ac6e24ed",
        "outputId": "7ce52abf-54b2-431a-e683-4378823f686e"
      },
      "id": "cf685435ac6e24ed"
    },
    {
      "cell_type": "code",
      "execution_count": null,
      "outputs": [],
      "source": [
        "from tqdm import tqdm\n",
        "\n",
        "def accuracy_score(y_pred, y_true):\n",
        "    predictions = (y_pred >= 0.5) * 1\n",
        "    return sum(predictions == y_true) / len(predictions)\n",
        "\n",
        "def train(model, trainDataloader, testDataloader, optim, epochs=30, criterion=torch.nn.BCELoss()):\n",
        "    for i in range(epochs):\n",
        "        trainLosses = []\n",
        "        trainAccs = []\n",
        "        allLen = 0\n",
        "        for X_batch, Y_batch in tqdm(trainDataloader):\n",
        "            optim.zero_grad()\n",
        "            y_predict = model.forward(X_batch.to(device)).squeeze()\n",
        "            loss = criterion(y_predict, Y_batch.to(device))\n",
        "            loss.backward()\n",
        "            optim.step()\n",
        "            # statistics\n",
        "            trainLosses.append(loss.item() * len(X_batch))\n",
        "            trainAccs.append(accuracy_score(y_predict, Y_batch.to(device)) * len(X_batch))\n",
        "            allLen += len(X_batch)\n",
        "        print(f'Epoch {i}: TrainLoss = {sum(trainLosses)/allLen}')\n",
        "        print(f'TrainAcc = {sum(trainAccs)/allLen}')\n",
        "        testLoss, testAcc = evaluate(model, testDataloader, criterion)\n",
        "        print(f'TestLoss = {testLoss}')\n",
        "        print(f'TestAcc = {testAcc}')\n",
        "\n",
        "def evaluate(model, testDataloader, criterion):\n",
        "    testLosses = []\n",
        "    testAccs = []\n",
        "    allLen = 0\n",
        "    with torch.no_grad():\n",
        "        for X_batch, Y_batch in tqdm(testDataloader):\n",
        "            y_predict = model.forward(X_batch.to(device)).squeeze()\n",
        "            loss = criterion(y_predict,Y_batch.to(device))\n",
        "            testLosses.append(loss.item() * len(X_batch))\n",
        "            testAccs.append(accuracy_score(y_predict, Y_batch.to(device)) * len(X_batch))\n",
        "            allLen += len(X_batch)\n",
        "    meanLoss = sum(testLosses)/allLen\n",
        "    meanAcc = sum(testAccs)/allLen\n",
        "    return meanLoss, meanAcc"
      ],
      "metadata": {
        "ExecuteTime": {
          "end_time": "2023-11-04T04:30:43.543111Z",
          "start_time": "2023-11-04T04:30:43.374316Z"
        },
        "id": "ff09bd36683ade5b"
      },
      "id": "ff09bd36683ade5b"
    },
    {
      "cell_type": "markdown",
      "id": "afe2dc88-2b3a-4d92-b9f9-ba60b0c250b7",
      "metadata": {
        "id": "afe2dc88-2b3a-4d92-b9f9-ba60b0c250b7"
      },
      "source": [
        "## Сверточные нейронные сети\n",
        "\n",
        "![image.png](attachment:a19099b8-00da-4f48-ae06-5a72c7d3b5a5.png)\n",
        "\n",
        "__Задание 3 (2 балла)__ В качестве бейзлайна для решения задачи реализуйте и обучите сверточную нейронную сеть с одномерными свертками (`torch.nn.Conv1d`). Число сверточных слоев можете выбрать по своему усмотрению, однако не делайте сеть слишком большой. Это задание требуется для установки бейзлайна, поэтому лучше не тратить много времени на обучение и подгонку параметров. У вас должна получиться точность классификации на тестовой выборке около 80% (больше тоже хорошо)."
      ]
    },
    {
      "cell_type": "code",
      "execution_count": null,
      "id": "17913e1e-444b-45e2-a109-6c393d5fa634",
      "metadata": {
        "ExecuteTime": {
          "end_time": "2023-11-04T00:47:28.260371Z",
          "start_time": "2023-11-04T00:47:28.227745Z"
        },
        "id": "17913e1e-444b-45e2-a109-6c393d5fa634",
        "colab": {
          "base_uri": "https://localhost:8080/"
        },
        "outputId": "f3072d54-bfbf-4ab0-ef55-88e0ae5824bb"
      },
      "outputs": [
        {
          "output_type": "stream",
          "name": "stderr",
          "text": [
            "100%|██████████| 153/153 [00:07<00:00, 20.16it/s]\n"
          ]
        },
        {
          "output_type": "stream",
          "name": "stdout",
          "text": [
            "Epoch 0: TrainLoss = 0.6935907584285074\n",
            "TrainAcc = 0.4978545308113098\n"
          ]
        },
        {
          "output_type": "stream",
          "name": "stderr",
          "text": [
            "100%|██████████| 153/153 [00:00<00:00, 521.56it/s]\n"
          ]
        },
        {
          "output_type": "stream",
          "name": "stdout",
          "text": [
            "TestLoss = 0.6933564984150064\n",
            "TestAcc = 0.5058895945549011\n"
          ]
        },
        {
          "output_type": "stream",
          "name": "stderr",
          "text": [
            "100%|██████████| 153/153 [00:00<00:00, 193.24it/s]\n"
          ]
        },
        {
          "output_type": "stream",
          "name": "stdout",
          "text": [
            "Epoch 1: TrainLoss = 0.6921663202458028\n",
            "TrainAcc = 0.5221700072288513\n"
          ]
        },
        {
          "output_type": "stream",
          "name": "stderr",
          "text": [
            "100%|██████████| 153/153 [00:00<00:00, 357.09it/s]\n"
          ]
        },
        {
          "output_type": "stream",
          "name": "stdout",
          "text": [
            "TestLoss = 0.6926451698869\n",
            "TestAcc = 0.5058895945549011\n"
          ]
        },
        {
          "output_type": "stream",
          "name": "stderr",
          "text": [
            "100%|██████████| 153/153 [00:00<00:00, 194.95it/s]\n"
          ]
        },
        {
          "output_type": "stream",
          "name": "stdout",
          "text": [
            "Epoch 2: TrainLoss = 0.6902510779314154\n",
            "TrainAcc = 0.536575436592102\n"
          ]
        },
        {
          "output_type": "stream",
          "name": "stderr",
          "text": [
            "100%|██████████| 153/153 [00:00<00:00, 416.95it/s]\n"
          ]
        },
        {
          "output_type": "stream",
          "name": "stdout",
          "text": [
            "TestLoss = 0.6920885878374595\n",
            "TestAcc = 0.515620231628418\n"
          ]
        },
        {
          "output_type": "stream",
          "name": "stderr",
          "text": [
            "100%|██████████| 153/153 [00:00<00:00, 258.84it/s]\n"
          ]
        },
        {
          "output_type": "stream",
          "name": "stdout",
          "text": [
            "Epoch 3: TrainLoss = 0.6874403446413422\n",
            "TrainAcc = 0.5567020773887634\n"
          ]
        },
        {
          "output_type": "stream",
          "name": "stderr",
          "text": [
            "100%|██████████| 153/153 [00:00<00:00, 558.80it/s]\n"
          ]
        },
        {
          "output_type": "stream",
          "name": "stdout",
          "text": [
            "TestLoss = 0.6914507389422703\n",
            "TestAcc = 0.5224828720092773\n"
          ]
        },
        {
          "output_type": "stream",
          "name": "stderr",
          "text": [
            "100%|██████████| 153/153 [00:00<00:00, 261.35it/s]\n"
          ]
        },
        {
          "output_type": "stream",
          "name": "stdout",
          "text": [
            "Epoch 4: TrainLoss = 0.6816696485159687\n",
            "TrainAcc = 0.568144679069519\n"
          ]
        },
        {
          "output_type": "stream",
          "name": "stderr",
          "text": [
            "100%|██████████| 153/153 [00:00<00:00, 560.33it/s]\n"
          ]
        },
        {
          "output_type": "stream",
          "name": "stdout",
          "text": [
            "TestLoss = 0.6914701749711182\n",
            "TestAcc = 0.5381542444229126\n"
          ]
        },
        {
          "output_type": "stream",
          "name": "stderr",
          "text": [
            "100%|██████████| 153/153 [00:00<00:00, 267.23it/s]\n"
          ]
        },
        {
          "output_type": "stream",
          "name": "stdout",
          "text": [
            "Epoch 5: TrainLoss = 0.6681256694943748\n",
            "TrainAcc = 0.5948100090026855\n"
          ]
        },
        {
          "output_type": "stream",
          "name": "stderr",
          "text": [
            "100%|██████████| 153/153 [00:00<00:00, 549.02it/s]\n"
          ]
        },
        {
          "output_type": "stream",
          "name": "stdout",
          "text": [
            "TestLoss = 0.6827255980006058\n",
            "TestAcc = 0.5618150234222412\n"
          ]
        },
        {
          "output_type": "stream",
          "name": "stderr",
          "text": [
            "100%|██████████| 153/153 [00:00<00:00, 263.69it/s]\n"
          ]
        },
        {
          "output_type": "stream",
          "name": "stdout",
          "text": [
            "Epoch 6: TrainLoss = 0.6398537070545607\n",
            "TrainAcc = 0.6309767365455627\n"
          ]
        },
        {
          "output_type": "stream",
          "name": "stderr",
          "text": [
            "100%|██████████| 153/153 [00:00<00:00, 557.72it/s]\n"
          ]
        },
        {
          "output_type": "stream",
          "name": "stdout",
          "text": [
            "TestLoss = 0.6574293442721446\n",
            "TestAcc = 0.6115947961807251\n"
          ]
        },
        {
          "output_type": "stream",
          "name": "stderr",
          "text": [
            "100%|██████████| 153/153 [00:00<00:00, 265.55it/s]\n"
          ]
        },
        {
          "output_type": "stream",
          "name": "stdout",
          "text": [
            "Epoch 7: TrainLoss = 0.5941873008638778\n",
            "TrainAcc = 0.6811401844024658\n"
          ]
        },
        {
          "output_type": "stream",
          "name": "stderr",
          "text": [
            "100%|██████████| 153/153 [00:00<00:00, 541.33it/s]\n"
          ]
        },
        {
          "output_type": "stream",
          "name": "stdout",
          "text": [
            "TestLoss = 0.6348136719848537\n",
            "TestAcc = 0.6494929790496826\n"
          ]
        },
        {
          "output_type": "stream",
          "name": "stderr",
          "text": [
            "100%|██████████| 153/153 [00:00<00:00, 270.68it/s]\n"
          ]
        },
        {
          "output_type": "stream",
          "name": "stdout",
          "text": [
            "Epoch 8: TrainLoss = 0.5437777657921966\n",
            "TrainAcc = 0.7210870385169983\n"
          ]
        },
        {
          "output_type": "stream",
          "name": "stderr",
          "text": [
            "100%|██████████| 153/153 [00:00<00:00, 514.07it/s]\n"
          ]
        },
        {
          "output_type": "stream",
          "name": "stdout",
          "text": [
            "TestLoss = 0.5915267478610164\n",
            "TestAcc = 0.6869814395904541\n"
          ]
        },
        {
          "output_type": "stream",
          "name": "stderr",
          "text": [
            "100%|██████████| 153/153 [00:00<00:00, 270.08it/s]\n"
          ]
        },
        {
          "output_type": "stream",
          "name": "stdout",
          "text": [
            "Epoch 9: TrainLoss = 0.4929227970866315\n",
            "TrainAcc = 0.7582754492759705\n"
          ]
        },
        {
          "output_type": "stream",
          "name": "stderr",
          "text": [
            "100%|██████████| 153/153 [00:00<00:00, 538.70it/s]\n"
          ]
        },
        {
          "output_type": "stream",
          "name": "stdout",
          "text": [
            "TestLoss = 0.5661059371469989\n",
            "TestAcc = 0.717095136642456\n"
          ]
        },
        {
          "output_type": "stream",
          "name": "stderr",
          "text": [
            "100%|██████████| 153/153 [00:00<00:00, 265.84it/s]\n"
          ]
        },
        {
          "output_type": "stream",
          "name": "stdout",
          "text": [
            "Epoch 10: TrainLoss = 0.44435632612493803\n",
            "TrainAcc = 0.7948508262634277\n"
          ]
        },
        {
          "output_type": "stream",
          "name": "stderr",
          "text": [
            "100%|██████████| 153/153 [00:00<00:00, 528.43it/s]\n"
          ]
        },
        {
          "output_type": "stream",
          "name": "stdout",
          "text": [
            "TestLoss = 0.5469943008058495\n",
            "TestAcc = 0.7339956760406494\n"
          ]
        },
        {
          "output_type": "stream",
          "name": "stderr",
          "text": [
            "100%|██████████| 153/153 [00:00<00:00, 265.92it/s]\n"
          ]
        },
        {
          "output_type": "stream",
          "name": "stdout",
          "text": [
            "Epoch 11: TrainLoss = 0.40949707694768805\n",
            "TrainAcc = 0.816816508769989\n"
          ]
        },
        {
          "output_type": "stream",
          "name": "stderr",
          "text": [
            "100%|██████████| 153/153 [00:00<00:00, 519.71it/s]\n"
          ]
        },
        {
          "output_type": "stream",
          "name": "stdout",
          "text": [
            "TestLoss = 0.5358945378438623\n",
            "TestAcc = 0.7463894486427307\n"
          ]
        },
        {
          "output_type": "stream",
          "name": "stderr",
          "text": [
            "100%|██████████| 153/153 [00:00<00:00, 264.59it/s]\n"
          ]
        },
        {
          "output_type": "stream",
          "name": "stdout",
          "text": [
            "Epoch 12: TrainLoss = 0.37901324533081365\n",
            "TrainAcc = 0.8315284252166748\n"
          ]
        },
        {
          "output_type": "stream",
          "name": "stderr",
          "text": [
            "100%|██████████| 153/153 [00:00<00:00, 554.90it/s]\n"
          ]
        },
        {
          "output_type": "stream",
          "name": "stdout",
          "text": [
            "TestLoss = 0.5150416361788654\n",
            "TestAcc = 0.7611389756202698\n"
          ]
        },
        {
          "output_type": "stream",
          "name": "stderr",
          "text": [
            "100%|██████████| 153/153 [00:00<00:00, 264.76it/s]\n"
          ]
        },
        {
          "output_type": "stream",
          "name": "stdout",
          "text": [
            "Epoch 13: TrainLoss = 0.34814147422836905\n",
            "TrainAcc = 0.8485901355743408\n"
          ]
        },
        {
          "output_type": "stream",
          "name": "stderr",
          "text": [
            "100%|██████████| 153/153 [00:00<00:00, 556.71it/s]\n"
          ]
        },
        {
          "output_type": "stream",
          "name": "stdout",
          "text": [
            "TestLoss = 0.5167034131806856\n",
            "TestAcc = 0.767694354057312\n"
          ]
        },
        {
          "output_type": "stream",
          "name": "stderr",
          "text": [
            "100%|██████████| 153/153 [00:00<00:00, 210.46it/s]\n"
          ]
        },
        {
          "output_type": "stream",
          "name": "stdout",
          "text": [
            "Epoch 14: TrainLoss = 0.32051030304366634\n",
            "TrainAcc = 0.8621782064437866\n"
          ]
        },
        {
          "output_type": "stream",
          "name": "stderr",
          "text": [
            "100%|██████████| 153/153 [00:00<00:00, 365.13it/s]\n"
          ]
        },
        {
          "output_type": "stream",
          "name": "stdout",
          "text": [
            "TestLoss = 0.49714431003335924\n",
            "TestAcc = 0.7802929282188416\n"
          ]
        },
        {
          "output_type": "stream",
          "name": "stderr",
          "text": [
            "100%|██████████| 153/153 [00:00<00:00, 202.59it/s]\n"
          ]
        },
        {
          "output_type": "stream",
          "name": "stdout",
          "text": [
            "Epoch 15: TrainLoss = 0.30053604180758275\n",
            "TrainAcc = 0.8729056119918823\n"
          ]
        },
        {
          "output_type": "stream",
          "name": "stderr",
          "text": [
            "100%|██████████| 153/153 [00:00<00:00, 413.13it/s]\n"
          ]
        },
        {
          "output_type": "stream",
          "name": "stdout",
          "text": [
            "TestLoss = 0.49352808467166953\n",
            "TestAcc = 0.7841851711273193\n"
          ]
        },
        {
          "output_type": "stream",
          "name": "stderr",
          "text": [
            "100%|██████████| 153/153 [00:00<00:00, 263.12it/s]\n"
          ]
        },
        {
          "output_type": "stream",
          "name": "stdout",
          "text": [
            "Epoch 16: TrainLoss = 0.2764369352622864\n",
            "TrainAcc = 0.8843482136726379\n"
          ]
        },
        {
          "output_type": "stream",
          "name": "stderr",
          "text": [
            "100%|██████████| 153/153 [00:00<00:00, 567.52it/s]\n"
          ]
        },
        {
          "output_type": "stream",
          "name": "stdout",
          "text": [
            "TestLoss = 0.5048877171692051\n",
            "TestAcc = 0.7872580289840698\n"
          ]
        },
        {
          "output_type": "stream",
          "name": "stderr",
          "text": [
            "100%|██████████| 153/153 [00:00<00:00, 265.16it/s]\n"
          ]
        },
        {
          "output_type": "stream",
          "name": "stdout",
          "text": [
            "Epoch 17: TrainLoss = 0.2597494491044482\n",
            "TrainAcc = 0.8934409618377686\n"
          ]
        },
        {
          "output_type": "stream",
          "name": "stderr",
          "text": [
            "100%|██████████| 153/153 [00:00<00:00, 541.61it/s]\n"
          ]
        },
        {
          "output_type": "stream",
          "name": "stdout",
          "text": [
            "TestLoss = 0.5046700307437171\n",
            "TestAcc = 0.7924818396568298\n"
          ]
        },
        {
          "output_type": "stream",
          "name": "stderr",
          "text": [
            "100%|██████████| 153/153 [00:00<00:00, 263.63it/s]\n"
          ]
        },
        {
          "output_type": "stream",
          "name": "stdout",
          "text": [
            "Epoch 18: TrainLoss = 0.23847579143706954\n",
            "TrainAcc = 0.9046792387962341\n"
          ]
        },
        {
          "output_type": "stream",
          "name": "stderr",
          "text": [
            "100%|██████████| 153/153 [00:00<00:00, 549.15it/s]\n"
          ]
        },
        {
          "output_type": "stream",
          "name": "stdout",
          "text": [
            "TestLoss = 0.5139810247071073\n",
            "TestAcc = 0.792789101600647\n"
          ]
        },
        {
          "output_type": "stream",
          "name": "stderr",
          "text": [
            "100%|██████████| 153/153 [00:00<00:00, 262.18it/s]\n"
          ]
        },
        {
          "output_type": "stream",
          "name": "stdout",
          "text": [
            "Epoch 19: TrainLoss = 0.22356296961873612\n",
            "TrainAcc = 0.9112178087234497\n"
          ]
        },
        {
          "output_type": "stream",
          "name": "stderr",
          "text": [
            "100%|██████████| 153/153 [00:00<00:00, 555.66it/s]\n"
          ]
        },
        {
          "output_type": "stream",
          "name": "stdout",
          "text": [
            "TestLoss = 0.5020928596370865\n",
            "TestAcc = 0.8003687262535095\n"
          ]
        },
        {
          "output_type": "stream",
          "name": "stderr",
          "text": [
            "100%|██████████| 153/153 [00:00<00:00, 271.55it/s]\n"
          ]
        },
        {
          "output_type": "stream",
          "name": "stdout",
          "text": [
            "Epoch 20: TrainLoss = 0.20811413561001962\n",
            "TrainAcc = 0.9168369770050049\n"
          ]
        },
        {
          "output_type": "stream",
          "name": "stderr",
          "text": [
            "100%|██████████| 153/153 [00:00<00:00, 531.26it/s]\n"
          ]
        },
        {
          "output_type": "stream",
          "name": "stdout",
          "text": [
            "TestLoss = 0.512002637679858\n",
            "TestAcc = 0.8042609691619873\n"
          ]
        },
        {
          "output_type": "stream",
          "name": "stderr",
          "text": [
            "100%|██████████| 153/153 [00:00<00:00, 264.36it/s]\n"
          ]
        },
        {
          "output_type": "stream",
          "name": "stdout",
          "text": [
            "Epoch 21: TrainLoss = 0.19305613548062897\n",
            "TrainAcc = 0.9229668974876404\n"
          ]
        },
        {
          "output_type": "stream",
          "name": "stderr",
          "text": [
            "100%|██████████| 153/153 [00:00<00:00, 538.98it/s]\n"
          ]
        },
        {
          "output_type": "stream",
          "name": "stdout",
          "text": [
            "TestLoss = 0.5301845271262822\n",
            "TestAcc = 0.8075386881828308\n"
          ]
        },
        {
          "output_type": "stream",
          "name": "stderr",
          "text": [
            "100%|██████████| 153/153 [00:00<00:00, 269.07it/s]\n"
          ]
        },
        {
          "output_type": "stream",
          "name": "stdout",
          "text": [
            "Epoch 22: TrainLoss = 0.18123560045926873\n",
            "TrainAcc = 0.9270535707473755\n"
          ]
        },
        {
          "output_type": "stream",
          "name": "stderr",
          "text": [
            "100%|██████████| 153/153 [00:00<00:00, 519.80it/s]\n"
          ]
        },
        {
          "output_type": "stream",
          "name": "stdout",
          "text": [
            "TestLoss = 0.5400370719808176\n",
            "TestAcc = 0.8094847798347473\n"
          ]
        },
        {
          "output_type": "stream",
          "name": "stderr",
          "text": [
            "100%|██████████| 153/153 [00:00<00:00, 262.98it/s]\n"
          ]
        },
        {
          "output_type": "stream",
          "name": "stdout",
          "text": [
            "Epoch 23: TrainLoss = 0.16838753715760377\n",
            "TrainAcc = 0.935431182384491\n"
          ]
        },
        {
          "output_type": "stream",
          "name": "stderr",
          "text": [
            "100%|██████████| 153/153 [00:00<00:00, 533.85it/s]\n"
          ]
        },
        {
          "output_type": "stream",
          "name": "stdout",
          "text": [
            "TestLoss = 0.5520928753920539\n",
            "TestAcc = 0.8073338270187378\n"
          ]
        },
        {
          "output_type": "stream",
          "name": "stderr",
          "text": [
            "100%|██████████| 153/153 [00:00<00:00, 264.42it/s]\n"
          ]
        },
        {
          "output_type": "stream",
          "name": "stdout",
          "text": [
            "Epoch 24: TrainLoss = 0.15038273375120562\n",
            "TrainAcc = 0.9458521008491516\n"
          ]
        },
        {
          "output_type": "stream",
          "name": "stderr",
          "text": [
            "100%|██████████| 153/153 [00:00<00:00, 547.65it/s]\n"
          ]
        },
        {
          "output_type": "stream",
          "name": "stdout",
          "text": [
            "TestLoss = 0.5694530864456913\n",
            "TestAcc = 0.8103042244911194\n"
          ]
        },
        {
          "output_type": "stream",
          "name": "stderr",
          "text": [
            "100%|██████████| 153/153 [00:00<00:00, 266.00it/s]\n"
          ]
        },
        {
          "output_type": "stream",
          "name": "stdout",
          "text": [
            "Epoch 25: TrainLoss = 0.14118955012153594\n",
            "TrainAcc = 0.9478954076766968\n"
          ]
        },
        {
          "output_type": "stream",
          "name": "stderr",
          "text": [
            "100%|██████████| 153/153 [00:00<00:00, 526.57it/s]\n"
          ]
        },
        {
          "output_type": "stream",
          "name": "stdout",
          "text": [
            "TestLoss = 0.5916835489263792\n",
            "TestAcc = 0.8094847798347473\n"
          ]
        },
        {
          "output_type": "stream",
          "name": "stderr",
          "text": [
            "100%|██████████| 153/153 [00:00<00:00, 263.13it/s]\n"
          ]
        },
        {
          "output_type": "stream",
          "name": "stdout",
          "text": [
            "Epoch 26: TrainLoss = 0.12770032572122705\n",
            "TrainAcc = 0.9544340372085571\n"
          ]
        },
        {
          "output_type": "stream",
          "name": "stderr",
          "text": [
            "100%|██████████| 153/153 [00:00<00:00, 551.19it/s]\n"
          ]
        },
        {
          "output_type": "stream",
          "name": "stdout",
          "text": [
            "TestLoss = 0.6035770459411013\n",
            "TestAcc = 0.8127624988555908\n"
          ]
        },
        {
          "output_type": "stream",
          "name": "stderr",
          "text": [
            "100%|██████████| 153/153 [00:00<00:00, 220.29it/s]\n"
          ]
        },
        {
          "output_type": "stream",
          "name": "stdout",
          "text": [
            "Epoch 27: TrainLoss = 0.11755912486672353\n",
            "TrainAcc = 0.9597466588020325\n"
          ]
        },
        {
          "output_type": "stream",
          "name": "stderr",
          "text": [
            "100%|██████████| 153/153 [00:00<00:00, 389.68it/s]\n"
          ]
        },
        {
          "output_type": "stream",
          "name": "stdout",
          "text": [
            "TestLoss = 0.6219745513040683\n",
            "TestAcc = 0.813069760799408\n"
          ]
        },
        {
          "output_type": "stream",
          "name": "stderr",
          "text": [
            "100%|██████████| 153/153 [00:00<00:00, 205.72it/s]\n"
          ]
        },
        {
          "output_type": "stream",
          "name": "stdout",
          "text": [
            "Epoch 28: TrainLoss = 0.10645703840155868\n",
            "TrainAcc = 0.9625051021575928\n"
          ]
        },
        {
          "output_type": "stream",
          "name": "stderr",
          "text": [
            "100%|██████████| 153/153 [00:00<00:00, 349.67it/s]\n"
          ]
        },
        {
          "output_type": "stream",
          "name": "stdout",
          "text": [
            "TestLoss = 0.6515915741518019\n",
            "TestAcc = 0.8150159120559692\n"
          ]
        },
        {
          "output_type": "stream",
          "name": "stderr",
          "text": [
            "100%|██████████| 153/153 [00:00<00:00, 243.49it/s]\n"
          ]
        },
        {
          "output_type": "stream",
          "name": "stdout",
          "text": [
            "Epoch 29: TrainLoss = 0.09746299805077768\n",
            "TrainAcc = 0.967409074306488\n"
          ]
        },
        {
          "output_type": "stream",
          "name": "stderr",
          "text": [
            "100%|██████████| 153/153 [00:00<00:00, 553.83it/s]"
          ]
        },
        {
          "output_type": "stream",
          "name": "stdout",
          "text": [
            "TestLoss = 0.6774696500089146\n",
            "TestAcc = 0.8160401582717896\n"
          ]
        },
        {
          "output_type": "stream",
          "name": "stderr",
          "text": [
            "\n"
          ]
        }
      ],
      "source": [
        "from models import ConvNN\n",
        "\n",
        "convModel = ConvNN(words_count=493,dim_hidden=dim_size).to(device)\n",
        "convOptim = torch.optim.Adam(convModel.parameters(), lr=3e-4)\n",
        "train(convModel, trainDataloader, testDataloader, convOptim, n_epochs=30)"
      ]
    },
    {
      "cell_type": "markdown",
      "id": "b583c4a5-a42f-48d8-aea5-45dab7564963",
      "metadata": {
        "id": "b583c4a5-a42f-48d8-aea5-45dab7564963"
      },
      "source": [
        "## Рекуррентные нейронные сети\n",
        "\n",
        "![image.png](attachment:e0b5ba38-0b1d-4d2a-a685-f1a003e05324.png)\n",
        "\n",
        "В этой секции вам предстоит реализовать два вида рекуррентных нейронных сетей: RNN, LSTM. Вот они с слева направо. Начнем с RNN.\n",
        "\n",
        "__Задание 4 (1.5 балла)__ Реализуйте классическую рекуррентную нейронную сеть с одним слоем. Как вы знаете из лекции, такая сеть плохо выучивает долгосточные зависимости в данных, поэтому работают плохо с длинными текстами. Обучите реализованную RNN и проверьте, так ли это, замерив точность на тестовой выборке."
      ]
    },
    {
      "cell_type": "code",
      "execution_count": null,
      "outputs": [
        {
          "output_type": "stream",
          "name": "stderr",
          "text": [
            "100%|██████████| 153/153 [01:16<00:00,  2.01it/s]\n"
          ]
        },
        {
          "output_type": "stream",
          "name": "stdout",
          "text": [
            "Epoch 0: TrainLoss = 0.6942532409635621\n",
            "TrainAcc = 0.49969351291656494\n"
          ]
        },
        {
          "output_type": "stream",
          "name": "stderr",
          "text": [
            "100%|██████████| 153/153 [00:21<00:00,  7.15it/s]\n"
          ]
        },
        {
          "output_type": "stream",
          "name": "stdout",
          "text": [
            "TestLoss = 0.6943739070812235\n",
            "TestAcc = 0.49400800466537476\n"
          ]
        },
        {
          "output_type": "stream",
          "name": "stderr",
          "text": [
            "100%|██████████| 153/153 [01:16<00:00,  2.00it/s]\n"
          ]
        },
        {
          "output_type": "stream",
          "name": "stdout",
          "text": [
            "Epoch 1: TrainLoss = 0.6923507496099546\n",
            "TrainAcc = 0.5139967203140259\n"
          ]
        },
        {
          "output_type": "stream",
          "name": "stderr",
          "text": [
            "100%|██████████| 153/153 [00:21<00:00,  6.97it/s]\n"
          ]
        },
        {
          "output_type": "stream",
          "name": "stdout",
          "text": [
            "TestLoss = 0.692051176005036\n",
            "TestAcc = 0.5164396166801453\n"
          ]
        },
        {
          "output_type": "stream",
          "name": "stderr",
          "text": [
            "100%|██████████| 153/153 [01:16<00:00,  1.99it/s]\n"
          ]
        },
        {
          "output_type": "stream",
          "name": "stdout",
          "text": [
            "Epoch 2: TrainLoss = 0.6916241982931208\n",
            "TrainAcc = 0.5139967203140259\n"
          ]
        },
        {
          "output_type": "stream",
          "name": "stderr",
          "text": [
            "100%|██████████| 153/153 [00:21<00:00,  7.01it/s]\n"
          ]
        },
        {
          "output_type": "stream",
          "name": "stdout",
          "text": [
            "TestLoss = 0.6914723925166573\n",
            "TestAcc = 0.5168493390083313\n"
          ]
        },
        {
          "output_type": "stream",
          "name": "stderr",
          "text": [
            "100%|██████████| 153/153 [01:16<00:00,  2.00it/s]\n"
          ]
        },
        {
          "output_type": "stream",
          "name": "stdout",
          "text": [
            "Epoch 3: TrainLoss = 0.6901460335748655\n",
            "TrainAcc = 0.531364917755127\n"
          ]
        },
        {
          "output_type": "stream",
          "name": "stderr",
          "text": [
            "100%|██████████| 153/153 [00:21<00:00,  6.97it/s]\n"
          ]
        },
        {
          "output_type": "stream",
          "name": "stdout",
          "text": [
            "TestLoss = 0.6913192546490969\n",
            "TestAcc = 0.510601282119751\n"
          ]
        },
        {
          "output_type": "stream",
          "name": "stderr",
          "text": [
            "100%|██████████| 153/153 [01:15<00:00,  2.02it/s]\n"
          ]
        },
        {
          "output_type": "stream",
          "name": "stdout",
          "text": [
            "Epoch 4: TrainLoss = 0.6887370690697302\n",
            "TrainAcc = 0.5312627553939819\n"
          ]
        },
        {
          "output_type": "stream",
          "name": "stderr",
          "text": [
            "100%|██████████| 153/153 [00:21<00:00,  6.99it/s]\n"
          ]
        },
        {
          "output_type": "stream",
          "name": "stdout",
          "text": [
            "TestLoss = 0.6905481396585438\n",
            "TestAcc = 0.5115231275558472\n"
          ]
        },
        {
          "output_type": "stream",
          "name": "stderr",
          "text": [
            "100%|██████████| 153/153 [01:16<00:00,  2.01it/s]\n"
          ]
        },
        {
          "output_type": "stream",
          "name": "stdout",
          "text": [
            "Epoch 5: TrainLoss = 0.6870048433895446\n",
            "TrainAcc = 0.5416836738586426\n"
          ]
        },
        {
          "output_type": "stream",
          "name": "stderr",
          "text": [
            "100%|██████████| 153/153 [00:22<00:00,  6.82it/s]\n"
          ]
        },
        {
          "output_type": "stream",
          "name": "stdout",
          "text": [
            "TestLoss = 0.6889987986900762\n",
            "TestAcc = 0.5364130139350891\n"
          ]
        },
        {
          "output_type": "stream",
          "name": "stderr",
          "text": [
            "100%|██████████| 153/153 [01:16<00:00,  2.00it/s]\n"
          ]
        },
        {
          "output_type": "stream",
          "name": "stdout",
          "text": [
            "Epoch 6: TrainLoss = 0.6847283268978414\n",
            "TrainAcc = 0.5577237606048584\n"
          ]
        },
        {
          "output_type": "stream",
          "name": "stderr",
          "text": [
            "100%|██████████| 153/153 [00:21<00:00,  7.05it/s]\n"
          ]
        },
        {
          "output_type": "stream",
          "name": "stdout",
          "text": [
            "TestLoss = 0.6881562952354014\n",
            "TestAcc = 0.5315989255905151\n"
          ]
        },
        {
          "output_type": "stream",
          "name": "stderr",
          "text": [
            "100%|██████████| 153/153 [01:16<00:00,  2.00it/s]\n"
          ]
        },
        {
          "output_type": "stream",
          "name": "stdout",
          "text": [
            "Epoch 7: TrainLoss = 0.6823989419144029\n",
            "TrainAcc = 0.5602778792381287\n"
          ]
        },
        {
          "output_type": "stream",
          "name": "stderr",
          "text": [
            "100%|██████████| 153/153 [00:21<00:00,  7.04it/s]\n"
          ]
        },
        {
          "output_type": "stream",
          "name": "stdout",
          "text": [
            "TestLoss = 0.6875092475113658\n",
            "TestAcc = 0.5359008312225342\n"
          ]
        },
        {
          "output_type": "stream",
          "name": "stderr",
          "text": [
            "100%|██████████| 153/153 [01:16<00:00,  2.01it/s]\n"
          ]
        },
        {
          "output_type": "stream",
          "name": "stdout",
          "text": [
            "Epoch 8: TrainLoss = 0.6789798181447683\n",
            "TrainAcc = 0.5708010196685791\n"
          ]
        },
        {
          "output_type": "stream",
          "name": "stderr",
          "text": [
            "100%|██████████| 153/153 [00:21<00:00,  6.97it/s]\n"
          ]
        },
        {
          "output_type": "stream",
          "name": "stdout",
          "text": [
            "TestLoss = 0.6864848572260579\n",
            "TestAcc = 0.5378469824790955\n"
          ]
        },
        {
          "output_type": "stream",
          "name": "stderr",
          "text": [
            "100%|██████████| 153/153 [01:16<00:00,  1.99it/s]\n"
          ]
        },
        {
          "output_type": "stream",
          "name": "stdout",
          "text": [
            "Epoch 9: TrainLoss = 0.6759404788028965\n",
            "TrainAcc = 0.5737637877464294\n"
          ]
        },
        {
          "output_type": "stream",
          "name": "stderr",
          "text": [
            "100%|██████████| 153/153 [00:21<00:00,  6.99it/s]\n"
          ]
        },
        {
          "output_type": "stream",
          "name": "stdout",
          "text": [
            "TestLoss = 0.6850330779985437\n",
            "TestAcc = 0.5436853766441345\n"
          ]
        },
        {
          "output_type": "stream",
          "name": "stderr",
          "text": [
            "100%|██████████| 153/153 [01:17<00:00,  1.99it/s]\n"
          ]
        },
        {
          "output_type": "stream",
          "name": "stdout",
          "text": [
            "Epoch 10: TrainLoss = 0.6718817505000512\n",
            "TrainAcc = 0.5787699222564697\n"
          ]
        },
        {
          "output_type": "stream",
          "name": "stderr",
          "text": [
            "100%|██████████| 153/153 [00:21<00:00,  7.14it/s]\n"
          ]
        },
        {
          "output_type": "stream",
          "name": "stdout",
          "text": [
            "TestLoss = 0.6846191431732924\n",
            "TestAcc = 0.5478848814964294\n"
          ]
        },
        {
          "output_type": "stream",
          "name": "stderr",
          "text": [
            "100%|██████████| 153/153 [01:16<00:00,  1.99it/s]\n"
          ]
        },
        {
          "output_type": "stream",
          "name": "stdout",
          "text": [
            "Epoch 11: TrainLoss = 0.6676088290454224\n",
            "TrainAcc = 0.5872496962547302\n"
          ]
        },
        {
          "output_type": "stream",
          "name": "stderr",
          "text": [
            "100%|██████████| 153/153 [00:21<00:00,  7.02it/s]\n"
          ]
        },
        {
          "output_type": "stream",
          "name": "stdout",
          "text": [
            "TestLoss = 0.6838850284054987\n",
            "TestAcc = 0.5444023609161377\n"
          ]
        },
        {
          "output_type": "stream",
          "name": "stderr",
          "text": [
            "100%|██████████| 153/153 [01:16<00:00,  2.01it/s]\n"
          ]
        },
        {
          "output_type": "stream",
          "name": "stdout",
          "text": [
            "Epoch 12: TrainLoss = 0.6614691208078269\n",
            "TrainAcc = 0.598181426525116\n"
          ]
        },
        {
          "output_type": "stream",
          "name": "stderr",
          "text": [
            "100%|██████████| 153/153 [00:22<00:00,  6.75it/s]\n"
          ]
        },
        {
          "output_type": "stream",
          "name": "stdout",
          "text": [
            "TestLoss = 0.6831434646078178\n",
            "TestAcc = 0.5494213104248047\n"
          ]
        },
        {
          "output_type": "stream",
          "name": "stderr",
          "text": [
            "100%|██████████| 153/153 [01:16<00:00,  2.00it/s]\n"
          ]
        },
        {
          "output_type": "stream",
          "name": "stdout",
          "text": [
            "Epoch 13: TrainLoss = 0.6534737185112642\n",
            "TrainAcc = 0.6143236756324768\n"
          ]
        },
        {
          "output_type": "stream",
          "name": "stderr",
          "text": [
            "100%|██████████| 153/153 [00:21<00:00,  6.99it/s]\n"
          ]
        },
        {
          "output_type": "stream",
          "name": "stdout",
          "text": [
            "TestLoss = 0.681929531778015\n",
            "TestAcc = 0.5572057962417603\n"
          ]
        },
        {
          "output_type": "stream",
          "name": "stderr",
          "text": [
            "100%|██████████| 153/153 [01:15<00:00,  2.01it/s]\n"
          ]
        },
        {
          "output_type": "stream",
          "name": "stdout",
          "text": [
            "Epoch 14: TrainLoss = 0.6426881522269068\n",
            "TrainAcc = 0.6371066570281982\n"
          ]
        },
        {
          "output_type": "stream",
          "name": "stderr",
          "text": [
            "100%|██████████| 153/153 [00:21<00:00,  6.96it/s]\n"
          ]
        },
        {
          "output_type": "stream",
          "name": "stdout",
          "text": [
            "TestLoss = 0.6810599399567823\n",
            "TestAcc = 0.5687800645828247\n"
          ]
        },
        {
          "output_type": "stream",
          "name": "stderr",
          "text": [
            "100%|██████████| 153/153 [01:16<00:00,  2.00it/s]\n"
          ]
        },
        {
          "output_type": "stream",
          "name": "stdout",
          "text": [
            "Epoch 15: TrainLoss = 0.6286966040468626\n",
            "TrainAcc = 0.6499795913696289\n"
          ]
        },
        {
          "output_type": "stream",
          "name": "stderr",
          "text": [
            "100%|██████████| 153/153 [00:21<00:00,  7.24it/s]\n"
          ]
        },
        {
          "output_type": "stream",
          "name": "stdout",
          "text": [
            "TestLoss = 0.6795365476136959\n",
            "TestAcc = 0.580559253692627\n"
          ]
        },
        {
          "output_type": "stream",
          "name": "stderr",
          "text": [
            "100%|██████████| 153/153 [01:17<00:00,  1.97it/s]\n"
          ]
        },
        {
          "output_type": "stream",
          "name": "stdout",
          "text": [
            "Epoch 16: TrainLoss = 0.6128934349242063\n",
            "TrainAcc = 0.6644871234893799\n"
          ]
        },
        {
          "output_type": "stream",
          "name": "stderr",
          "text": [
            "100%|██████████| 153/153 [00:21<00:00,  7.03it/s]\n"
          ]
        },
        {
          "output_type": "stream",
          "name": "stdout",
          "text": [
            "TestLoss = 0.6751651215550841\n",
            "TestAcc = 0.5888558626174927\n"
          ]
        },
        {
          "output_type": "stream",
          "name": "stderr",
          "text": [
            "100%|██████████| 153/153 [01:16<00:00,  2.01it/s]\n"
          ]
        },
        {
          "output_type": "stream",
          "name": "stdout",
          "text": [
            "Epoch 17: TrainLoss = 0.5940301471405435\n",
            "TrainAcc = 0.6838986873626709\n"
          ]
        },
        {
          "output_type": "stream",
          "name": "stderr",
          "text": [
            "100%|██████████| 153/153 [00:21<00:00,  7.00it/s]\n"
          ]
        },
        {
          "output_type": "stream",
          "name": "stdout",
          "text": [
            "TestLoss = 0.6695617432783804\n",
            "TestAcc = 0.6041175723075867\n"
          ]
        },
        {
          "output_type": "stream",
          "name": "stderr",
          "text": [
            "100%|██████████| 153/153 [01:16<00:00,  2.01it/s]\n"
          ]
        },
        {
          "output_type": "stream",
          "name": "stdout",
          "text": [
            "Epoch 18: TrainLoss = 0.5748377957780555\n",
            "TrainAcc = 0.701164722442627\n"
          ]
        },
        {
          "output_type": "stream",
          "name": "stderr",
          "text": [
            "100%|██████████| 153/153 [00:21<00:00,  7.01it/s]\n"
          ]
        },
        {
          "output_type": "stream",
          "name": "stdout",
          "text": [
            "TestLoss = 0.662799018731948\n",
            "TestAcc = 0.6207108497619629\n"
          ]
        },
        {
          "output_type": "stream",
          "name": "stderr",
          "text": [
            "100%|██████████| 153/153 [01:15<00:00,  2.01it/s]\n"
          ]
        },
        {
          "output_type": "stream",
          "name": "stdout",
          "text": [
            "Epoch 19: TrainLoss = 0.5557696955468053\n",
            "TrainAcc = 0.7205762267112732\n"
          ]
        },
        {
          "output_type": "stream",
          "name": "stderr",
          "text": [
            "100%|██████████| 153/153 [00:22<00:00,  6.70it/s]"
          ]
        },
        {
          "output_type": "stream",
          "name": "stdout",
          "text": [
            "TestLoss = 0.6723909830993333\n",
            "TestAcc = 0.6303390264511108\n"
          ]
        },
        {
          "output_type": "stream",
          "name": "stderr",
          "text": [
            "\n"
          ]
        }
      ],
      "source": [
        "from models import RNN\n",
        "\n",
        "rnnModel = RNN(dim_embedding=dim_size, dim_hidden=64, device=device).to(device)\n",
        "rnnOptim = torch.optim.Adam(rnnModel.parameters(), lr=3e-4)\n",
        "train(rnnModel, trainDataloader, testDataloader, rnnOptim, epochs=20)"
      ],
      "metadata": {
        "ExecuteTime": {
          "end_time": "2023-11-04T04:44:05.528353Z",
          "start_time": "2023-11-04T04:31:46.598037Z"
        },
        "colab": {
          "base_uri": "https://localhost:8080/"
        },
        "id": "31b147476caa1015",
        "outputId": "41c89833-8254-4a4e-e873-979b696e4f94"
      },
      "id": "31b147476caa1015"
    },
    {
      "cell_type": "markdown",
      "source": [
        "Дообучим модель"
      ],
      "metadata": {
        "id": "2dDyZBlH8C28"
      },
      "id": "2dDyZBlH8C28"
    },
    {
      "cell_type": "code",
      "source": [
        "train(rnnModel, trainDataloader, testDataloader, rnnOptim, epochs=10)"
      ],
      "metadata": {
        "colab": {
          "base_uri": "https://localhost:8080/"
        },
        "id": "twKha19nc3kV",
        "outputId": "92b5bc9a-05cd-48ca-b85d-9bb18983d094"
      },
      "id": "twKha19nc3kV",
      "execution_count": null,
      "outputs": [
        {
          "output_type": "stream",
          "name": "stderr",
          "text": [
            "100%|██████████| 153/153 [01:15<00:00,  2.02it/s]\n"
          ]
        },
        {
          "output_type": "stream",
          "name": "stdout",
          "text": [
            "Epoch 0: TrainLoss = 0.5382784831314414\n",
            "TrainAcc = 0.7347772717475891\n"
          ]
        },
        {
          "output_type": "stream",
          "name": "stderr",
          "text": [
            "100%|██████████| 153/153 [00:21<00:00,  7.04it/s]\n"
          ]
        },
        {
          "output_type": "stream",
          "name": "stdout",
          "text": [
            "TestLoss = 0.6500459776529826\n",
            "TestAcc = 0.6484687328338623\n"
          ]
        },
        {
          "output_type": "stream",
          "name": "stderr",
          "text": [
            "100%|██████████| 153/153 [01:16<00:00,  2.00it/s]\n"
          ]
        },
        {
          "output_type": "stream",
          "name": "stdout",
          "text": [
            "Epoch 1: TrainLoss = 0.5185619271624853\n",
            "TrainAcc = 0.7505108714103699\n"
          ]
        },
        {
          "output_type": "stream",
          "name": "stderr",
          "text": [
            "100%|██████████| 153/153 [00:21<00:00,  7.06it/s]\n"
          ]
        },
        {
          "output_type": "stream",
          "name": "stdout",
          "text": [
            "TestLoss = 0.6482003004772184\n",
            "TestAcc = 0.6531803607940674\n"
          ]
        },
        {
          "output_type": "stream",
          "name": "stderr",
          "text": [
            "100%|██████████| 153/153 [01:16<00:00,  2.00it/s]\n"
          ]
        },
        {
          "output_type": "stream",
          "name": "stdout",
          "text": [
            "Epoch 2: TrainLoss = 0.5005347250576744\n",
            "TrainAcc = 0.7647119164466858\n"
          ]
        },
        {
          "output_type": "stream",
          "name": "stderr",
          "text": [
            "100%|██████████| 153/153 [00:21<00:00,  7.04it/s]\n"
          ]
        },
        {
          "output_type": "stream",
          "name": "stdout",
          "text": [
            "TestLoss = 0.6544530508728968\n",
            "TestAcc = 0.6644474267959595\n"
          ]
        },
        {
          "output_type": "stream",
          "name": "stderr",
          "text": [
            "100%|██████████| 153/153 [01:17<00:00,  1.98it/s]\n"
          ]
        },
        {
          "output_type": "stream",
          "name": "stdout",
          "text": [
            "Epoch 3: TrainLoss = 0.485269270042619\n",
            "TrainAcc = 0.7769718170166016\n"
          ]
        },
        {
          "output_type": "stream",
          "name": "stderr",
          "text": [
            "100%|██████████| 153/153 [00:21<00:00,  7.01it/s]\n"
          ]
        },
        {
          "output_type": "stream",
          "name": "stdout",
          "text": [
            "TestLoss = 0.6377718196556996\n",
            "TestAcc = 0.6683396697044373\n"
          ]
        },
        {
          "output_type": "stream",
          "name": "stderr",
          "text": [
            "100%|██████████| 153/153 [01:17<00:00,  1.98it/s]\n"
          ]
        },
        {
          "output_type": "stream",
          "name": "stdout",
          "text": [
            "Epoch 4: TrainLoss = 0.4662233124375587\n",
            "TrainAcc = 0.7895382046699524\n"
          ]
        },
        {
          "output_type": "stream",
          "name": "stderr",
          "text": [
            "100%|██████████| 153/153 [00:21<00:00,  6.98it/s]\n"
          ]
        },
        {
          "output_type": "stream",
          "name": "stdout",
          "text": [
            "TestLoss = 0.6660260636762775\n",
            "TestAcc = 0.6675202250480652\n"
          ]
        },
        {
          "output_type": "stream",
          "name": "stderr",
          "text": [
            "100%|██████████| 153/153 [01:16<00:00,  1.99it/s]\n"
          ]
        },
        {
          "output_type": "stream",
          "name": "stdout",
          "text": [
            "Epoch 5: TrainLoss = 0.45183744406670906\n",
            "TrainAcc = 0.7981201410293579\n"
          ]
        },
        {
          "output_type": "stream",
          "name": "stderr",
          "text": [
            "100%|██████████| 153/153 [00:22<00:00,  6.89it/s]\n"
          ]
        },
        {
          "output_type": "stream",
          "name": "stdout",
          "text": [
            "TestLoss = 0.6353968603559953\n",
            "TestAcc = 0.6821673512458801\n"
          ]
        },
        {
          "output_type": "stream",
          "name": "stderr",
          "text": [
            "100%|██████████| 153/153 [01:17<00:00,  1.97it/s]\n"
          ]
        },
        {
          "output_type": "stream",
          "name": "stdout",
          "text": [
            "Epoch 6: TrainLoss = 0.43731270678734163\n",
            "TrainAcc = 0.8076215982437134\n"
          ]
        },
        {
          "output_type": "stream",
          "name": "stderr",
          "text": [
            "100%|██████████| 153/153 [00:21<00:00,  7.09it/s]\n"
          ]
        },
        {
          "output_type": "stream",
          "name": "stdout",
          "text": [
            "TestLoss = 0.6369245817680089\n",
            "TestAcc = 0.6889275908470154\n"
          ]
        },
        {
          "output_type": "stream",
          "name": "stderr",
          "text": [
            "100%|██████████| 153/153 [01:16<00:00,  1.99it/s]\n"
          ]
        },
        {
          "output_type": "stream",
          "name": "stdout",
          "text": [
            "Epoch 7: TrainLoss = 0.42171764507749687\n",
            "TrainAcc = 0.816816508769989\n"
          ]
        },
        {
          "output_type": "stream",
          "name": "stderr",
          "text": [
            "100%|██████████| 153/153 [00:21<00:00,  7.00it/s]\n"
          ]
        },
        {
          "output_type": "stream",
          "name": "stdout",
          "text": [
            "TestLoss = 0.635181746961005\n",
            "TestAcc = 0.6873911619186401\n"
          ]
        },
        {
          "output_type": "stream",
          "name": "stderr",
          "text": [
            "100%|██████████| 153/153 [01:16<00:00,  2.00it/s]\n"
          ]
        },
        {
          "output_type": "stream",
          "name": "stdout",
          "text": [
            "Epoch 8: TrainLoss = 0.4144264968575679\n",
            "TrainAcc = 0.8235594630241394\n"
          ]
        },
        {
          "output_type": "stream",
          "name": "stderr",
          "text": [
            "100%|██████████| 153/153 [00:22<00:00,  6.86it/s]\n"
          ]
        },
        {
          "output_type": "stream",
          "name": "stdout",
          "text": [
            "TestLoss = 0.635145000871498\n",
            "TestAcc = 0.6928198337554932\n"
          ]
        },
        {
          "output_type": "stream",
          "name": "stderr",
          "text": [
            "100%|██████████| 153/153 [01:17<00:00,  1.98it/s]\n"
          ]
        },
        {
          "output_type": "stream",
          "name": "stdout",
          "text": [
            "Epoch 9: TrainLoss = 0.3998641362714436\n",
            "TrainAcc = 0.8307110667228699\n"
          ]
        },
        {
          "output_type": "stream",
          "name": "stderr",
          "text": [
            "100%|██████████| 153/153 [00:22<00:00,  6.93it/s]"
          ]
        },
        {
          "output_type": "stream",
          "name": "stdout",
          "text": [
            "TestLoss = 0.6354890530267895\n",
            "TestAcc = 0.6947659850120544\n"
          ]
        },
        {
          "output_type": "stream",
          "name": "stderr",
          "text": [
            "\n"
          ]
        }
      ]
    },
    {
      "cell_type": "markdown",
      "source": [
        "*Модель предсказывает на 10% хуже, чем сверточная сеть. Действительно, долгосрочные зависимости ей улавливать тяжело.*"
      ],
      "metadata": {
        "id": "_al4BWHl2ezX"
      },
      "id": "_al4BWHl2ezX"
    },
    {
      "cell_type": "markdown",
      "id": "e6f8ac09-3170-4ad2-b0d6-692cdc2e51cd",
      "metadata": {
        "id": "e6f8ac09-3170-4ad2-b0d6-692cdc2e51cd"
      },
      "source": [
        "__Задание 5 (2.5 балла)__\n",
        "В предыдущем задании скорее всего качество RNN у вас должно было получиться хуже, чем у CNN. Попробуем исправить это, добавив в модель вектор памяти. Реализуйте модель LSTM и сравните ее качество с RNN. Напомним, что скрытые состояния LSTM считаются по следующим формулам:\n",
        "$$\n",
        "\\begin{gathered}\n",
        "f_t=\\sigma\\left(W_f \\cdot\\left[h_{t-1}, x_t\\right]+b_f\\right) \\\\\n",
        "i_t=\\sigma\\left(W_i \\cdot\\left[h_{t-1}, x_t\\right]+b_i\\right) \\\\\n",
        "o_t=\\sigma\\left(W_o \\cdot\\left[h_{t-1}, x_t\\right]+b_o\\right) \\\\\n",
        "\\tilde{C}_t=\\tanh \\left(W_c \\cdot\\left[h_{t-1}, x_t\\right]+b_c\\right) \\\\\n",
        "C_t=f_t \\odot C_{t-1}+i_t \\odot \\tilde{C}_t \\\\\n",
        "h_t=o_t \\odot \\tanh \\left(C_t\\right)\n",
        "\\end{gathered}\n",
        "$$"
      ]
    },
    {
      "cell_type": "code",
      "execution_count": null,
      "id": "edb7e6f6-72b2-4f7d-a5d1-6dabcade1895",
      "metadata": {
        "id": "edb7e6f6-72b2-4f7d-a5d1-6dabcade1895",
        "colab": {
          "base_uri": "https://localhost:8080/"
        },
        "outputId": "c023e040-ceba-42e7-a84b-c3bb4c615050"
      },
      "outputs": [
        {
          "metadata": {
            "tags": null
          },
          "name": "stderr",
          "output_type": "stream",
          "text": [
            "100%|██████████| 153/153 [03:11<00:00,  1.25s/it]\n"
          ]
        },
        {
          "metadata": {
            "tags": null
          },
          "name": "stdout",
          "output_type": "stream",
          "text": [
            "Epoch 0: TrainLoss = 0.7276189372059175\n",
            "TrainAcc = 0.5084797739982605\n"
          ]
        },
        {
          "metadata": {
            "tags": null
          },
          "name": "stderr",
          "output_type": "stream",
          "text": [
            "100%|██████████| 153/153 [00:49<00:00,  3.06it/s]\n"
          ]
        },
        {
          "metadata": {
            "tags": null
          },
          "name": "stdout",
          "output_type": "stream",
          "text": [
            "TestLoss = 0.6928148559770366\n",
            "TestAcc = 0.5242241024971008\n"
          ]
        },
        {
          "metadata": {
            "tags": null
          },
          "name": "stderr",
          "output_type": "stream",
          "text": [
            "100%|██████████| 153/153 [02:47<00:00,  1.10s/it]\n"
          ]
        },
        {
          "metadata": {
            "tags": null
          },
          "name": "stdout",
          "output_type": "stream",
          "text": [
            "Epoch 1: TrainLoss = 0.6893961555040949\n",
            "TrainAcc = 0.5415815114974976\n"
          ]
        },
        {
          "metadata": {
            "tags": null
          },
          "name": "stderr",
          "output_type": "stream",
          "text": [
            "100%|██████████| 153/153 [00:44<00:00,  3.40it/s]\n"
          ]
        },
        {
          "metadata": {
            "tags": null
          },
          "name": "stdout",
          "output_type": "stream",
          "text": [
            "TestLoss = 0.687451815856696\n",
            "TestAcc = 0.5481921434402466\n"
          ]
        },
        {
          "metadata": {
            "tags": null
          },
          "name": "stderr",
          "output_type": "stream",
          "text": [
            "100%|██████████| 153/153 [02:48<00:00,  1.10s/it]\n"
          ]
        },
        {
          "metadata": {
            "tags": null
          },
          "name": "stdout",
          "output_type": "stream",
          "text": [
            "Epoch 2: TrainLoss = 0.6793435105363544\n",
            "TrainAcc = 0.5733551383018494\n"
          ]
        },
        {
          "metadata": {
            "tags": null
          },
          "name": "stderr",
          "output_type": "stream",
          "text": [
            "100%|██████████| 153/153 [00:44<00:00,  3.44it/s]\n"
          ]
        },
        {
          "metadata": {
            "tags": null
          },
          "name": "stdout",
          "output_type": "stream",
          "text": [
            "TestLoss = 0.6752428388199967\n",
            "TestAcc = 0.5781009793281555\n"
          ]
        },
        {
          "metadata": {
            "tags": null
          },
          "name": "stderr",
          "output_type": "stream",
          "text": [
            "100%|██████████| 153/153 [02:46<00:00,  1.09s/it]\n"
          ]
        },
        {
          "metadata": {
            "tags": null
          },
          "name": "stdout",
          "output_type": "stream",
          "text": [
            "Epoch 3: TrainLoss = 0.6588095478442527\n",
            "TrainAcc = 0.6076828837394714\n"
          ]
        },
        {
          "metadata": {
            "tags": null
          },
          "name": "stderr",
          "output_type": "stream",
          "text": [
            "100%|██████████| 153/153 [00:44<00:00,  3.42it/s]\n"
          ]
        },
        {
          "metadata": {
            "tags": null
          },
          "name": "stdout",
          "output_type": "stream",
          "text": [
            "TestLoss = 0.6507888031423452\n",
            "TestAcc = 0.6214278340339661\n"
          ]
        },
        {
          "metadata": {
            "tags": null
          },
          "name": "stderr",
          "output_type": "stream",
          "text": [
            "100%|██████████| 153/153 [02:47<00:00,  1.09s/it]\n"
          ]
        },
        {
          "metadata": {
            "tags": null
          },
          "name": "stdout",
          "output_type": "stream",
          "text": [
            "Epoch 4: TrainLoss = 0.6232102909622068\n",
            "TrainAcc = 0.6540662050247192\n"
          ]
        },
        {
          "metadata": {
            "tags": null
          },
          "name": "stderr",
          "output_type": "stream",
          "text": [
            "100%|██████████| 153/153 [00:44<00:00,  3.47it/s]\n"
          ]
        },
        {
          "metadata": {
            "tags": null
          },
          "name": "stdout",
          "output_type": "stream",
          "text": [
            "TestLoss = 0.6296401597322114\n",
            "TestAcc = 0.6493905782699585\n"
          ]
        },
        {
          "metadata": {
            "tags": null
          },
          "name": "stderr",
          "output_type": "stream",
          "text": [
            "100%|██████████| 153/153 [02:44<00:00,  1.08s/it]\n"
          ]
        },
        {
          "metadata": {
            "tags": null
          },
          "name": "stdout",
          "output_type": "stream",
          "text": [
            "Epoch 5: TrainLoss = 0.5892461889317243\n",
            "TrainAcc = 0.6906416416168213\n"
          ]
        },
        {
          "metadata": {
            "tags": null
          },
          "name": "stderr",
          "output_type": "stream",
          "text": [
            "100%|██████████| 153/153 [00:44<00:00,  3.44it/s]\n"
          ]
        },
        {
          "metadata": {
            "tags": null
          },
          "name": "stdout",
          "output_type": "stream",
          "text": [
            "TestLoss = 0.6037389419734033\n",
            "TestAcc = 0.6804261207580566\n"
          ]
        },
        {
          "metadata": {
            "tags": null
          },
          "name": "stderr",
          "output_type": "stream",
          "text": [
            "100%|██████████| 153/153 [02:45<00:00,  1.08s/it]\n"
          ]
        },
        {
          "metadata": {
            "tags": null
          },
          "name": "stdout",
          "output_type": "stream",
          "text": [
            "Epoch 6: TrainLoss = 0.5528275537451871\n",
            "TrainAcc = 0.7280343174934387\n"
          ]
        },
        {
          "metadata": {
            "tags": null
          },
          "name": "stderr",
          "output_type": "stream",
          "text": [
            "100%|██████████| 153/153 [00:44<00:00,  3.47it/s]\n"
          ]
        },
        {
          "metadata": {
            "tags": null
          },
          "name": "stdout",
          "output_type": "stream",
          "text": [
            "TestLoss = 0.5816871220613984\n",
            "TestAcc = 0.7017310261726379\n"
          ]
        },
        {
          "metadata": {
            "tags": null
          },
          "name": "stderr",
          "output_type": "stream",
          "text": [
            "100%|██████████| 153/153 [02:42<00:00,  1.07s/it]\n"
          ]
        },
        {
          "metadata": {
            "tags": null
          },
          "name": "stdout",
          "output_type": "stream",
          "text": [
            "Epoch 7: TrainLoss = 0.523393365379056\n",
            "TrainAcc = 0.7508173584938049\n"
          ]
        },
        {
          "metadata": {
            "tags": null
          },
          "name": "stderr",
          "output_type": "stream",
          "text": [
            "100%|██████████| 153/153 [00:44<00:00,  3.48it/s]\n"
          ]
        },
        {
          "metadata": {
            "tags": null
          },
          "name": "stdout",
          "output_type": "stream",
          "text": [
            "TestLoss = 0.5578876036754168\n",
            "TestAcc = 0.7208849787712097\n"
          ]
        },
        {
          "metadata": {
            "tags": null
          },
          "name": "stderr",
          "output_type": "stream",
          "text": [
            "100%|██████████| 153/153 [02:42<00:00,  1.07s/it]\n"
          ]
        },
        {
          "metadata": {
            "tags": null
          },
          "name": "stdout",
          "output_type": "stream",
          "text": [
            "Epoch 8: TrainLoss = 0.4831447368453462\n",
            "TrainAcc = 0.7779935002326965\n"
          ]
        },
        {
          "metadata": {
            "tags": null
          },
          "name": "stderr",
          "output_type": "stream",
          "text": [
            "100%|██████████| 153/153 [00:43<00:00,  3.52it/s]\n"
          ]
        },
        {
          "metadata": {
            "tags": null
          },
          "name": "stdout",
          "output_type": "stream",
          "text": [
            "TestLoss = 0.5395953412318735\n",
            "TestAcc = 0.7408583760261536\n"
          ]
        },
        {
          "metadata": {
            "tags": null
          },
          "name": "stderr",
          "output_type": "stream",
          "text": [
            "100%|██████████| 153/153 [02:41<00:00,  1.06s/it]\n"
          ]
        },
        {
          "metadata": {
            "tags": null
          },
          "name": "stdout",
          "output_type": "stream",
          "text": [
            "Epoch 9: TrainLoss = 0.4478994770516753\n",
            "TrainAcc = 0.8017981052398682\n"
          ]
        },
        {
          "metadata": {
            "tags": null
          },
          "name": "stderr",
          "output_type": "stream",
          "text": [
            "100%|██████████| 153/153 [00:43<00:00,  3.50it/s]\n"
          ]
        },
        {
          "metadata": {
            "tags": null
          },
          "name": "stdout",
          "output_type": "stream",
          "text": [
            "TestLoss = 0.5171614789235034\n",
            "TestAcc = 0.7543787956237793\n"
          ]
        },
        {
          "metadata": {
            "tags": null
          },
          "name": "stderr",
          "output_type": "stream",
          "text": [
            "100%|██████████| 153/153 [02:42<00:00,  1.06s/it]\n"
          ]
        },
        {
          "metadata": {
            "tags": null
          },
          "name": "stdout",
          "output_type": "stream",
          "text": [
            "Epoch 10: TrainLoss = 0.4180894337433136\n",
            "TrainAcc = 0.8198814988136292\n"
          ]
        },
        {
          "metadata": {
            "tags": null
          },
          "name": "stderr",
          "output_type": "stream",
          "text": [
            "100%|██████████| 153/153 [00:44<00:00,  3.41it/s]\n"
          ]
        },
        {
          "metadata": {
            "tags": null
          },
          "name": "stdout",
          "output_type": "stream",
          "text": [
            "TestLoss = 0.5230106667674712\n",
            "TestAcc = 0.741985023021698\n"
          ]
        },
        {
          "metadata": {
            "tags": null
          },
          "name": "stderr",
          "output_type": "stream",
          "text": [
            "100%|██████████| 153/153 [02:42<00:00,  1.07s/it]\n"
          ]
        },
        {
          "metadata": {
            "tags": null
          },
          "name": "stdout",
          "output_type": "stream",
          "text": [
            "Epoch 11: TrainLoss = 0.393724840772264\n",
            "TrainAcc = 0.8309153914451599\n"
          ]
        },
        {
          "metadata": {
            "tags": null
          },
          "name": "stderr",
          "output_type": "stream",
          "text": [
            "100%|██████████| 153/153 [00:44<00:00,  3.45it/s]\n"
          ]
        },
        {
          "metadata": {
            "tags": null
          },
          "name": "stdout",
          "output_type": "stream",
          "text": [
            "TestLoss = 0.49211081449435795\n",
            "TestAcc = 0.7707672119140625\n"
          ]
        },
        {
          "metadata": {
            "tags": null
          },
          "name": "stderr",
          "output_type": "stream",
          "text": [
            "100%|██████████| 153/153 [02:42<00:00,  1.06s/it]\n"
          ]
        },
        {
          "metadata": {
            "tags": null
          },
          "name": "stdout",
          "output_type": "stream",
          "text": [
            "Epoch 12: TrainLoss = 0.36907277140853156\n",
            "TrainAcc = 0.8448100090026855\n"
          ]
        },
        {
          "metadata": {
            "tags": null
          },
          "name": "stderr",
          "output_type": "stream",
          "text": [
            "100%|██████████| 153/153 [00:43<00:00,  3.53it/s]\n"
          ]
        },
        {
          "metadata": {
            "tags": null
          },
          "name": "stdout",
          "output_type": "stream",
          "text": [
            "TestLoss = 0.48448109582202376\n",
            "TestAcc = 0.783365786075592\n"
          ]
        },
        {
          "metadata": {
            "tags": null
          },
          "name": "stderr",
          "output_type": "stream",
          "text": [
            "100%|██████████| 153/153 [02:45<00:00,  1.08s/it]\n"
          ]
        },
        {
          "metadata": {
            "tags": null
          },
          "name": "stdout",
          "output_type": "stream",
          "text": [
            "Epoch 13: TrainLoss = 0.3361241822833181\n",
            "TrainAcc = 0.8621782064437866\n"
          ]
        },
        {
          "metadata": {
            "tags": null
          },
          "name": "stderr",
          "output_type": "stream",
          "text": [
            "100%|██████████| 153/153 [00:44<00:00,  3.44it/s]\n"
          ]
        },
        {
          "metadata": {
            "tags": null
          },
          "name": "stdout",
          "output_type": "stream",
          "text": [
            "TestLoss = 0.4776815780420644\n",
            "TestAcc = 0.7922769784927368\n"
          ]
        },
        {
          "metadata": {
            "tags": null
          },
          "name": "stderr",
          "output_type": "stream",
          "text": [
            "100%|██████████| 153/153 [02:42<00:00,  1.06s/it]\n"
          ]
        },
        {
          "metadata": {
            "tags": null
          },
          "name": "stdout",
          "output_type": "stream",
          "text": [
            "Epoch 14: TrainLoss = 0.3086311854559108\n",
            "TrainAcc = 0.8790355920791626\n"
          ]
        },
        {
          "metadata": {
            "tags": null
          },
          "name": "stderr",
          "output_type": "stream",
          "text": [
            "100%|██████████| 153/153 [00:43<00:00,  3.51it/s]\n"
          ]
        },
        {
          "metadata": {
            "tags": null
          },
          "name": "stdout",
          "output_type": "stream",
          "text": [
            "TestLoss = 0.46197242186985993\n",
            "TestAcc = 0.7943255305290222\n"
          ]
        },
        {
          "metadata": {
            "tags": null
          },
          "name": "stderr",
          "output_type": "stream",
          "text": [
            "100%|██████████| 153/153 [02:38<00:00,  1.04s/it]\n"
          ]
        },
        {
          "metadata": {
            "tags": null
          },
          "name": "stdout",
          "output_type": "stream",
          "text": [
            "Epoch 15: TrainLoss = 0.2917675067258456\n",
            "TrainAcc = 0.8851655125617981\n"
          ]
        },
        {
          "metadata": {
            "tags": null
          },
          "name": "stderr",
          "output_type": "stream",
          "text": [
            "100%|██████████| 153/153 [00:43<00:00,  3.53it/s]\n"
          ]
        },
        {
          "metadata": {
            "tags": null
          },
          "name": "stdout",
          "output_type": "stream",
          "text": [
            "TestLoss = 0.46605073709682304\n",
            "TestAcc = 0.8008809089660645\n"
          ]
        },
        {
          "metadata": {
            "tags": null
          },
          "name": "stderr",
          "output_type": "stream",
          "text": [
            "100%|██████████| 153/153 [02:38<00:00,  1.04s/it]\n"
          ]
        },
        {
          "metadata": {
            "tags": null
          },
          "name": "stdout",
          "output_type": "stream",
          "text": [
            "Epoch 16: TrainLoss = 0.2751163651943694\n",
            "TrainAcc = 0.8939517736434937\n"
          ]
        },
        {
          "metadata": {
            "tags": null
          },
          "name": "stderr",
          "output_type": "stream",
          "text": [
            "100%|██████████| 153/153 [00:43<00:00,  3.55it/s]\n"
          ]
        },
        {
          "metadata": {
            "tags": null
          },
          "name": "stdout",
          "output_type": "stream",
          "text": [
            "TestLoss = 0.4805182478081847\n",
            "TestAcc = 0.7958619594573975\n"
          ]
        },
        {
          "metadata": {
            "tags": null
          },
          "name": "stderr",
          "output_type": "stream",
          "text": [
            "100%|██████████| 153/153 [02:39<00:00,  1.04s/it]\n"
          ]
        },
        {
          "metadata": {
            "tags": null
          },
          "name": "stdout",
          "output_type": "stream",
          "text": [
            "Epoch 17: TrainLoss = 0.2542022149758676\n",
            "TrainAcc = 0.9066203832626343\n"
          ]
        },
        {
          "metadata": {
            "tags": null
          },
          "name": "stderr",
          "output_type": "stream",
          "text": [
            "100%|██████████| 153/153 [00:43<00:00,  3.55it/s]\n"
          ]
        },
        {
          "metadata": {
            "tags": null
          },
          "name": "stdout",
          "output_type": "stream",
          "text": [
            "TestLoss = 0.45975730494984984\n",
            "TestAcc = 0.8052852749824524\n"
          ]
        },
        {
          "metadata": {
            "tags": null
          },
          "name": "stderr",
          "output_type": "stream",
          "text": [
            "100%|██████████| 153/153 [02:39<00:00,  1.04s/it]\n"
          ]
        },
        {
          "metadata": {
            "tags": null
          },
          "name": "stdout",
          "output_type": "stream",
          "text": [
            "Epoch 18: TrainLoss = 0.23986046070413392\n",
            "TrainAcc = 0.9115243554115295\n"
          ]
        },
        {
          "metadata": {
            "tags": null
          },
          "name": "stderr",
          "output_type": "stream",
          "text": [
            "100%|██████████| 153/153 [00:42<00:00,  3.58it/s]\n"
          ]
        },
        {
          "metadata": {
            "tags": null
          },
          "name": "stdout",
          "output_type": "stream",
          "text": [
            "TestLoss = 0.46122279964386653\n",
            "TestAcc = 0.8114309310913086\n"
          ]
        },
        {
          "metadata": {
            "tags": null
          },
          "name": "stderr",
          "output_type": "stream",
          "text": [
            "100%|██████████| 153/153 [02:38<00:00,  1.04s/it]\n"
          ]
        },
        {
          "metadata": {
            "tags": null
          },
          "name": "stdout",
          "output_type": "stream",
          "text": [
            "Epoch 19: TrainLoss = 0.22010286674847349\n",
            "TrainAcc = 0.9208214282989502\n"
          ]
        },
        {
          "metadata": {
            "tags": null
          },
          "name": "stderr",
          "output_type": "stream",
          "text": [
            "100%|██████████| 153/153 [00:43<00:00,  3.48it/s]\n"
          ]
        },
        {
          "metadata": {
            "tags": null
          },
          "name": "stdout",
          "output_type": "stream",
          "text": [
            "TestLoss = 0.4747891467662543\n",
            "TestAcc = 0.8155280351638794\n"
          ]
        },
        {
          "metadata": {
            "tags": null
          },
          "name": "stderr",
          "output_type": "stream",
          "text": [
            "100%|██████████| 153/153 [02:38<00:00,  1.04s/it]\n"
          ]
        },
        {
          "metadata": {
            "tags": null
          },
          "name": "stdout",
          "output_type": "stream",
          "text": [
            "Epoch 20: TrainLoss = 0.20913860171387816\n",
            "TrainAcc = 0.9262362122535706\n"
          ]
        },
        {
          "metadata": {
            "tags": null
          },
          "name": "stderr",
          "output_type": "stream",
          "text": [
            "100%|██████████| 153/153 [00:43<00:00,  3.51it/s]\n"
          ]
        },
        {
          "metadata": {
            "tags": null
          },
          "name": "stdout",
          "output_type": "stream",
          "text": [
            "TestLoss = 0.4588867056251342\n",
            "TestAcc = 0.8141964673995972\n"
          ]
        },
        {
          "metadata": {
            "tags": null
          },
          "name": "stderr",
          "output_type": "stream",
          "text": [
            "100%|██████████| 153/153 [02:38<00:00,  1.03s/it]\n"
          ]
        },
        {
          "metadata": {
            "tags": null
          },
          "name": "stdout",
          "output_type": "stream",
          "text": [
            "Epoch 21: TrainLoss = 0.18979543641142618\n",
            "TrainAcc = 0.935533344745636\n"
          ]
        },
        {
          "metadata": {
            "tags": null
          },
          "name": "stderr",
          "output_type": "stream",
          "text": [
            "100%|██████████| 153/153 [00:43<00:00,  3.53it/s]\n"
          ]
        },
        {
          "metadata": {
            "tags": null
          },
          "name": "stdout",
          "output_type": "stream",
          "text": [
            "TestLoss = 0.47172959592270824\n",
            "TestAcc = 0.8174741268157959\n"
          ]
        },
        {
          "metadata": {
            "tags": null
          },
          "name": "stderr",
          "output_type": "stream",
          "text": [
            "100%|██████████| 153/153 [02:38<00:00,  1.04s/it]\n"
          ]
        },
        {
          "metadata": {
            "tags": null
          },
          "name": "stdout",
          "output_type": "stream",
          "text": [
            "Epoch 22: TrainLoss = 0.17401584478656174\n",
            "TrainAcc = 0.9422762989997864\n"
          ]
        },
        {
          "metadata": {
            "tags": null
          },
          "name": "stderr",
          "output_type": "stream",
          "text": [
            "100%|██████████| 153/153 [00:42<00:00,  3.57it/s]\n"
          ]
        },
        {
          "metadata": {
            "tags": null
          },
          "name": "stdout",
          "output_type": "stream",
          "text": [
            "TestLoss = 0.5067386527316902\n",
            "TestAcc = 0.8173717260360718\n"
          ]
        },
        {
          "metadata": {
            "tags": null
          },
          "name": "stderr",
          "output_type": "stream",
          "text": [
            "100%|██████████| 153/153 [02:37<00:00,  1.03s/it]\n"
          ]
        },
        {
          "metadata": {
            "tags": null
          },
          "name": "stdout",
          "output_type": "stream",
          "text": [
            "Epoch 23: TrainLoss = 0.1637407863352023\n",
            "TrainAcc = 0.9453412294387817\n"
          ]
        },
        {
          "metadata": {
            "tags": null
          },
          "name": "stderr",
          "output_type": "stream",
          "text": [
            "100%|██████████| 153/153 [00:41<00:00,  3.69it/s]\n"
          ]
        },
        {
          "metadata": {
            "tags": null
          },
          "name": "stdout",
          "output_type": "stream",
          "text": [
            "TestLoss = 0.4856408065940273\n",
            "TestAcc = 0.8196251392364502\n"
          ]
        },
        {
          "metadata": {
            "tags": null
          },
          "name": "stderr",
          "output_type": "stream",
          "text": [
            "100%|██████████| 153/153 [02:33<00:00,  1.01s/it]\n"
          ]
        },
        {
          "metadata": {
            "tags": null
          },
          "name": "stdout",
          "output_type": "stream",
          "text": [
            "Epoch 24: TrainLoss = 0.155592595643056\n",
            "TrainAcc = 0.9505516886711121\n"
          ]
        },
        {
          "metadata": {
            "tags": null
          },
          "name": "stderr",
          "output_type": "stream",
          "text": [
            "100%|██████████| 153/153 [00:41<00:00,  3.66it/s]\n"
          ]
        },
        {
          "metadata": {
            "tags": null
          },
          "name": "stdout",
          "output_type": "stream",
          "text": [
            "TestLoss = 0.5216565293927765\n",
            "TestAcc = 0.8155280351638794\n"
          ]
        },
        {
          "metadata": {
            "tags": null
          },
          "name": "stderr",
          "output_type": "stream",
          "text": [
            "100%|██████████| 153/153 [02:34<00:00,  1.01s/it]\n"
          ]
        },
        {
          "metadata": {
            "tags": null
          },
          "name": "stdout",
          "output_type": "stream",
          "text": [
            "Epoch 25: TrainLoss = 0.14170971174823735\n",
            "TrainAcc = 0.9560686945915222\n"
          ]
        },
        {
          "metadata": {
            "tags": null
          },
          "name": "stderr",
          "output_type": "stream",
          "text": [
            "100%|██████████| 153/153 [00:42<00:00,  3.64it/s]\n"
          ]
        },
        {
          "metadata": {
            "tags": null
          },
          "name": "stdout",
          "output_type": "stream",
          "text": [
            "TestLoss = 0.515347025246817\n",
            "TestAcc = 0.8200348615646362\n"
          ]
        },
        {
          "output_type": "stream",
          "name": "stderr",
          "text": [
            "100%|██████████| 153/153 [02:35<00:00,  1.01s/it]\n"
          ]
        },
        {
          "output_type": "stream",
          "name": "stdout",
          "text": [
            "Epoch 26: TrainLoss = 0.1295543083114969\n",
            "TrainAcc = 0.9608704447746277\n"
          ]
        },
        {
          "output_type": "stream",
          "name": "stderr",
          "text": [
            "100%|██████████| 153/153 [00:42<00:00,  3.60it/s]\n"
          ]
        },
        {
          "output_type": "stream",
          "name": "stdout",
          "text": [
            "TestLoss = 0.514182141474814\n",
            "TestAcc = 0.8205469846725464\n"
          ]
        },
        {
          "output_type": "stream",
          "name": "stderr",
          "text": [
            "100%|██████████| 153/153 [02:35<00:00,  1.02s/it]\n"
          ]
        },
        {
          "output_type": "stream",
          "name": "stdout",
          "text": [
            "Epoch 27: TrainLoss = 0.12890316826083195\n",
            "TrainAcc = 0.9596444964408875\n"
          ]
        },
        {
          "output_type": "stream",
          "name": "stderr",
          "text": [
            "100%|██████████| 153/153 [00:42<00:00,  3.63it/s]\n"
          ]
        },
        {
          "output_type": "stream",
          "name": "stdout",
          "text": [
            "TestLoss = 0.5233396943458265\n",
            "TestAcc = 0.8194202780723572\n"
          ]
        },
        {
          "output_type": "stream",
          "name": "stderr",
          "text": [
            "100%|██████████| 153/153 [02:35<00:00,  1.02s/it]\n"
          ]
        },
        {
          "output_type": "stream",
          "name": "stdout",
          "text": [
            "Epoch 28: TrainLoss = 0.11297558040388954\n",
            "TrainAcc = 0.967306911945343\n"
          ]
        },
        {
          "output_type": "stream",
          "name": "stderr",
          "text": [
            "100%|██████████| 153/153 [00:42<00:00,  3.61it/s]\n"
          ]
        },
        {
          "output_type": "stream",
          "name": "stdout",
          "text": [
            "TestLoss = 0.5834472307224298\n",
            "TestAcc = 0.8162450194358826\n"
          ]
        },
        {
          "output_type": "stream",
          "name": "stderr",
          "text": [
            "100%|██████████| 153/153 [02:35<00:00,  1.01s/it]\n"
          ]
        },
        {
          "output_type": "stream",
          "name": "stdout",
          "text": [
            "Epoch 29: TrainLoss = 0.10365928821554951\n",
            "TrainAcc = 0.9711892008781433\n"
          ]
        },
        {
          "output_type": "stream",
          "name": "stderr",
          "text": [
            "100%|██████████| 153/153 [00:42<00:00,  3.64it/s]"
          ]
        },
        {
          "output_type": "stream",
          "name": "stdout",
          "text": [
            "TestLoss = 0.593229417678556\n",
            "TestAcc = 0.8206493854522705\n"
          ]
        },
        {
          "output_type": "stream",
          "name": "stderr",
          "text": [
            "\n"
          ]
        }
      ],
      "source": [
        "from models import LSTM\n",
        "\n",
        "lstmModel = LSTM(dim_embedding=dim_size, dim_hidden=64, device=device).to(device)\n",
        "lstmOptim = torch.optim.Adam(lstmModel.parameters(), lr=3e-4)\n",
        "train(lstmModel, trainDataloader, testDataloader, lstmOptim, epochs=30)"
      ]
    },
    {
      "cell_type": "markdown",
      "source": [
        "***Как видим, модель LSTM дааёт лучше результат, чем RNN: 80% против 70%. Сверочная сеть для классификации текстов самая приятная и по эффективности, и по времени.***"
      ],
      "metadata": {
        "id": "4y41bbyuxAYl"
      },
      "id": "4y41bbyuxAYl"
    },
    {
      "cell_type": "markdown",
      "id": "6d95e025-0075-4cb8-98e2-9bf91d38d8fc",
      "metadata": {
        "tags": [],
        "id": "6d95e025-0075-4cb8-98e2-9bf91d38d8fc"
      },
      "source": [
        "__Бонус (1 балл)__ Проверьте, на что влияет каждый гейт в LSTM. Попробуйте отключать каждый из них по очереди (выход гейта всегда 1) и посмотрите, при отключении каких из них точность падает сильнее. Совпадает ли результат с вашими ожиданиями?"
      ]
    },
    {
      "cell_type": "markdown",
      "source": [
        "*Предположение: gate o повлияет на точность меньше всего, он кажется бесполезным, гейты f и i отразятся на результате сильнее, отключение i будет самым фатальным, так как в контекст будут попадать все векторы без разбору.*"
      ],
      "metadata": {
        "id": "ES2JqloUmuVV"
      },
      "id": "ES2JqloUmuVV"
    },
    {
      "cell_type": "code",
      "execution_count": null,
      "id": "69116d64-3326-4669-93a5-e458933f2b5c",
      "metadata": {
        "id": "69116d64-3326-4669-93a5-e458933f2b5c",
        "colab": {
          "base_uri": "https://localhost:8080/"
        },
        "outputId": "8aff1b62-135f-430f-898c-c3cdd353b5f9"
      },
      "outputs": [
        {
          "output_type": "stream",
          "name": "stderr",
          "text": [
            "100%|██████████| 153/153 [00:48<00:00,  3.15it/s]"
          ]
        },
        {
          "output_type": "stream",
          "name": "stdout",
          "text": [
            "Loss without o: 1.67920076013112   ||||   Accuracy without o: 0.5410222411155701\n"
          ]
        },
        {
          "output_type": "stream",
          "name": "stderr",
          "text": [
            "\n"
          ]
        }
      ],
      "source": [
        "cache_o = lstmModel.Woh.data, lstmModel.boh.data\n",
        "lstmModel.Woh.data = torch.zeros(lstmModel.Woh.shape).to(device)\n",
        "lstmModel.boh.data = torch.ones(lstmModel.boh.shape).to(device)\n",
        "loss, test_acc = evaluate(lstmModel, testDataloader, torch.nn.BCELoss())\n",
        "print(f'Loss without o: {loss}   ||||   Accuracy without o: {test_acc.item()}')\n",
        "lstmModel.Woh.data, lstmModel.boh.data = cache_o"
      ]
    },
    {
      "cell_type": "code",
      "source": [
        "cache_i = lstmModel.Wih.data, lstmModel.bih.data\n",
        "lstmModel.Wih.data = torch.zeros(lstmModel.Wih.shape).to(device)\n",
        "lstmModel.bih.data = torch.ones(lstmModel.bih.shape).to(device)\n",
        "loss, test_acc = evaluate(lstmModel, testDataloader, torch.nn.BCELoss())\n",
        "print(f'Loss without i: {loss}   ||||   Accuracy without i: {test_acc.item()}')\n",
        "lstmModel.Wih.data, lstmModel.bih.data = cache_i"
      ],
      "metadata": {
        "colab": {
          "base_uri": "https://localhost:8080/"
        },
        "id": "NJ_YB2FWyLJ-",
        "outputId": "5948387d-4279-4b9b-8a80-44e8b0e094ea"
      },
      "id": "NJ_YB2FWyLJ-",
      "execution_count": null,
      "outputs": [
        {
          "output_type": "stream",
          "name": "stderr",
          "text": [
            "100%|██████████| 153/153 [00:43<00:00,  3.53it/s]"
          ]
        },
        {
          "output_type": "stream",
          "name": "stdout",
          "text": [
            "Loss without i: 2.8646949304108076   ||||   Accuracy without i: 0.4994366466999054\n"
          ]
        },
        {
          "output_type": "stream",
          "name": "stderr",
          "text": [
            "\n"
          ]
        }
      ]
    },
    {
      "cell_type": "code",
      "source": [
        "cache_f = lstmModel.Wfh.data, lstmModel.bfh.data\n",
        "lstmModel.Wfh.data = torch.zeros(lstmModel.Wfh.shape).to(device)\n",
        "lstmModel.bfh.data = torch.ones(lstmModel.bfh.shape).to(device)\n",
        "loss, test_acc = evaluate(lstmModel, testDataloader, torch.nn.BCELoss())\n",
        "print(f'Loss without f: {loss}   ||||   Accuracy without f: {test_acc.item()}')\n",
        "lstmModel.Wfh.data, lstmModel.bfh.data = cache_f"
      ],
      "metadata": {
        "colab": {
          "base_uri": "https://localhost:8080/"
        },
        "id": "7eqSPLoozEhL",
        "outputId": "b77a4507-81f8-4e9b-c211-08e8127df482"
      },
      "id": "7eqSPLoozEhL",
      "execution_count": null,
      "outputs": [
        {
          "output_type": "stream",
          "name": "stderr",
          "text": [
            "100%|██████████| 153/153 [00:46<00:00,  3.28it/s]"
          ]
        },
        {
          "output_type": "stream",
          "name": "stdout",
          "text": [
            "Loss without f: 0.757747303947469   ||||   Accuracy without f: 0.6685445308685303\n"
          ]
        },
        {
          "output_type": "stream",
          "name": "stderr",
          "text": [
            "\n"
          ]
        }
      ]
    },
    {
      "cell_type": "markdown",
      "source": [
        "*Оказалось, что без вектора i модель вообще не может существовать (как предполагалось), однако и gate o критичен для модели, он выполняет преобразование контекста в hidden вектор. Вектор f, отвечающий за забываемость контекста, не так важен, и без него модель ещё может работать, просто сохраняется вообще весь предыдущий контекст, а не выборочно. Но точность при отключении любого из гейтов значительно падает.*"
      ],
      "metadata": {
        "id": "oVAYkQ9iTdeA"
      },
      "id": "oVAYkQ9iTdeA"
    },
    {
      "cell_type": "markdown",
      "id": "78f154cb-034e-4c63-9dd9-0a80734e7186",
      "metadata": {
        "id": "78f154cb-034e-4c63-9dd9-0a80734e7186"
      },
      "source": [
        "__Задание 6 (1 балл): Многослойная рекуррентная сеть.__\n",
        "Часто увеличение число слоев в рекуррентных нейронных сетях помогает улучшить способность модели извлекать информацию из текста. Дополнительный слой – это еще одна LSTM поверх выходов предыдущей. Добавьте в вашу модель возможность создания сети с произвольным числом слоев. Обучите двухслойную LSTM и сравните качество с однослойной версией. Подтвердилась ли теория?\n",
        "\n",
        "![image.png](attachment:b09010ac-64d0-4606-a033-ec6a4a1f3e87.png)\n"
      ]
    },
    {
      "cell_type": "code",
      "execution_count": null,
      "id": "0ac2b655-d71f-411c-bf93-f2ec241f108c",
      "metadata": {
        "id": "0ac2b655-d71f-411c-bf93-f2ec241f108c",
        "colab": {
          "base_uri": "https://localhost:8080/"
        },
        "outputId": "8cb947f4-a2d6-46af-eae7-364c292a7ffe"
      },
      "outputs": [
        {
          "output_type": "stream",
          "name": "stderr",
          "text": [
            "100%|██████████| 153/153 [04:56<00:00,  1.94s/it]\n"
          ]
        },
        {
          "output_type": "stream",
          "name": "stdout",
          "text": [
            "Epoch 0: TrainLoss = 0.7111695969791669\n",
            "TrainAcc = 0.5085819363594055\n"
          ]
        },
        {
          "output_type": "stream",
          "name": "stderr",
          "text": [
            "100%|██████████| 153/153 [01:18<00:00,  1.95it/s]\n"
          ]
        },
        {
          "output_type": "stream",
          "name": "stdout",
          "text": [
            "TestLoss = 0.6919295886531663\n",
            "TestAcc = 0.5079381465911865\n"
          ]
        },
        {
          "output_type": "stream",
          "name": "stderr",
          "text": [
            "100%|██████████| 153/153 [04:53<00:00,  1.92s/it]\n"
          ]
        },
        {
          "output_type": "stream",
          "name": "stdout",
          "text": [
            "Epoch 1: TrainLoss = 0.6891351203359192\n",
            "TrainAcc = 0.5429096817970276\n"
          ]
        },
        {
          "output_type": "stream",
          "name": "stderr",
          "text": [
            "100%|██████████| 153/153 [01:16<00:00,  2.00it/s]\n"
          ]
        },
        {
          "output_type": "stream",
          "name": "stdout",
          "text": [
            "TestLoss = 0.6883062465103218\n",
            "TestAcc = 0.5323159098625183\n"
          ]
        },
        {
          "output_type": "stream",
          "name": "stderr",
          "text": [
            "100%|██████████| 153/153 [04:56<00:00,  1.93s/it]\n"
          ]
        },
        {
          "output_type": "stream",
          "name": "stdout",
          "text": [
            "Epoch 2: TrainLoss = 0.6693386159042558\n",
            "TrainAcc = 0.5906211733818054\n"
          ]
        },
        {
          "output_type": "stream",
          "name": "stderr",
          "text": [
            "100%|██████████| 153/153 [01:18<00:00,  1.95it/s]\n"
          ]
        },
        {
          "output_type": "stream",
          "name": "stdout",
          "text": [
            "TestLoss = 0.6608482852439271\n",
            "TestAcc = 0.6006350517272949\n"
          ]
        },
        {
          "output_type": "stream",
          "name": "stderr",
          "text": [
            "100%|██████████| 153/153 [04:53<00:00,  1.92s/it]\n"
          ]
        },
        {
          "output_type": "stream",
          "name": "stdout",
          "text": [
            "Epoch 3: TrainLoss = 0.6192386591975232\n",
            "TrainAcc = 0.6624438166618347\n"
          ]
        },
        {
          "output_type": "stream",
          "name": "stderr",
          "text": [
            "100%|██████████| 153/153 [01:16<00:00,  2.00it/s]\n"
          ]
        },
        {
          "output_type": "stream",
          "name": "stdout",
          "text": [
            "TestLoss = 0.6194122347213395\n",
            "TestAcc = 0.6520536541938782\n"
          ]
        },
        {
          "output_type": "stream",
          "name": "stderr",
          "text": [
            "100%|██████████| 153/153 [04:53<00:00,  1.92s/it]\n"
          ]
        },
        {
          "output_type": "stream",
          "name": "stdout",
          "text": [
            "Epoch 4: TrainLoss = 0.5747611852485305\n",
            "TrainAcc = 0.7089293003082275\n"
          ]
        },
        {
          "output_type": "stream",
          "name": "stderr",
          "text": [
            "100%|██████████| 153/153 [01:15<00:00,  2.02it/s]\n"
          ]
        },
        {
          "output_type": "stream",
          "name": "stdout",
          "text": [
            "TestLoss = 0.6271282030607386\n",
            "TestAcc = 0.667212963104248\n"
          ]
        },
        {
          "output_type": "stream",
          "name": "stderr",
          "text": [
            "100%|██████████| 153/153 [04:53<00:00,  1.92s/it]\n"
          ]
        },
        {
          "output_type": "stream",
          "name": "stdout",
          "text": [
            "Epoch 5: TrainLoss = 0.5315583251571967\n",
            "TrainAcc = 0.7420310974121094\n"
          ]
        },
        {
          "output_type": "stream",
          "name": "stderr",
          "text": [
            "100%|██████████| 153/153 [01:15<00:00,  2.03it/s]\n"
          ]
        },
        {
          "output_type": "stream",
          "name": "stdout",
          "text": [
            "TestLoss = 0.566171147742013\n",
            "TestAcc = 0.7099252343177795\n"
          ]
        },
        {
          "output_type": "stream",
          "name": "stderr",
          "text": [
            "100%|██████████| 153/153 [04:53<00:00,  1.92s/it]\n"
          ]
        },
        {
          "output_type": "stream",
          "name": "stdout",
          "text": [
            "Epoch 6: TrainLoss = 0.5031643003213148\n",
            "TrainAcc = 0.7627707719802856\n"
          ]
        },
        {
          "output_type": "stream",
          "name": "stderr",
          "text": [
            "100%|██████████| 153/153 [01:16<00:00,  1.99it/s]\n"
          ]
        },
        {
          "output_type": "stream",
          "name": "stdout",
          "text": [
            "TestLoss = 0.5371366218258999\n",
            "TestAcc = 0.7331762909889221\n"
          ]
        },
        {
          "output_type": "stream",
          "name": "stderr",
          "text": [
            "100%|██████████| 153/153 [04:52<00:00,  1.91s/it]\n"
          ]
        },
        {
          "output_type": "stream",
          "name": "stdout",
          "text": [
            "Epoch 7: TrainLoss = 0.4609081730776336\n",
            "TrainAcc = 0.7915815114974976\n"
          ]
        },
        {
          "output_type": "stream",
          "name": "stderr",
          "text": [
            "100%|██████████| 153/153 [01:15<00:00,  2.02it/s]\n"
          ]
        },
        {
          "output_type": "stream",
          "name": "stdout",
          "text": [
            "TestLoss = 0.5198483030644399\n",
            "TestAcc = 0.7518181204795837\n"
          ]
        },
        {
          "output_type": "stream",
          "name": "stderr",
          "text": [
            "100%|██████████| 153/153 [04:53<00:00,  1.92s/it]\n"
          ]
        },
        {
          "output_type": "stream",
          "name": "stdout",
          "text": [
            "Epoch 8: TrainLoss = 0.4273989092684981\n",
            "TrainAcc = 0.8106865882873535\n"
          ]
        },
        {
          "output_type": "stream",
          "name": "stderr",
          "text": [
            "100%|██████████| 153/153 [01:17<00:00,  1.97it/s]\n"
          ]
        },
        {
          "output_type": "stream",
          "name": "stdout",
          "text": [
            "TestLoss = 0.5090879647443374\n",
            "TestAcc = 0.7641093730926514\n"
          ]
        },
        {
          "output_type": "stream",
          "name": "stderr",
          "text": [
            "100%|██████████| 153/153 [04:57<00:00,  1.95s/it]\n"
          ]
        },
        {
          "output_type": "stream",
          "name": "stdout",
          "text": [
            "Epoch 9: TrainLoss = 0.3973173891518815\n",
            "TrainAcc = 0.8299959301948547\n"
          ]
        },
        {
          "output_type": "stream",
          "name": "stderr",
          "text": [
            "100%|██████████| 153/153 [01:17<00:00,  1.98it/s]"
          ]
        },
        {
          "output_type": "stream",
          "name": "stdout",
          "text": [
            "TestLoss = 0.5148865744054874\n",
            "TestAcc = 0.7573491930961609\n"
          ]
        },
        {
          "output_type": "stream",
          "name": "stderr",
          "text": [
            "\n"
          ]
        }
      ],
      "source": [
        "from models import LSTMnLayers\n",
        "\n",
        "lstm2LModel = LSTMnLayers(dim_embedding=dim_size, dim_hidden=64, n_layers=2, device=device).to(device)\n",
        "lstm2LOptim = torch.optim.Adam(lstm2LModel.parameters(), lr=3e-4)\n",
        "train(lstm2LModel, trainDataloader, testDataloader, lstm2LOptim, epochs=10)"
      ]
    },
    {
      "cell_type": "code",
      "source": [
        "train(lstm2LModel, trainDataloader, testDataloader, lstm2LOptim, epochs=5)"
      ],
      "metadata": {
        "colab": {
          "base_uri": "https://localhost:8080/"
        },
        "id": "KteWeVsckOmx",
        "outputId": "445ae5bc-083f-4d90-b8ad-036773fcd259"
      },
      "id": "KteWeVsckOmx",
      "execution_count": null,
      "outputs": [
        {
          "output_type": "stream",
          "name": "stderr",
          "text": [
            "100%|██████████| 153/153 [04:54<00:00,  1.93s/it]\n"
          ]
        },
        {
          "output_type": "stream",
          "name": "stdout",
          "text": [
            "Epoch 0: TrainLoss = 0.37223726551192704\n",
            "TrainAcc = 0.8452186584472656\n"
          ]
        },
        {
          "output_type": "stream",
          "name": "stderr",
          "text": [
            "100%|██████████| 153/153 [01:17<00:00,  1.98it/s]\n"
          ]
        },
        {
          "output_type": "stream",
          "name": "stdout",
          "text": [
            "TestLoss = 0.4858975432134732\n",
            "TestAcc = 0.7807026505470276\n"
          ]
        },
        {
          "output_type": "stream",
          "name": "stderr",
          "text": [
            "100%|██████████| 153/153 [04:56<00:00,  1.94s/it]\n"
          ]
        },
        {
          "output_type": "stream",
          "name": "stdout",
          "text": [
            "Epoch 1: TrainLoss = 0.35079995098531025\n",
            "TrainAcc = 0.8568655848503113\n"
          ]
        },
        {
          "output_type": "stream",
          "name": "stderr",
          "text": [
            "100%|██████████| 153/153 [01:17<00:00,  1.98it/s]\n"
          ]
        },
        {
          "output_type": "stream",
          "name": "stdout",
          "text": [
            "TestLoss = 0.4984524027558608\n",
            "TestAcc = 0.7843900322914124\n"
          ]
        },
        {
          "output_type": "stream",
          "name": "stderr",
          "text": [
            "100%|██████████| 153/153 [05:00<00:00,  1.97s/it]\n"
          ]
        },
        {
          "output_type": "stream",
          "name": "stdout",
          "text": [
            "Epoch 2: TrainLoss = 0.32710803598835364\n",
            "TrainAcc = 0.8670821785926819\n"
          ]
        },
        {
          "output_type": "stream",
          "name": "stderr",
          "text": [
            "100%|██████████| 153/153 [01:16<00:00,  2.01it/s]\n"
          ]
        },
        {
          "output_type": "stream",
          "name": "stdout",
          "text": [
            "TestLoss = 0.46840797611207463\n",
            "TestAcc = 0.7959643602371216\n"
          ]
        },
        {
          "output_type": "stream",
          "name": "stderr",
          "text": [
            "100%|██████████| 153/153 [04:56<00:00,  1.94s/it]\n"
          ]
        },
        {
          "output_type": "stream",
          "name": "stdout",
          "text": [
            "Epoch 3: TrainLoss = 0.30495727805152056\n",
            "TrainAcc = 0.8810788989067078\n"
          ]
        },
        {
          "output_type": "stream",
          "name": "stderr",
          "text": [
            "100%|██████████| 153/153 [01:16<00:00,  2.01it/s]\n"
          ]
        },
        {
          "output_type": "stream",
          "name": "stdout",
          "text": [
            "TestLoss = 0.4677857994166332\n",
            "TestAcc = 0.7965789437294006\n"
          ]
        },
        {
          "output_type": "stream",
          "name": "stderr",
          "text": [
            "100%|██████████| 153/153 [04:56<00:00,  1.94s/it]\n"
          ]
        },
        {
          "output_type": "stream",
          "name": "stdout",
          "text": [
            "Epoch 4: TrainLoss = 0.2872161137287988\n",
            "TrainAcc = 0.8880261778831482\n"
          ]
        },
        {
          "output_type": "stream",
          "name": "stderr",
          "text": [
            "100%|██████████| 153/153 [01:15<00:00,  2.02it/s]"
          ]
        },
        {
          "output_type": "stream",
          "name": "stdout",
          "text": [
            "TestLoss = 0.5031414609408141\n",
            "TestAcc = 0.798627495765686\n"
          ]
        },
        {
          "output_type": "stream",
          "name": "stderr",
          "text": [
            "\n"
          ]
        }
      ]
    },
    {
      "cell_type": "code",
      "source": [
        "train(lstm2LModel, trainDataloader, testDataloader, lstm2LOptim, epochs=5)"
      ],
      "metadata": {
        "colab": {
          "base_uri": "https://localhost:8080/"
        },
        "id": "qdhLgE1Rtyse",
        "outputId": "859d1785-611f-49ac-9d71-f582e5aa530c"
      },
      "id": "qdhLgE1Rtyse",
      "execution_count": null,
      "outputs": [
        {
          "output_type": "stream",
          "name": "stderr",
          "text": [
            "100%|██████████| 153/153 [04:55<00:00,  1.93s/it]\n"
          ]
        },
        {
          "output_type": "stream",
          "name": "stdout",
          "text": [
            "Epoch 0: TrainLoss = 0.26894116672657925\n",
            "TrainAcc = 0.899162232875824\n"
          ]
        },
        {
          "output_type": "stream",
          "name": "stderr",
          "text": [
            "100%|██████████| 153/153 [01:15<00:00,  2.02it/s]\n"
          ]
        },
        {
          "output_type": "stream",
          "name": "stdout",
          "text": [
            "TestLoss = 0.4719444356723654\n",
            "TestAcc = 0.8112260699272156\n"
          ]
        },
        {
          "output_type": "stream",
          "name": "stderr",
          "text": [
            "100%|██████████| 153/153 [04:55<00:00,  1.93s/it]\n"
          ]
        },
        {
          "output_type": "stream",
          "name": "stdout",
          "text": [
            "Epoch 1: TrainLoss = 0.2518251020298425\n",
            "TrainAcc = 0.9079484939575195\n"
          ]
        },
        {
          "output_type": "stream",
          "name": "stderr",
          "text": [
            "100%|██████████| 153/153 [01:16<00:00,  2.00it/s]\n"
          ]
        },
        {
          "output_type": "stream",
          "name": "stdout",
          "text": [
            "TestLoss = 0.46687212473152234\n",
            "TestAcc = 0.8106114864349365\n"
          ]
        },
        {
          "output_type": "stream",
          "name": "stderr",
          "text": [
            "100%|██████████| 153/153 [04:54<00:00,  1.92s/it]\n"
          ]
        },
        {
          "output_type": "stream",
          "name": "stdout",
          "text": [
            "Epoch 2: TrainLoss = 0.23356093801207867\n",
            "TrainAcc = 0.9153044819831848\n"
          ]
        },
        {
          "output_type": "stream",
          "name": "stderr",
          "text": [
            "100%|██████████| 153/153 [01:17<00:00,  1.98it/s]\n"
          ]
        },
        {
          "output_type": "stream",
          "name": "stdout",
          "text": [
            "TestLoss = 0.45592780039592024\n",
            "TestAcc = 0.8118406534194946\n"
          ]
        },
        {
          "output_type": "stream",
          "name": "stderr",
          "text": [
            "100%|██████████| 153/153 [05:05<00:00,  2.00s/it]\n"
          ]
        },
        {
          "output_type": "stream",
          "name": "stdout",
          "text": [
            "Epoch 3: TrainLoss = 0.21612042144799554\n",
            "TrainAcc = 0.9260318875312805\n"
          ]
        },
        {
          "output_type": "stream",
          "name": "stderr",
          "text": [
            "100%|██████████| 153/153 [01:19<00:00,  1.93it/s]\n"
          ]
        },
        {
          "output_type": "stream",
          "name": "stdout",
          "text": [
            "TestLoss = 0.45250675911592264\n",
            "TestAcc = 0.8170644044876099\n"
          ]
        },
        {
          "output_type": "stream",
          "name": "stderr",
          "text": [
            "100%|██████████| 153/153 [04:59<00:00,  1.96s/it]\n"
          ]
        },
        {
          "output_type": "stream",
          "name": "stdout",
          "text": [
            "Epoch 4: TrainLoss = 0.2095766199770196\n",
            "TrainAcc = 0.9279730319976807\n"
          ]
        },
        {
          "output_type": "stream",
          "name": "stderr",
          "text": [
            "100%|██████████| 153/153 [01:17<00:00,  1.97it/s]"
          ]
        },
        {
          "output_type": "stream",
          "name": "stdout",
          "text": [
            "TestLoss = 0.4745088768984638\n",
            "TestAcc = 0.8204445242881775\n"
          ]
        },
        {
          "output_type": "stream",
          "name": "stderr",
          "text": [
            "\n"
          ]
        }
      ]
    },
    {
      "cell_type": "markdown",
      "source": [
        "*Видим, что качество по сравнению с обычной LSTM не выросло, либо выросло незначитально.*"
      ],
      "metadata": {
        "id": "r7jNxjfh1LEd"
      },
      "id": "r7jNxjfh1LEd"
    },
    {
      "cell_type": "markdown",
      "id": "0aae53d7-c574-4b79-842a-4aa9c7c9830e",
      "metadata": {
        "id": "0aae53d7-c574-4b79-842a-4aa9c7c9830e"
      },
      "source": [
        "__Задание 6 (1 балл): Двунаправленная рекуррентная сеть.__ Для некоторых задач классификации может помочь смотреть на последовательность слева направо и справа налево одновременно. Рекуррентные сети с такой способностью называются двунаправленными (bidirectional). Реализуйте данный функционал в вашей LSTM модели. Заметьте, что такая модификация увеличивает число параметров модели так же, как и добавление еще одного слоя. Какая из этих двух модификаций оказывается лучше?\n",
        "\n",
        "__ВАЖНО:__ Подумайте о том, как лучше агрегировать выходы разнонаправленных моделей. Попробуйте разные способы.\n",
        "\n",
        "![image.png](attachment:38d1abab-a2af-403f-bc0d-ec408b9bfd01.png)"
      ]
    },
    {
      "cell_type": "code",
      "execution_count": null,
      "id": "d9cd4af6-2298-43c5-9648-30d70342ace7",
      "metadata": {
        "id": "d9cd4af6-2298-43c5-9648-30d70342ace7",
        "colab": {
          "base_uri": "https://localhost:8080/"
        },
        "outputId": "48c8d855-7368-4b12-bd1e-683179bb962d"
      },
      "outputs": [
        {
          "metadata": {
            "tags": null
          },
          "name": "stderr",
          "output_type": "stream",
          "text": [
            "100%|██████████| 153/153 [05:32<00:00,  2.18s/it]\n"
          ]
        },
        {
          "metadata": {
            "tags": null
          },
          "name": "stdout",
          "output_type": "stream",
          "text": [
            "Epoch 0: TrainLoss = 0.6914066407550925\n",
            "TrainAcc = 0.5254393219947815\n"
          ]
        },
        {
          "metadata": {
            "tags": null
          },
          "name": "stderr",
          "output_type": "stream",
          "text": [
            "100%|██████████| 153/153 [01:33<00:00,  1.63it/s]\n"
          ]
        },
        {
          "metadata": {
            "tags": null
          },
          "name": "stdout",
          "output_type": "stream",
          "text": [
            "TestLoss = 0.688475683339121\n",
            "TestAcc = 0.5432756543159485\n"
          ]
        },
        {
          "metadata": {
            "tags": null
          },
          "name": "stderr",
          "output_type": "stream",
          "text": [
            "100%|██████████| 153/153 [05:16<00:00,  2.07s/it]\n"
          ]
        },
        {
          "metadata": {
            "tags": null
          },
          "name": "stdout",
          "output_type": "stream",
          "text": [
            "Epoch 1: TrainLoss = 0.6811445576831863\n",
            "TrainAcc = 0.5635471940040588\n"
          ]
        },
        {
          "metadata": {
            "tags": null
          },
          "name": "stderr",
          "output_type": "stream",
          "text": [
            "100%|██████████| 153/153 [01:23<00:00,  1.83it/s]\n"
          ]
        },
        {
          "metadata": {
            "tags": null
          },
          "name": "stdout",
          "output_type": "stream",
          "text": [
            "TestLoss = 0.6749797579353979\n",
            "TestAcc = 0.5858854651451111\n"
          ]
        },
        {
          "metadata": {
            "tags": null
          },
          "name": "stderr",
          "output_type": "stream",
          "text": [
            "100%|██████████| 153/153 [05:15<00:00,  2.06s/it]\n"
          ]
        },
        {
          "metadata": {
            "tags": null
          },
          "name": "stdout",
          "output_type": "stream",
          "text": [
            "Epoch 2: TrainLoss = 0.666792416626159\n",
            "TrainAcc = 0.5987944602966309\n"
          ]
        },
        {
          "metadata": {
            "tags": null
          },
          "name": "stderr",
          "output_type": "stream",
          "text": [
            "100%|██████████| 153/153 [01:23<00:00,  1.83it/s]\n"
          ]
        },
        {
          "metadata": {
            "tags": null
          },
          "name": "stdout",
          "output_type": "stream",
          "text": [
            "TestLoss = 0.677760190056763\n",
            "TestAcc = 0.5634538531303406\n"
          ]
        },
        {
          "metadata": {
            "tags": null
          },
          "name": "stderr",
          "output_type": "stream",
          "text": [
            "100%|██████████| 153/153 [05:16<00:00,  2.07s/it]\n"
          ]
        },
        {
          "metadata": {
            "tags": null
          },
          "name": "stdout",
          "output_type": "stream",
          "text": [
            "Epoch 3: TrainLoss = 0.6550053237991816\n",
            "TrainAcc = 0.6169799566268921\n"
          ]
        },
        {
          "metadata": {
            "tags": null
          },
          "name": "stderr",
          "output_type": "stream",
          "text": [
            "100%|██████████| 153/153 [01:22<00:00,  1.84it/s]\n"
          ]
        },
        {
          "metadata": {
            "tags": null
          },
          "name": "stdout",
          "output_type": "stream",
          "text": [
            "TestLoss = 0.6653109423195768\n",
            "TestAcc = 0.5911092758178711\n"
          ]
        },
        {
          "metadata": {
            "tags": null
          },
          "name": "stderr",
          "output_type": "stream",
          "text": [
            "100%|██████████| 153/153 [05:14<00:00,  2.05s/it]\n"
          ]
        },
        {
          "metadata": {
            "tags": null
          },
          "name": "stdout",
          "output_type": "stream",
          "text": [
            "Epoch 4: TrainLoss = 0.619228137504046\n",
            "TrainAcc = 0.6590723395347595\n"
          ]
        },
        {
          "metadata": {
            "tags": null
          },
          "name": "stderr",
          "output_type": "stream",
          "text": [
            "100%|██████████| 153/153 [01:23<00:00,  1.82it/s]\n"
          ]
        },
        {
          "metadata": {
            "tags": null
          },
          "name": "stdout",
          "output_type": "stream",
          "text": [
            "TestLoss = 0.607572829364375\n",
            "TestAcc = 0.6757144331932068\n"
          ]
        },
        {
          "metadata": {
            "tags": null
          },
          "name": "stderr",
          "output_type": "stream",
          "text": [
            "100%|██████████| 153/153 [05:15<00:00,  2.06s/it]\n"
          ]
        },
        {
          "metadata": {
            "tags": null
          },
          "name": "stdout",
          "output_type": "stream",
          "text": [
            "Epoch 5: TrainLoss = 0.5763444258672732\n",
            "TrainAcc = 0.7056599855422974\n"
          ]
        },
        {
          "metadata": {
            "tags": null
          },
          "name": "stderr",
          "output_type": "stream",
          "text": [
            "100%|██████████| 153/153 [01:25<00:00,  1.79it/s]\n"
          ]
        },
        {
          "metadata": {
            "tags": null
          },
          "name": "stdout",
          "output_type": "stream",
          "text": [
            "TestLoss = 0.58597239195342\n",
            "TestAcc = 0.6988630890846252\n"
          ]
        },
        {
          "metadata": {
            "tags": null
          },
          "name": "stderr",
          "output_type": "stream",
          "text": [
            "100%|██████████| 153/153 [05:15<00:00,  2.06s/it]\n"
          ]
        },
        {
          "metadata": {
            "tags": null
          },
          "name": "stdout",
          "output_type": "stream",
          "text": [
            "Epoch 6: TrainLoss = 0.5442373659301886\n",
            "TrainAcc = 0.734368622303009\n"
          ]
        },
        {
          "metadata": {
            "tags": null
          },
          "name": "stderr",
          "output_type": "stream",
          "text": [
            "100%|██████████| 153/153 [01:23<00:00,  1.84it/s]\n"
          ]
        },
        {
          "metadata": {
            "tags": null
          },
          "name": "stdout",
          "output_type": "stream",
          "text": [
            "TestLoss = 0.5583360140457708\n",
            "TestAcc = 0.7238553762435913\n"
          ]
        },
        {
          "metadata": {
            "tags": null
          },
          "name": "stderr",
          "output_type": "stream",
          "text": [
            "100%|██████████| 153/153 [05:18<00:00,  2.08s/it]\n"
          ]
        },
        {
          "metadata": {
            "tags": null
          },
          "name": "stdout",
          "output_type": "stream",
          "text": [
            "Epoch 7: TrainLoss = 0.501282245054701\n",
            "TrainAcc = 0.7660400867462158\n"
          ]
        },
        {
          "metadata": {
            "tags": null
          },
          "name": "stderr",
          "output_type": "stream",
          "text": [
            "100%|██████████| 153/153 [01:23<00:00,  1.83it/s]\n"
          ]
        },
        {
          "metadata": {
            "tags": null
          },
          "name": "stdout",
          "output_type": "stream",
          "text": [
            "TestLoss = 0.5382032103101628\n",
            "TestAcc = 0.7368636727333069\n"
          ]
        },
        {
          "metadata": {
            "tags": null
          },
          "name": "stderr",
          "output_type": "stream",
          "text": [
            "100%|██████████| 153/153 [05:15<00:00,  2.06s/it]\n"
          ]
        },
        {
          "metadata": {
            "tags": null
          },
          "name": "stdout",
          "output_type": "stream",
          "text": [
            "Epoch 8: TrainLoss = 0.4645618130393938\n",
            "TrainAcc = 0.7888230681419373\n"
          ]
        },
        {
          "metadata": {
            "tags": null
          },
          "name": "stderr",
          "output_type": "stream",
          "text": [
            "100%|██████████| 153/153 [01:24<00:00,  1.81it/s]\n"
          ]
        },
        {
          "metadata": {
            "tags": null
          },
          "name": "stdout",
          "output_type": "stream",
          "text": [
            "TestLoss = 0.5137023382880191\n",
            "TestAcc = 0.7531496286392212\n"
          ]
        },
        {
          "metadata": {
            "tags": null
          },
          "name": "stderr",
          "output_type": "stream",
          "text": [
            "100%|██████████| 153/153 [05:14<00:00,  2.06s/it]\n"
          ]
        },
        {
          "metadata": {
            "tags": null
          },
          "name": "stdout",
          "output_type": "stream",
          "text": [
            "Epoch 9: TrainLoss = 0.43088340474285786\n",
            "TrainAcc = 0.8147732019424438\n"
          ]
        },
        {
          "metadata": {
            "tags": null
          },
          "name": "stderr",
          "output_type": "stream",
          "text": [
            "100%|██████████| 153/153 [01:28<00:00,  1.72it/s]\n"
          ]
        },
        {
          "metadata": {
            "tags": null
          },
          "name": "stdout",
          "output_type": "stream",
          "text": [
            "TestLoss = 0.4967302546862096\n",
            "TestAcc = 0.7698453664779663\n"
          ]
        },
        {
          "metadata": {
            "tags": null
          },
          "name": "stderr",
          "output_type": "stream",
          "text": [
            "100%|██████████| 153/153 [05:18<00:00,  2.08s/it]\n"
          ]
        },
        {
          "metadata": {
            "tags": null
          },
          "name": "stdout",
          "output_type": "stream",
          "text": [
            "Epoch 10: TrainLoss = 0.4058729365108741\n",
            "TrainAcc = 0.8267266154289246\n"
          ]
        },
        {
          "metadata": {
            "tags": null
          },
          "name": "stderr",
          "output_type": "stream",
          "text": [
            "100%|██████████| 153/153 [01:23<00:00,  1.82it/s]\n"
          ]
        },
        {
          "metadata": {
            "tags": null
          },
          "name": "stdout",
          "output_type": "stream",
          "text": [
            "TestLoss = 0.4753790554008339\n",
            "TestAcc = 0.7808051109313965\n"
          ]
        },
        {
          "metadata": {
            "tags": null
          },
          "name": "stderr",
          "output_type": "stream",
          "text": [
            "100%|██████████| 153/153 [05:16<00:00,  2.07s/it]\n"
          ]
        },
        {
          "metadata": {
            "tags": null
          },
          "name": "stdout",
          "output_type": "stream",
          "text": [
            "Epoch 11: TrainLoss = 0.3725179621624761\n",
            "TrainAcc = 0.8463424444198608\n"
          ]
        },
        {
          "metadata": {
            "tags": null
          },
          "name": "stderr",
          "output_type": "stream",
          "text": [
            "100%|██████████| 153/153 [01:23<00:00,  1.83it/s]\n"
          ]
        },
        {
          "metadata": {
            "tags": null
          },
          "name": "stdout",
          "output_type": "stream",
          "text": [
            "TestLoss = 0.48505126730921716\n",
            "TestAcc = 0.7896138429641724\n"
          ]
        },
        {
          "metadata": {
            "tags": null
          },
          "name": "stderr",
          "output_type": "stream",
          "text": [
            "100%|██████████| 153/153 [05:16<00:00,  2.07s/it]\n"
          ]
        },
        {
          "metadata": {
            "tags": null
          },
          "name": "stdout",
          "output_type": "stream",
          "text": [
            "Epoch 12: TrainLoss = 0.35097112127552726\n",
            "TrainAcc = 0.8569677472114563\n"
          ]
        },
        {
          "metadata": {
            "tags": null
          },
          "name": "stderr",
          "output_type": "stream",
          "text": [
            "100%|██████████| 153/153 [01:23<00:00,  1.83it/s]\n"
          ]
        },
        {
          "metadata": {
            "tags": null
          },
          "name": "stdout",
          "output_type": "stream",
          "text": [
            "TestLoss = 0.4533696583300771\n",
            "TestAcc = 0.7969886660575867\n"
          ]
        },
        {
          "metadata": {
            "tags": null
          },
          "name": "stderr",
          "output_type": "stream",
          "text": [
            "100%|██████████| 153/153 [05:15<00:00,  2.06s/it]\n"
          ]
        },
        {
          "metadata": {
            "tags": null
          },
          "name": "stdout",
          "output_type": "stream",
          "text": [
            "Epoch 13: TrainLoss = 0.3235875251442255\n",
            "TrainAcc = 0.8712709546089172\n"
          ]
        },
        {
          "metadata": {
            "tags": null
          },
          "name": "stderr",
          "output_type": "stream",
          "text": [
            "100%|██████████| 153/153 [01:23<00:00,  1.83it/s]\n"
          ]
        },
        {
          "metadata": {
            "tags": null
          },
          "name": "stdout",
          "output_type": "stream",
          "text": [
            "TestLoss = 0.4607007895277426\n",
            "TestAcc = 0.7964764833450317\n"
          ]
        },
        {
          "metadata": {
            "tags": null
          },
          "name": "stderr",
          "output_type": "stream",
          "text": [
            "100%|██████████| 153/153 [05:12<00:00,  2.04s/it]\n"
          ]
        },
        {
          "metadata": {
            "tags": null
          },
          "name": "stdout",
          "output_type": "stream",
          "text": [
            "Epoch 14: TrainLoss = 0.3023920395591574\n",
            "TrainAcc = 0.8809767365455627\n"
          ]
        },
        {
          "metadata": {
            "tags": null
          },
          "name": "stderr",
          "output_type": "stream",
          "text": [
            "100%|██████████| 153/153 [01:23<00:00,  1.84it/s]\n"
          ]
        },
        {
          "metadata": {
            "tags": null
          },
          "name": "stdout",
          "output_type": "stream",
          "text": [
            "TestLoss = 0.45741710312527906\n",
            "TestAcc = 0.8018027544021606\n"
          ]
        },
        {
          "metadata": {
            "tags": null
          },
          "name": "stderr",
          "output_type": "stream",
          "text": [
            "100%|██████████| 153/153 [05:12<00:00,  2.04s/it]\n"
          ]
        },
        {
          "metadata": {
            "tags": null
          },
          "name": "stdout",
          "output_type": "stream",
          "text": [
            "Epoch 15: TrainLoss = 0.285788800358821\n",
            "TrainAcc = 0.8890478014945984\n"
          ]
        },
        {
          "metadata": {
            "tags": null
          },
          "name": "stderr",
          "output_type": "stream",
          "text": [
            "100%|██████████| 153/153 [01:23<00:00,  1.83it/s]\n"
          ]
        },
        {
          "metadata": {
            "tags": null
          },
          "name": "stdout",
          "output_type": "stream",
          "text": [
            "TestLoss = 0.4383254835721131\n",
            "TestAcc = 0.813274621963501\n"
          ]
        },
        {
          "metadata": {
            "tags": null
          },
          "name": "stderr",
          "output_type": "stream",
          "text": [
            "100%|██████████| 153/153 [05:07<00:00,  2.01s/it]\n"
          ]
        },
        {
          "metadata": {
            "tags": null
          },
          "name": "stdout",
          "output_type": "stream",
          "text": [
            "Epoch 16: TrainLoss = 0.2627684791257638\n",
            "TrainAcc = 0.9011033773422241\n"
          ]
        },
        {
          "metadata": {
            "tags": null
          },
          "name": "stderr",
          "output_type": "stream",
          "text": [
            "100%|██████████| 153/153 [01:20<00:00,  1.90it/s]\n"
          ]
        },
        {
          "metadata": {
            "tags": null
          },
          "name": "stdout",
          "output_type": "stream",
          "text": [
            "TestLoss = 0.4405908832586191\n",
            "TestAcc = 0.8173717260360718\n"
          ]
        },
        {
          "metadata": {
            "tags": null
          },
          "name": "stderr",
          "output_type": "stream",
          "text": [
            "100%|██████████| 153/153 [05:03<00:00,  1.99s/it]\n"
          ]
        },
        {
          "metadata": {
            "tags": null
          },
          "name": "stdout",
          "output_type": "stream",
          "text": [
            "Epoch 17: TrainLoss = 0.24353293947872454\n",
            "TrainAcc = 0.9081528782844543\n"
          ]
        },
        {
          "metadata": {
            "tags": null
          },
          "name": "stderr",
          "output_type": "stream",
          "text": [
            "100%|██████████| 153/153 [01:21<00:00,  1.88it/s]\n"
          ]
        },
        {
          "metadata": {
            "tags": null
          },
          "name": "stdout",
          "output_type": "stream",
          "text": [
            "TestLoss = 0.43458277465109574\n",
            "TestAcc = 0.8157328963279724\n"
          ]
        },
        {
          "metadata": {
            "tags": null
          },
          "name": "stderr",
          "output_type": "stream",
          "text": [
            "100%|██████████| 153/153 [05:03<00:00,  1.98s/it]\n"
          ]
        },
        {
          "metadata": {
            "tags": null
          },
          "name": "stdout",
          "output_type": "stream",
          "text": [
            "Epoch 18: TrainLoss = 0.23049291327114635\n",
            "TrainAcc = 0.9123416543006897\n"
          ]
        },
        {
          "metadata": {
            "tags": null
          },
          "name": "stderr",
          "output_type": "stream",
          "text": [
            "100%|██████████| 153/153 [01:20<00:00,  1.90it/s]\n"
          ]
        },
        {
          "metadata": {
            "tags": null
          },
          "name": "stdout",
          "output_type": "stream",
          "text": [
            "TestLoss = 0.5105712092168188\n",
            "TestAcc = 0.8069241046905518\n"
          ]
        },
        {
          "output_type": "stream",
          "name": "stderr",
          "text": [
            "100%|██████████| 153/153 [05:03<00:00,  1.98s/it]\n"
          ]
        },
        {
          "output_type": "stream",
          "name": "stdout",
          "text": [
            "Epoch 19: TrainLoss = 0.21765293786854076\n",
            "TrainAcc = 0.9210257530212402\n"
          ]
        },
        {
          "output_type": "stream",
          "name": "stderr",
          "text": [
            "100%|██████████| 153/153 [01:21<00:00,  1.88it/s]"
          ]
        },
        {
          "output_type": "stream",
          "name": "stdout",
          "text": [
            "TestLoss = 0.4403835864972106\n",
            "TestAcc = 0.8199324011802673\n"
          ]
        },
        {
          "output_type": "stream",
          "name": "stderr",
          "text": [
            "\n"
          ]
        }
      ],
      "source": [
        "from models import LSTMbiDir\n",
        "\n",
        "lstmBiDirModel = LSTMbiDir(dim_embedding=dim_size, dim_hidden=64, device=device).to(device)\n",
        "lstmBiDirOptim = torch.optim.Adam(lstmBiDirModel.parameters(), lr=3e-4)\n",
        "train(lstmBiDirModel, trainDataloader, testDataloader, lstmBiDirOptim, epochs=20)"
      ]
    },
    {
      "cell_type": "markdown",
      "source": [
        "***Итог: Обе модификации не улучшили качество модели и показали примерно равный результат, однако просто LSTM обучается быстрее. Среди всех моделей сверточные сети предпочтительней благодаря своей скорости, ведь accuracy примерно одинаковый, однако LSTM оказался чуть более эффективным (~2% accuracy + выигрыш по лоссу)***"
      ],
      "metadata": {
        "id": "K-DQN96QRLK7"
      },
      "id": "K-DQN96QRLK7"
    }
  ],
  "metadata": {
    "kernelspec": {
      "display_name": "Python 3",
      "name": "python3"
    },
    "language_info": {
      "codemirror_mode": {
        "name": "ipython",
        "version": 3
      },
      "file_extension": ".py",
      "mimetype": "text/x-python",
      "name": "python",
      "nbconvert_exporter": "python",
      "pygments_lexer": "ipython3",
      "version": "3.9.6"
    },
    "colab": {
      "provenance": [],
      "gpuType": "T4"
    }
  },
  "nbformat": 4,
  "nbformat_minor": 5
}